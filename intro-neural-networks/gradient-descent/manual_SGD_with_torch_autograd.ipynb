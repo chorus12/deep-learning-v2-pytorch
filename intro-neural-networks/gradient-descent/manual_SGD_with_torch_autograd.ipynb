{
 "cells": [
  {
   "cell_type": "markdown",
   "metadata": {},
   "source": [
    "# Training a simple linear classification NN with manual pytorch autograd"
   ]
  },
  {
   "cell_type": "code",
   "execution_count": 317,
   "metadata": {},
   "outputs": [],
   "source": [
    "%matplotlib inline\n",
    "import matplotlib.pyplot as plt\n",
    "import torch\n",
    "import torch.nn.functional as F\n",
    "import torch.nn as nn\n",
    "from torch.utils.data import Dataset, DataLoader\n",
    "from pandas import read_csv\n",
    "import numpy as np"
   ]
  },
  {
   "cell_type": "code",
   "execution_count": 318,
   "metadata": {},
   "outputs": [],
   "source": [
    "def plot_points(X, y):\n",
    "    admitted = X[np.argwhere(y==1)]\n",
    "    rejected = X[np.argwhere(y==0)]\n",
    "    plt.scatter([s[0][0] for s in rejected], [s[0][1] for s in rejected], s = 25, color = 'blue', edgecolor = 'k')\n",
    "    plt.scatter([s[0][0] for s in admitted], [s[0][1] for s in admitted], s = 25, color = 'red', edgecolor = 'k')\n",
    "\n",
    "def display(m, b, color='g--'):\n",
    "    plt.xlim(-0.05,1.05)\n",
    "    plt.ylim(-0.05,1.05)\n",
    "    x = np.arange(-10, 10, 0.1)\n",
    "    plt.plot(x, m*x+b, color)"
   ]
  },
  {
   "cell_type": "code",
   "execution_count": 319,
   "metadata": {},
   "outputs": [
    {
     "data": {
      "text/html": [
       "<div>\n",
       "<style scoped>\n",
       "    .dataframe tbody tr th:only-of-type {\n",
       "        vertical-align: middle;\n",
       "    }\n",
       "\n",
       "    .dataframe tbody tr th {\n",
       "        vertical-align: top;\n",
       "    }\n",
       "\n",
       "    .dataframe thead th {\n",
       "        text-align: right;\n",
       "    }\n",
       "</style>\n",
       "<table border=\"1\" class=\"dataframe\">\n",
       "  <thead>\n",
       "    <tr style=\"text-align: right;\">\n",
       "      <th></th>\n",
       "      <th>x</th>\n",
       "      <th>y</th>\n",
       "      <th>target</th>\n",
       "    </tr>\n",
       "  </thead>\n",
       "  <tbody>\n",
       "    <tr>\n",
       "      <th>0</th>\n",
       "      <td>0.78051</td>\n",
       "      <td>-0.063669</td>\n",
       "      <td>1</td>\n",
       "    </tr>\n",
       "    <tr>\n",
       "      <th>1</th>\n",
       "      <td>0.28774</td>\n",
       "      <td>0.291390</td>\n",
       "      <td>1</td>\n",
       "    </tr>\n",
       "    <tr>\n",
       "      <th>2</th>\n",
       "      <td>0.40714</td>\n",
       "      <td>0.178780</td>\n",
       "      <td>1</td>\n",
       "    </tr>\n",
       "    <tr>\n",
       "      <th>3</th>\n",
       "      <td>0.29230</td>\n",
       "      <td>0.421700</td>\n",
       "      <td>1</td>\n",
       "    </tr>\n",
       "    <tr>\n",
       "      <th>4</th>\n",
       "      <td>0.50922</td>\n",
       "      <td>0.352560</td>\n",
       "      <td>1</td>\n",
       "    </tr>\n",
       "  </tbody>\n",
       "</table>\n",
       "</div>"
      ],
      "text/plain": [
       "         x         y  target\n",
       "0  0.78051 -0.063669       1\n",
       "1  0.28774  0.291390       1\n",
       "2  0.40714  0.178780       1\n",
       "3  0.29230  0.421700       1\n",
       "4  0.50922  0.352560       1"
      ]
     },
     "execution_count": 319,
     "metadata": {},
     "output_type": "execute_result"
    }
   ],
   "source": [
    "data = read_csv('data.csv', header=None, names=['x','y','target'])\n",
    "data.head()"
   ]
  },
  {
   "cell_type": "code",
   "execution_count": 320,
   "metadata": {},
   "outputs": [
    {
     "data": {
      "image/png": "[encoded data removed]",
      "text/plain": [
       "<Figure size 432x288 with 2 Axes>"
      ]
     },
     "metadata": {
      "needs_background": "light"
     },
     "output_type": "display_data"
    }
   ],
   "source": [
    "data.plot(kind='scatter', x='x', y='y', c = 'target', colormap = 'plasma_r')\n",
    "plt.show()"
   ]
  },
  {
   "cell_type": "code",
   "execution_count": 321,
   "metadata": {},
   "outputs": [],
   "source": [
    "class PointsDataset(Dataset):\n",
    "    def __init__(self, data, transform = None):\n",
    "        self.points = torch.as_tensor(data[:,:2], dtype=torch.float) # coordinates x and y\n",
    "        self.labels = torch.as_tensor(data[:,2], dtype=torch.float) # lablels\n",
    "        self.len = len(data)\n",
    "        \n",
    "    def __getitem__(self, index):\n",
    "        return self.points[index], self.labels[index]\n",
    "    def __len__(self):\n",
    "        return self.len"
   ]
  },
  {
   "cell_type": "code",
   "execution_count": 322,
   "metadata": {},
   "outputs": [],
   "source": [
    "points = PointsDataset(data.values)"
   ]
  },
  {
   "cell_type": "code",
   "execution_count": 323,
   "metadata": {},
   "outputs": [],
   "source": [
    "points_loader = DataLoader(points, batch_size=20, shuffle=True)"
   ]
  },
  {
   "cell_type": "code",
   "execution_count": 325,
   "metadata": {},
   "outputs": [
    {
     "data": {
      "text/plain": [
       "tensor([[0.6905, 0.8306],\n",
       "        [0.5915, 0.6293],\n",
       "        [0.7771, 0.3503],\n",
       "        [0.6791, 0.6092],\n",
       "        [0.3215, 0.1201],\n",
       "        [0.6597, 0.6667],\n",
       "        [0.8518, 0.6612],\n",
       "        [0.2548, 0.3460],\n",
       "        [0.5899, 0.8695],\n",
       "        [0.6642, 0.7252],\n",
       "        [0.5453, 0.6391],\n",
       "        [0.6991, 0.3731],\n",
       "        [0.2564, 0.4262],\n",
       "        [0.3085, 0.2431],\n",
       "        [0.7144, 0.7668],\n",
       "        [0.5374, 0.2864],\n",
       "        [0.4591, 0.4043],\n",
       "        [0.6097, 0.5476],\n",
       "        [0.4400, 0.3124],\n",
       "        [0.2130, 0.5517]])"
      ]
     },
     "execution_count": 325,
     "metadata": {},
     "output_type": "execute_result"
    }
   ],
   "source": [
    "# display the minibatch data \n",
    "iter(points_loader).next()[0]"
   ]
  },
  {
   "cell_type": "code",
   "execution_count": 327,
   "metadata": {},
   "outputs": [],
   "source": [
    "class PointsNN(nn.Module):\n",
    "    \"\"\"\n",
    "    logistic regression via one layer neural network\n",
    "    gives out probability of positive class\n",
    "    \"\"\"\n",
    "    def __init__(self):\n",
    "        super(PointsNN, self).__init__()\n",
    "        self.l1 = nn.Linear(2,1)\n",
    "    def forward(self, x):\n",
    "        x = self.l1(x)\n",
    "        score = F.relu(x)\n",
    "        out = torch.sigmoid(x)\n",
    "        return out.squeeze() "
   ]
  },
  {
   "cell_type": "code",
   "execution_count": 328,
   "metadata": {},
   "outputs": [],
   "source": [
    "points_nn = PointsNN()"
   ]
  },
  {
   "cell_type": "code",
   "execution_count": 329,
   "metadata": {},
   "outputs": [
    {
     "data": {
      "text/plain": [
       "tensor([0.4180, 0.4071, 0.4841, 0.4123, 0.3916, 0.4393, 0.4028, 0.4763, 0.4357,\n",
       "        0.4117, 0.4725, 0.4429, 0.4495, 0.4803, 0.4193, 0.4787, 0.4235, 0.4350,\n",
       "        0.4957, 0.4184], grad_fn=<SqueezeBackward0>)"
      ]
     },
     "execution_count": 329,
     "metadata": {},
     "output_type": "execute_result"
    }
   ],
   "source": [
    "points_nn(iter(points_loader).next()[0])"
   ]
  },
  {
   "cell_type": "code",
   "execution_count": 330,
   "metadata": {},
   "outputs": [],
   "source": [
    "def get_weights(net):\n",
    "    \"\"\"\n",
    "    get y = m*x + b coefficients from the network\n",
    "    \"\"\"\n",
    "    w1, w2 = net.l1.weight.data.numpy()[0]\n",
    "    b = net.l1.bias.item()\n",
    "    return -w1/w2, -b/w2"
   ]
  },
  {
   "cell_type": "code",
   "execution_count": 331,
   "metadata": {},
   "outputs": [
    {
     "data": {
      "image/png": "[encoded data removed]",
      "text/plain": [
       "<Figure size 432x288 with 1 Axes>"
      ]
     },
     "metadata": {
      "needs_background": "light"
     },
     "output_type": "display_data"
    }
   ],
   "source": [
    "m, b = get_weights(points_nn)\n",
    "display(m,b)"
   ]
  },
  {
   "cell_type": "markdown",
   "metadata": {},
   "source": [
    "## Single step"
   ]
  },
  {
   "cell_type": "code",
   "execution_count": 338,
   "metadata": {},
   "outputs": [],
   "source": [
    "lr = 0.1\n",
    "criterion = nn.BCELoss()"
   ]
  },
  {
   "cell_type": "code",
   "execution_count": 339,
   "metadata": {},
   "outputs": [
    {
     "data": {
      "text/plain": [
       "(tensor([[0.3710, 0.3881],\n",
       "         [0.1242, 0.3359],\n",
       "         [0.7876, 0.5818],\n",
       "         [0.4938, 0.5423],\n",
       "         [0.6209, 0.8042],\n",
       "         [0.7076, 0.7602],\n",
       "         [0.3295, 0.3922],\n",
       "         [0.7669, 0.6474],\n",
       "         [0.6791, 0.6092],\n",
       "         [0.6813, 0.8698],\n",
       "         [0.6824, 0.4830],\n",
       "         [0.5453, 0.6391],\n",
       "         [0.5942, 0.6186],\n",
       "         [0.5374, 0.2864],\n",
       "         [0.2849, 0.5214],\n",
       "         [0.6097, 0.5476],\n",
       "         [0.8518, 0.6612],\n",
       "         [0.3356, 0.4298],\n",
       "         [0.4071, 0.1788],\n",
       "         [0.3971, 0.4444]]),\n",
       " tensor([1., 1., 0., 0., 0., 0., 1., 0., 0., 0., 0., 1., 0., 1., 1., 0., 0., 1.,\n",
       "         1., 1.]))"
      ]
     },
     "execution_count": 339,
     "metadata": {},
     "output_type": "execute_result"
    }
   ],
   "source": [
    "points_batch, labels_batch = iter(points_loader).next()\n",
    "points_batch, labels_batch"
   ]
  },
  {
   "cell_type": "code",
   "execution_count": 340,
   "metadata": {},
   "outputs": [
    {
     "data": {
      "text/plain": [
       "tensor([0.4301, 0.3922, 0.4945, 0.4479, 0.4654, 0.4798, 0.4235, 0.4905, 0.4768,\n",
       "        0.4744, 0.4787, 0.4551, 0.4631, 0.4576, 0.4152, 0.4664, 0.5040, 0.4241,\n",
       "        0.4380, 0.4336], grad_fn=<SqueezeBackward0>)"
      ]
     },
     "execution_count": 340,
     "metadata": {},
     "output_type": "execute_result"
    }
   ],
   "source": [
    "out = points_nn(points_batch)\n",
    "out"
   ]
  },
  {
   "cell_type": "code",
   "execution_count": 341,
   "metadata": {},
   "outputs": [
    {
     "data": {
      "text/plain": [
       "tensor(0.7365, grad_fn=<BinaryCrossEntropyBackward>)"
      ]
     },
     "execution_count": 341,
     "metadata": {},
     "output_type": "execute_result"
    }
   ],
   "source": [
    "loss = criterion(out, labels_batch)\n",
    "loss"
   ]
  },
  {
   "cell_type": "code",
   "execution_count": 342,
   "metadata": {},
   "outputs": [],
   "source": [
    "loss.backward()"
   ]
  },
  {
   "cell_type": "code",
   "execution_count": 343,
   "metadata": {},
   "outputs": [
    {
     "data": {
      "text/plain": [
       "(tensor([[0.1118, 0.1293]]), tensor([-0.0405]))"
      ]
     },
     "execution_count": 343,
     "metadata": {},
     "output_type": "execute_result"
    }
   ],
   "source": [
    "points_nn.l1.weight.grad, points_nn.l1.bias.grad"
   ]
  },
  {
   "cell_type": "code",
   "execution_count": 344,
   "metadata": {},
   "outputs": [],
   "source": [
    "with torch.no_grad():\n",
    "    # update weights and biases\n",
    "    points_nn.l1.weight.data -= lr*points_nn.l1.weight.grad\n",
    "    # update the bias\n",
    "    points_nn.l1.bias.data -= lr*points_nn.l1.bias.grad\n",
    "    \n",
    "    points_nn.l1.weight.grad.zero_()\n",
    "    points_nn.l1.bias.grad.zero_()"
   ]
  },
  {
   "cell_type": "code",
   "execution_count": 345,
   "metadata": {},
   "outputs": [
    {
     "data": {
      "image/png": "[encoded data removed]",
      "text/plain": [
       "<Figure size 432x288 with 1 Axes>"
      ]
     },
     "metadata": {
      "needs_background": "light"
     },
     "output_type": "display_data"
    }
   ],
   "source": [
    "m, b = get_weights(points_nn)\n",
    "display(m,b)\n",
    "plot_points(data.iloc[:,:2].values, data.iloc[:,2].values)\n",
    "plt.show()"
   ]
  },
  {
   "cell_type": "markdown",
   "metadata": {},
   "source": [
    "## Main training loop"
   ]
  },
  {
   "cell_type": "code",
   "execution_count": 346,
   "metadata": {},
   "outputs": [
    {
     "data": {
      "image/png": "[encoded data removed]",
      "text/plain": [
       "<Figure size 432x288 with 1 Axes>"
      ]
     },
     "metadata": {
      "needs_background": "light"
     },
     "output_type": "display_data"
    }
   ],
   "source": [
    "# reset the weights\n",
    "#points_nn.l1.weight.data = torch.FloatTensor([[1,-1]])\n",
    "#points_nn.l1.bias.data = torch.FloatTensor([0])\n",
    "# display the picture visually\n",
    "m, b = get_weights(points_nn)\n",
    "display(m,b)\n",
    "plot_points(data.iloc[:,:2].values, data.iloc[:,2].values)\n",
    "plt.show()"
   ]
  },
  {
   "cell_type": "code",
   "execution_count": 347,
   "metadata": {},
   "outputs": [
    {
     "data": {
      "text/plain": [
       "(5, 100, 100)"
      ]
     },
     "execution_count": 347,
     "metadata": {},
     "output_type": "execute_result"
    }
   ],
   "source": [
    "# number of batches in a loader, and points in one epoch/dataset\n",
    "len(points_loader), len(points), len(points_loader.dataset)"
   ]
  },
  {
   "cell_type": "code",
   "execution_count": 348,
   "metadata": {},
   "outputs": [],
   "source": [
    "# learning rate\n",
    "lr = 0.1\n",
    "\n",
    "# loss function\n",
    "criterion = nn.BCELoss()\n",
    "\n",
    "# number of epochs\n",
    "NEPOCH = 1000\n",
    "\n",
    "# weights and biases to draw decision line - will use it later to draw how it moves with every minibatch applied\n",
    "weights_and_biases = []\n",
    "\n",
    "# counter of minibatches\n",
    "minibatch_counter = 0\n",
    "\n",
    "# give output every X mini-batches\n",
    "log_interval = 10"
   ]
  },
  {
   "cell_type": "code",
   "execution_count": 349,
   "metadata": {
    "collapsed": true,
    "jupyter": {
     "outputs_hidden": true
    }
   },
   "outputs": [
    {
     "name": "stdout",
     "output_type": "stream",
     "text": [
      "Epoch 1 of 500: error=3.711\n",
      "Epoch 3 of 500: error=3.649\n",
      "Epoch 5 of 500: error=3.597\n",
      "Epoch 7 of 500: error=3.545\n",
      "Epoch 9 of 500: error=3.501\n",
      "Epoch 11 of 500: error=3.452\n",
      "Epoch 13 of 500: error=3.407\n",
      "Epoch 15 of 500: error=3.358\n",
      "Epoch 17 of 500: error=3.314\n",
      "Epoch 19 of 500: error=3.272\n",
      "Epoch 21 of 500: error=3.238\n",
      "Epoch 23 of 500: error=3.190\n",
      "Epoch 25 of 500: error=3.152\n",
      "Epoch 27 of 500: error=3.115\n",
      "Epoch 29 of 500: error=3.074\n",
      "Epoch 31 of 500: error=3.038\n",
      "Epoch 33 of 500: error=3.002\n",
      "Epoch 35 of 500: error=2.967\n",
      "Epoch 37 of 500: error=2.932\n",
      "Epoch 39 of 500: error=2.900\n",
      "Epoch 41 of 500: error=2.868\n",
      "Epoch 43 of 500: error=2.835\n",
      "Epoch 45 of 500: error=2.804\n",
      "Epoch 47 of 500: error=2.775\n",
      "Epoch 49 of 500: error=2.748\n",
      "Epoch 51 of 500: error=2.717\n",
      "Epoch 53 of 500: error=2.692\n",
      "Epoch 55 of 500: error=2.664\n",
      "Epoch 57 of 500: error=2.634\n",
      "Epoch 59 of 500: error=2.608\n",
      "Epoch 61 of 500: error=2.588\n",
      "Epoch 63 of 500: error=2.559\n",
      "Epoch 65 of 500: error=2.534\n",
      "Epoch 67 of 500: error=2.511\n",
      "Epoch 69 of 500: error=2.488\n",
      "Epoch 71 of 500: error=2.466\n",
      "Epoch 73 of 500: error=2.443\n",
      "Epoch 75 of 500: error=2.422\n",
      "Epoch 77 of 500: error=2.402\n",
      "Epoch 79 of 500: error=2.379\n",
      "Epoch 81 of 500: error=2.360\n",
      "Epoch 83 of 500: error=2.340\n",
      "Epoch 85 of 500: error=2.321\n",
      "Epoch 87 of 500: error=2.303\n",
      "Epoch 89 of 500: error=2.282\n",
      "Epoch 91 of 500: error=2.266\n",
      "Epoch 93 of 500: error=2.247\n",
      "Epoch 95 of 500: error=2.230\n",
      "Epoch 97 of 500: error=2.213\n",
      "Epoch 99 of 500: error=2.196\n",
      "Epoch 101 of 500: error=2.182\n",
      "Epoch 103 of 500: error=2.165\n",
      "Epoch 105 of 500: error=2.148\n",
      "Epoch 107 of 500: error=2.133\n",
      "Epoch 109 of 500: error=2.117\n",
      "Epoch 111 of 500: error=2.105\n",
      "Epoch 113 of 500: error=2.091\n",
      "Epoch 115 of 500: error=2.074\n",
      "Epoch 117 of 500: error=2.060\n",
      "Epoch 119 of 500: error=2.047\n",
      "Epoch 121 of 500: error=2.034\n",
      "Epoch 123 of 500: error=2.019\n",
      "Epoch 125 of 500: error=2.008\n",
      "Epoch 127 of 500: error=1.996\n",
      "Epoch 129 of 500: error=1.983\n",
      "Epoch 131 of 500: error=1.970\n",
      "Epoch 133 of 500: error=1.957\n",
      "Epoch 135 of 500: error=1.948\n",
      "Epoch 137 of 500: error=1.935\n",
      "Epoch 139 of 500: error=1.925\n",
      "Epoch 141 of 500: error=1.912\n",
      "Epoch 143 of 500: error=1.900\n",
      "Epoch 145 of 500: error=1.890\n",
      "Epoch 147 of 500: error=1.879\n",
      "Epoch 149 of 500: error=1.869\n",
      "Epoch 151 of 500: error=1.861\n",
      "Epoch 153 of 500: error=1.848\n",
      "Epoch 155 of 500: error=1.838\n",
      "Epoch 157 of 500: error=1.831\n",
      "Epoch 159 of 500: error=1.819\n",
      "Epoch 161 of 500: error=1.812\n",
      "Epoch 163 of 500: error=1.799\n",
      "Epoch 165 of 500: error=1.790\n",
      "Epoch 167 of 500: error=1.783\n",
      "Epoch 169 of 500: error=1.776\n",
      "Epoch 171 of 500: error=1.765\n",
      "Epoch 173 of 500: error=1.756\n",
      "Epoch 175 of 500: error=1.748\n",
      "Epoch 177 of 500: error=1.740\n",
      "Epoch 179 of 500: error=1.732\n",
      "Epoch 181 of 500: error=1.722\n",
      "Epoch 183 of 500: error=1.714\n",
      "Epoch 185 of 500: error=1.706\n",
      "Epoch 187 of 500: error=1.700\n",
      "Epoch 189 of 500: error=1.691\n",
      "Epoch 191 of 500: error=1.684\n",
      "Epoch 193 of 500: error=1.677\n",
      "Epoch 195 of 500: error=1.670\n",
      "Epoch 197 of 500: error=1.661\n",
      "Epoch 199 of 500: error=1.655\n",
      "Epoch 201 of 500: error=1.648\n",
      "Epoch 203 of 500: error=1.641\n",
      "Epoch 205 of 500: error=1.633\n",
      "Epoch 207 of 500: error=1.628\n",
      "Epoch 209 of 500: error=1.620\n",
      "Epoch 211 of 500: error=1.614\n",
      "Epoch 213 of 500: error=1.607\n",
      "Epoch 215 of 500: error=1.601\n",
      "Epoch 217 of 500: error=1.595\n",
      "Epoch 219 of 500: error=1.588\n",
      "Epoch 221 of 500: error=1.583\n",
      "Epoch 223 of 500: error=1.576\n",
      "Epoch 225 of 500: error=1.571\n",
      "Epoch 227 of 500: error=1.565\n",
      "Epoch 229 of 500: error=1.559\n",
      "Epoch 231 of 500: error=1.553\n",
      "Epoch 233 of 500: error=1.547\n",
      "Epoch 235 of 500: error=1.543\n",
      "Epoch 237 of 500: error=1.537\n",
      "Epoch 239 of 500: error=1.530\n",
      "Epoch 241 of 500: error=1.524\n",
      "Epoch 243 of 500: error=1.519\n",
      "Epoch 245 of 500: error=1.514\n",
      "Epoch 247 of 500: error=1.509\n",
      "Epoch 249 of 500: error=1.504\n",
      "Epoch 251 of 500: error=1.500\n",
      "Epoch 253 of 500: error=1.494\n",
      "Epoch 255 of 500: error=1.488\n",
      "Epoch 257 of 500: error=1.485\n",
      "Epoch 259 of 500: error=1.479\n",
      "Epoch 261 of 500: error=1.474\n",
      "Epoch 263 of 500: error=1.469\n",
      "Epoch 265 of 500: error=1.465\n",
      "Epoch 267 of 500: error=1.460\n",
      "Epoch 269 of 500: error=1.455\n",
      "Epoch 271 of 500: error=1.452\n",
      "Epoch 273 of 500: error=1.447\n",
      "Epoch 275 of 500: error=1.443\n",
      "Epoch 277 of 500: error=1.438\n",
      "Epoch 279 of 500: error=1.433\n",
      "Epoch 281 of 500: error=1.429\n",
      "Epoch 283 of 500: error=1.425\n",
      "Epoch 285 of 500: error=1.421\n",
      "Epoch 287 of 500: error=1.416\n",
      "Epoch 289 of 500: error=1.412\n",
      "Epoch 291 of 500: error=1.409\n",
      "Epoch 293 of 500: error=1.405\n",
      "Epoch 295 of 500: error=1.401\n",
      "Epoch 297 of 500: error=1.397\n",
      "Epoch 299 of 500: error=1.392\n",
      "Epoch 301 of 500: error=1.389\n",
      "Epoch 303 of 500: error=1.387\n",
      "Epoch 305 of 500: error=1.381\n",
      "Epoch 307 of 500: error=1.378\n",
      "Epoch 309 of 500: error=1.374\n",
      "Epoch 311 of 500: error=1.371\n",
      "Epoch 313 of 500: error=1.368\n",
      "Epoch 315 of 500: error=1.363\n",
      "Epoch 317 of 500: error=1.360\n",
      "Epoch 319 of 500: error=1.356\n",
      "Epoch 321 of 500: error=1.352\n",
      "Epoch 323 of 500: error=1.350\n",
      "Epoch 325 of 500: error=1.347\n",
      "Epoch 327 of 500: error=1.342\n",
      "Epoch 329 of 500: error=1.339\n",
      "Epoch 331 of 500: error=1.337\n",
      "Epoch 333 of 500: error=1.334\n",
      "Epoch 335 of 500: error=1.329\n",
      "Epoch 337 of 500: error=1.328\n",
      "Epoch 339 of 500: error=1.324\n",
      "Epoch 341 of 500: error=1.319\n",
      "Epoch 343 of 500: error=1.316\n",
      "Epoch 345 of 500: error=1.314\n",
      "Epoch 347 of 500: error=1.310\n",
      "Epoch 349 of 500: error=1.309\n",
      "Epoch 351 of 500: error=1.304\n",
      "Epoch 353 of 500: error=1.301\n",
      "Epoch 355 of 500: error=1.300\n",
      "Epoch 357 of 500: error=1.297\n",
      "Epoch 359 of 500: error=1.294\n",
      "Epoch 361 of 500: error=1.291\n",
      "Epoch 363 of 500: error=1.287\n",
      "Epoch 365 of 500: error=1.284\n",
      "Epoch 367 of 500: error=1.281\n",
      "Epoch 369 of 500: error=1.278\n",
      "Epoch 371 of 500: error=1.276\n",
      "Epoch 373 of 500: error=1.273\n",
      "Epoch 375 of 500: error=1.270\n",
      "Epoch 377 of 500: error=1.267\n",
      "Epoch 379 of 500: error=1.266\n",
      "Epoch 381 of 500: error=1.261\n",
      "Epoch 383 of 500: error=1.259\n",
      "Epoch 385 of 500: error=1.257\n",
      "Epoch 387 of 500: error=1.254\n",
      "Epoch 389 of 500: error=1.252\n",
      "Epoch 391 of 500: error=1.249\n",
      "Epoch 393 of 500: error=1.247\n",
      "Epoch 395 of 500: error=1.244\n",
      "Epoch 397 of 500: error=1.241\n",
      "Epoch 399 of 500: error=1.239\n",
      "Epoch 401 of 500: error=1.236\n",
      "Epoch 403 of 500: error=1.234\n",
      "Epoch 405 of 500: error=1.232\n",
      "Epoch 407 of 500: error=1.230\n",
      "Epoch 409 of 500: error=1.228\n",
      "Epoch 411 of 500: error=1.226\n",
      "Epoch 413 of 500: error=1.223\n",
      "Epoch 415 of 500: error=1.220\n",
      "Epoch 417 of 500: error=1.219\n",
      "Epoch 419 of 500: error=1.216\n",
      "Epoch 421 of 500: error=1.215\n",
      "Epoch 423 of 500: error=1.212\n",
      "Epoch 425 of 500: error=1.209\n",
      "Epoch 427 of 500: error=1.207\n",
      "Epoch 429 of 500: error=1.206\n",
      "Epoch 431 of 500: error=1.204\n",
      "Epoch 433 of 500: error=1.204\n",
      "Epoch 435 of 500: error=1.198\n",
      "Epoch 437 of 500: error=1.196\n",
      "Epoch 439 of 500: error=1.194\n",
      "Epoch 441 of 500: error=1.192\n",
      "Epoch 443 of 500: error=1.191\n",
      "Epoch 445 of 500: error=1.188\n",
      "Epoch 447 of 500: error=1.186\n",
      "Epoch 449 of 500: error=1.184\n",
      "Epoch 451 of 500: error=1.183\n",
      "Epoch 453 of 500: error=1.180\n",
      "Epoch 455 of 500: error=1.178\n",
      "Epoch 457 of 500: error=1.176\n",
      "Epoch 459 of 500: error=1.175\n",
      "Epoch 461 of 500: error=1.172\n",
      "Epoch 463 of 500: error=1.170\n",
      "Epoch 465 of 500: error=1.170\n",
      "Epoch 467 of 500: error=1.167\n",
      "Epoch 469 of 500: error=1.167\n",
      "Epoch 471 of 500: error=1.163\n",
      "Epoch 473 of 500: error=1.161\n",
      "Epoch 475 of 500: error=1.159\n",
      "Epoch 477 of 500: error=1.157\n",
      "Epoch 479 of 500: error=1.156\n",
      "Epoch 481 of 500: error=1.153\n",
      "Epoch 483 of 500: error=1.152\n",
      "Epoch 485 of 500: error=1.151\n",
      "Epoch 487 of 500: error=1.148\n",
      "Epoch 489 of 500: error=1.146\n",
      "Epoch 491 of 500: error=1.146\n",
      "Epoch 493 of 500: error=1.143\n",
      "Epoch 495 of 500: error=1.141\n",
      "Epoch 497 of 500: error=1.140\n",
      "Epoch 499 of 500: error=1.140\n",
      "Epoch 501 of 500: error=1.137\n",
      "Epoch 503 of 500: error=1.135\n",
      "Epoch 505 of 500: error=1.133\n",
      "Epoch 507 of 500: error=1.132\n",
      "Epoch 509 of 500: error=1.130\n",
      "Epoch 511 of 500: error=1.128\n",
      "Epoch 513 of 500: error=1.126\n",
      "Epoch 515 of 500: error=1.125\n",
      "Epoch 517 of 500: error=1.126\n",
      "Epoch 519 of 500: error=1.123\n",
      "Epoch 521 of 500: error=1.120\n",
      "Epoch 523 of 500: error=1.119\n",
      "Epoch 525 of 500: error=1.119\n",
      "Epoch 527 of 500: error=1.116\n",
      "Epoch 529 of 500: error=1.114\n",
      "Epoch 531 of 500: error=1.112\n",
      "Epoch 533 of 500: error=1.113\n",
      "Epoch 535 of 500: error=1.109\n",
      "Epoch 537 of 500: error=1.109\n",
      "Epoch 539 of 500: error=1.110\n",
      "Epoch 541 of 500: error=1.105\n",
      "Epoch 543 of 500: error=1.104\n",
      "Epoch 545 of 500: error=1.104\n",
      "Epoch 547 of 500: error=1.101\n",
      "Epoch 549 of 500: error=1.100\n",
      "Epoch 551 of 500: error=1.098\n",
      "Epoch 553 of 500: error=1.097\n",
      "Epoch 555 of 500: error=1.096\n",
      "Epoch 557 of 500: error=1.094\n",
      "Epoch 559 of 500: error=1.092\n",
      "Epoch 561 of 500: error=1.091\n",
      "Epoch 563 of 500: error=1.090\n",
      "Epoch 565 of 500: error=1.088\n",
      "Epoch 567 of 500: error=1.089\n",
      "Epoch 569 of 500: error=1.086\n",
      "Epoch 571 of 500: error=1.084\n",
      "Epoch 573 of 500: error=1.083\n",
      "Epoch 575 of 500: error=1.082\n",
      "Epoch 577 of 500: error=1.082\n",
      "Epoch 579 of 500: error=1.080\n",
      "Epoch 581 of 500: error=1.077\n",
      "Epoch 583 of 500: error=1.076\n",
      "Epoch 585 of 500: error=1.075\n",
      "Epoch 587 of 500: error=1.075\n",
      "Epoch 589 of 500: error=1.074\n",
      "Epoch 591 of 500: error=1.071\n",
      "Epoch 593 of 500: error=1.070\n",
      "Epoch 595 of 500: error=1.071\n",
      "Epoch 597 of 500: error=1.067\n",
      "Epoch 599 of 500: error=1.066\n",
      "Epoch 601 of 500: error=1.065\n",
      "Epoch 603 of 500: error=1.064\n",
      "Epoch 605 of 500: error=1.063\n",
      "Epoch 607 of 500: error=1.061\n",
      "Epoch 609 of 500: error=1.060\n",
      "Epoch 611 of 500: error=1.059\n",
      "Epoch 613 of 500: error=1.058\n",
      "Epoch 615 of 500: error=1.057\n",
      "Epoch 617 of 500: error=1.055\n",
      "Epoch 619 of 500: error=1.054\n",
      "Epoch 621 of 500: error=1.053\n",
      "Epoch 623 of 500: error=1.053\n",
      "Epoch 625 of 500: error=1.051\n",
      "Epoch 627 of 500: error=1.050\n",
      "Epoch 629 of 500: error=1.049\n",
      "Epoch 631 of 500: error=1.049\n",
      "Epoch 633 of 500: error=1.047\n",
      "Epoch 635 of 500: error=1.046\n",
      "Epoch 637 of 500: error=1.045\n",
      "Epoch 639 of 500: error=1.044\n",
      "Epoch 641 of 500: error=1.042\n",
      "Epoch 643 of 500: error=1.041\n",
      "Epoch 645 of 500: error=1.039\n",
      "Epoch 647 of 500: error=1.038\n",
      "Epoch 649 of 500: error=1.038\n",
      "Epoch 651 of 500: error=1.036\n",
      "Epoch 653 of 500: error=1.036\n",
      "Epoch 655 of 500: error=1.036\n",
      "Epoch 657 of 500: error=1.034\n",
      "Epoch 659 of 500: error=1.034\n",
      "Epoch 661 of 500: error=1.031\n",
      "Epoch 663 of 500: error=1.032\n",
      "Epoch 665 of 500: error=1.029\n",
      "Epoch 667 of 500: error=1.029\n",
      "Epoch 669 of 500: error=1.027\n",
      "Epoch 671 of 500: error=1.028\n",
      "Epoch 673 of 500: error=1.025\n",
      "Epoch 675 of 500: error=1.026\n",
      "Epoch 677 of 500: error=1.025\n",
      "Epoch 679 of 500: error=1.023\n",
      "Epoch 681 of 500: error=1.022\n",
      "Epoch 683 of 500: error=1.021\n",
      "Epoch 685 of 500: error=1.021\n",
      "Epoch 687 of 500: error=1.018\n",
      "Epoch 689 of 500: error=1.018\n",
      "Epoch 691 of 500: error=1.018\n",
      "Epoch 693 of 500: error=1.015\n",
      "Epoch 695 of 500: error=1.014\n",
      "Epoch 697 of 500: error=1.015\n",
      "Epoch 699 of 500: error=1.013\n",
      "Epoch 701 of 500: error=1.012\n",
      "Epoch 703 of 500: error=1.011\n",
      "Epoch 705 of 500: error=1.010\n",
      "Epoch 707 of 500: error=1.008\n",
      "Epoch 709 of 500: error=1.009\n",
      "Epoch 711 of 500: error=1.007\n",
      "Epoch 713 of 500: error=1.006\n",
      "Epoch 715 of 500: error=1.005\n",
      "Epoch 717 of 500: error=1.004\n",
      "Epoch 719 of 500: error=1.004\n",
      "Epoch 721 of 500: error=1.004\n",
      "Epoch 723 of 500: error=1.002\n",
      "Epoch 725 of 500: error=1.001\n",
      "Epoch 727 of 500: error=1.001\n",
      "Epoch 729 of 500: error=1.000\n",
      "Epoch 731 of 500: error=0.998\n",
      "Epoch 733 of 500: error=0.997\n",
      "Epoch 735 of 500: error=0.996\n",
      "Epoch 737 of 500: error=0.998\n",
      "Epoch 739 of 500: error=0.995\n",
      "Epoch 741 of 500: error=0.994\n",
      "Epoch 743 of 500: error=0.994\n",
      "Epoch 745 of 500: error=0.992\n",
      "Epoch 747 of 500: error=0.992\n",
      "Epoch 749 of 500: error=0.990\n",
      "Epoch 751 of 500: error=0.990\n",
      "Epoch 753 of 500: error=0.990\n",
      "Epoch 755 of 500: error=0.989\n",
      "Epoch 757 of 500: error=0.988\n",
      "Epoch 759 of 500: error=0.987\n",
      "Epoch 761 of 500: error=0.987\n",
      "Epoch 763 of 500: error=0.985\n",
      "Epoch 765 of 500: error=0.986\n",
      "Epoch 767 of 500: error=0.983\n",
      "Epoch 769 of 500: error=0.982\n",
      "Epoch 771 of 500: error=0.982\n",
      "Epoch 773 of 500: error=0.981\n",
      "Epoch 775 of 500: error=0.981\n",
      "Epoch 777 of 500: error=0.980\n",
      "Epoch 779 of 500: error=0.978\n",
      "Epoch 781 of 500: error=0.979\n",
      "Epoch 783 of 500: error=0.980\n",
      "Epoch 785 of 500: error=0.976\n",
      "Epoch 787 of 500: error=0.976\n",
      "Epoch 789 of 500: error=0.976\n",
      "Epoch 791 of 500: error=0.975\n",
      "Epoch 793 of 500: error=0.974\n",
      "Epoch 795 of 500: error=0.973\n",
      "Epoch 797 of 500: error=0.972\n",
      "Epoch 799 of 500: error=0.971\n",
      "Epoch 801 of 500: error=0.971\n",
      "Epoch 803 of 500: error=0.971\n",
      "Epoch 805 of 500: error=0.970\n",
      "Epoch 807 of 500: error=0.969\n",
      "Epoch 809 of 500: error=0.968\n",
      "Epoch 811 of 500: error=0.968\n",
      "Epoch 813 of 500: error=0.966\n",
      "Epoch 815 of 500: error=0.967\n",
      "Epoch 817 of 500: error=0.965\n",
      "Epoch 819 of 500: error=0.964\n",
      "Epoch 821 of 500: error=0.963\n",
      "Epoch 823 of 500: error=0.963\n",
      "Epoch 825 of 500: error=0.962\n",
      "Epoch 827 of 500: error=0.962\n",
      "Epoch 829 of 500: error=0.961\n",
      "Epoch 831 of 500: error=0.960\n",
      "Epoch 833 of 500: error=0.959\n",
      "Epoch 835 of 500: error=0.958\n",
      "Epoch 837 of 500: error=0.958\n",
      "Epoch 839 of 500: error=0.958\n",
      "Epoch 841 of 500: error=0.956\n",
      "Epoch 843 of 500: error=0.956\n",
      "Epoch 845 of 500: error=0.955\n",
      "Epoch 847 of 500: error=0.954\n",
      "Epoch 849 of 500: error=0.954\n",
      "Epoch 851 of 500: error=0.953\n",
      "Epoch 853 of 500: error=0.952\n",
      "Epoch 855 of 500: error=0.952\n",
      "Epoch 857 of 500: error=0.951\n",
      "Epoch 859 of 500: error=0.950\n",
      "Epoch 861 of 500: error=0.950\n",
      "Epoch 863 of 500: error=0.949\n",
      "Epoch 865 of 500: error=0.949\n",
      "Epoch 867 of 500: error=0.948\n",
      "Epoch 869 of 500: error=0.947\n",
      "Epoch 871 of 500: error=0.947\n",
      "Epoch 873 of 500: error=0.946\n",
      "Epoch 875 of 500: error=0.946\n",
      "Epoch 877 of 500: error=0.945\n",
      "Epoch 879 of 500: error=0.944\n",
      "Epoch 881 of 500: error=0.944\n",
      "Epoch 883 of 500: error=0.944\n",
      "Epoch 885 of 500: error=0.942\n",
      "Epoch 887 of 500: error=0.941\n",
      "Epoch 889 of 500: error=0.941\n",
      "Epoch 891 of 500: error=0.940\n",
      "Epoch 893 of 500: error=0.940\n",
      "Epoch 895 of 500: error=0.939\n",
      "Epoch 897 of 500: error=0.938\n",
      "Epoch 899 of 500: error=0.938\n",
      "Epoch 901 of 500: error=0.937\n",
      "Epoch 903 of 500: error=0.936\n",
      "Epoch 905 of 500: error=0.936\n",
      "Epoch 907 of 500: error=0.935\n",
      "Epoch 909 of 500: error=0.935\n",
      "Epoch 911 of 500: error=0.935\n",
      "Epoch 913 of 500: error=0.934\n",
      "Epoch 915 of 500: error=0.934\n",
      "Epoch 917 of 500: error=0.933\n",
      "Epoch 919 of 500: error=0.933\n",
      "Epoch 921 of 500: error=0.931\n",
      "Epoch 923 of 500: error=0.932\n",
      "Epoch 925 of 500: error=0.930\n",
      "Epoch 927 of 500: error=0.930\n",
      "Epoch 929 of 500: error=0.929\n",
      "Epoch 931 of 500: error=0.929\n",
      "Epoch 933 of 500: error=0.928\n",
      "Epoch 935 of 500: error=0.928\n",
      "Epoch 937 of 500: error=0.928\n",
      "Epoch 939 of 500: error=0.926\n",
      "Epoch 941 of 500: error=0.926\n",
      "Epoch 943 of 500: error=0.926\n",
      "Epoch 945 of 500: error=0.925\n",
      "Epoch 947 of 500: error=0.925\n",
      "Epoch 949 of 500: error=0.924\n",
      "Epoch 951 of 500: error=0.925\n",
      "Epoch 953 of 500: error=0.923\n",
      "Epoch 955 of 500: error=0.922\n",
      "Epoch 957 of 500: error=0.922\n",
      "Epoch 959 of 500: error=0.921\n",
      "Epoch 961 of 500: error=0.922\n",
      "Epoch 963 of 500: error=0.919\n",
      "Epoch 965 of 500: error=0.920\n",
      "Epoch 967 of 500: error=0.919\n",
      "Epoch 969 of 500: error=0.918\n",
      "Epoch 971 of 500: error=0.919\n",
      "Epoch 973 of 500: error=0.917\n",
      "Epoch 975 of 500: error=0.917\n",
      "Epoch 977 of 500: error=0.916\n",
      "Epoch 979 of 500: error=0.916\n",
      "Epoch 981 of 500: error=0.916\n",
      "Epoch 983 of 500: error=0.915\n",
      "Epoch 985 of 500: error=0.915\n",
      "Epoch 987 of 500: error=0.914\n",
      "Epoch 989 of 500: error=0.913\n",
      "Epoch 991 of 500: error=0.914\n",
      "Epoch 993 of 500: error=0.912\n",
      "Epoch 995 of 500: error=0.912\n",
      "Epoch 997 of 500: error=0.912\n",
      "Epoch 999 of 500: error=0.911\n"
     ]
    }
   ],
   "source": [
    "for epoch in range(NEPOCH):   \n",
    "    # error on epoch\n",
    "    error = 0\n",
    "    for points_batch, labels_batch in points_loader:\n",
    "        #set_trace()\n",
    "        # zero grad the parameters\n",
    "        points_nn.l1.weight.grad.zero_()\n",
    "        points_nn.l1.bias.grad.zero_()\n",
    "        \n",
    "        # calculate the output of the network\n",
    "        out = points_nn(points_batch)\n",
    "        \n",
    "        # calculate the loss\n",
    "        loss = criterion(out, labels_batch)\n",
    "        \n",
    "        # accumelate the error for the epoch\n",
    "        error += loss.item()\n",
    "        \n",
    "        # backprop grads from the loss to the weights\n",
    "        loss.backward()\n",
    "        \n",
    "        # update the weights\n",
    "        with torch.no_grad():\n",
    "            points_nn.l1.weight.data -= lr*points_nn.l1.weight.grad\n",
    "            points_nn.l1.bias.data -= lr*points_nn.l1.bias.grad\n",
    "        \n",
    "        minibatch_counter += 1\n",
    "        \n",
    "        if minibatch_counter%log_interval == 0:\n",
    "            print(f'Epoch {epoch} of {len(points_loader)*len(points_loader.dataset)}: error={error:.3f}') \n",
    "            weights_and_biases.append(get_weights(points_nn))"
   ]
  },
  {
   "cell_type": "code",
   "execution_count": 350,
   "metadata": {},
   "outputs": [
    {
     "data": {
      "text/plain": [
       "500"
      ]
     },
     "execution_count": 350,
     "metadata": {},
     "output_type": "execute_result"
    }
   ],
   "source": [
    "len(weights_and_biases)"
   ]
  },
  {
   "cell_type": "markdown",
   "metadata": {},
   "source": [
    "### Dislpay how border line is moving with every log_ingeral's iteration over minibatches"
   ]
  },
  {
   "cell_type": "code",
   "execution_count": 352,
   "metadata": {},
   "outputs": [
    {
     "data": {
      "image/png": "[encoded data removed]",
      "text/plain": [
       "<Figure size 432x288 with 1 Axes>"
      ]
     },
     "metadata": {
      "needs_background": "light"
     },
     "output_type": "display_data"
    }
   ],
   "source": [
    "for i , (m,b) in enumerate(weights_and_biases):\n",
    "    if i%log_interval == 0:\n",
    "        display(m,b)\n",
    "plot_points(data.iloc[:,:2].values, data.iloc[:,2].values)\n",
    "plt.show()"
   ]
  },
  {
   "cell_type": "code",
   "execution_count": 353,
   "metadata": {},
   "outputs": [
    {
     "data": {
      "text/plain": [
       "(tensor([[-6.9959, -7.4718]]), tensor([7.5483]))"
      ]
     },
     "execution_count": 353,
     "metadata": {},
     "output_type": "execute_result"
    }
   ],
   "source": [
    "points_nn.l1.weight.data, points_nn.l1.bias.data"
   ]
  },
  {
   "cell_type": "code",
   "execution_count": null,
   "metadata": {},
   "outputs": [],
   "source": []
  }
 ],
 "metadata": {
  "kernelspec": {
   "display_name": "Python 3",
   "language": "python",
   "name": "python3"
  },
  "language_info": {
   "codemirror_mode": {
    "name": "ipython",
    "version": 3
   },
   "file_extension": ".py",
   "mimetype": "text/x-python",
   "name": "python",
   "nbconvert_exporter": "python",
   "pygments_lexer": "ipython3",
   "version": "3.8.0"
  }
 },
 "nbformat": 4,
 "nbformat_minor": 4
}
