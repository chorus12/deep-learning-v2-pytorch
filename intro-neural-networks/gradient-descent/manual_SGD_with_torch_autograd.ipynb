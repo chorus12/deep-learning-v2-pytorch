{
 "cells": [
  {
   "cell_type": "markdown",
   "metadata": {},
   "source": [
    "# Training a simple linear classification NN with manual pytorch autograd"
   ]
  },
  {
   "cell_type": "code",
   "execution_count": 151,
   "metadata": {},
   "outputs": [
    {
     "name": "stdout",
     "output_type": "stream",
     "text": [
      "[jupytext] Reading manual_SGD_with_torch_autograd.ipynb\n",
      "[jupytext] Writing manual_SGD_with_torch_autograd.md (destination file replaced)\n"
     ]
    }
   ],
   "source": [
    "!jupytext --to markdown \"manual_SGD_with_torch_autograd.ipynb\""
   ]
  },
  {
   "cell_type": "code",
   "execution_count": 121,
   "metadata": {},
   "outputs": [],
   "source": [
    "%matplotlib inline\n",
    "import matplotlib.pyplot as plt\n",
    "import torch\n",
    "import torch.nn.functional as F\n",
    "import torch.nn as nn\n",
    "from torch.utils.data import Dataset, DataLoader\n",
    "from pandas import DataFrame\n",
    "import numpy as np"
   ]
  },
  {
   "cell_type": "code",
   "execution_count": 122,
   "metadata": {},
   "outputs": [],
   "source": [
    "def plot_points(X, y):\n",
    "    positive = X[np.argwhere(y==1)]\n",
    "    negative = X[np.argwhere(y==0)]\n",
    "    plt.scatter([s[0][0] for s in negative], [s[0][1] for s in negative], s = 25, color = 'blue', edgecolor = 'k')\n",
    "    plt.scatter([s[0][0] for s in positive], [s[0][1] for s in positive], s = 25, color = 'red', edgecolor = 'k')\n",
    "\n",
    "def display(m, b, color='g--'):\n",
    "    plt.xlim(-0.05,1.05)\n",
    "    plt.ylim(-0.05,1.05)\n",
    "    x = np.arange(-10, 10, 0.1)\n",
    "    plt.plot(x, m*x+b, color)"
   ]
  },
  {
   "cell_type": "code",
   "execution_count": 123,
   "metadata": {},
   "outputs": [
    {
     "data": {
      "text/html": [
       "<div>\n",
       "<style scoped>\n",
       "    .dataframe tbody tr th:only-of-type {\n",
       "        vertical-align: middle;\n",
       "    }\n",
       "\n",
       "    .dataframe tbody tr th {\n",
       "        vertical-align: top;\n",
       "    }\n",
       "\n",
       "    .dataframe thead th {\n",
       "        text-align: right;\n",
       "    }\n",
       "</style>\n",
       "<table border=\"1\" class=\"dataframe\">\n",
       "  <thead>\n",
       "    <tr style=\"text-align: right;\">\n",
       "      <th></th>\n",
       "      <th>x</th>\n",
       "      <th>y</th>\n",
       "      <th>target</th>\n",
       "    </tr>\n",
       "  </thead>\n",
       "  <tbody>\n",
       "    <tr>\n",
       "      <th>0</th>\n",
       "      <td>0.272120</td>\n",
       "      <td>0.534572</td>\n",
       "      <td>1</td>\n",
       "    </tr>\n",
       "    <tr>\n",
       "      <th>1</th>\n",
       "      <td>-0.088770</td>\n",
       "      <td>0.618814</td>\n",
       "      <td>1</td>\n",
       "    </tr>\n",
       "    <tr>\n",
       "      <th>2</th>\n",
       "      <td>0.258011</td>\n",
       "      <td>0.614532</td>\n",
       "      <td>1</td>\n",
       "    </tr>\n",
       "    <tr>\n",
       "      <th>3</th>\n",
       "      <td>0.397269</td>\n",
       "      <td>0.433527</td>\n",
       "      <td>1</td>\n",
       "    </tr>\n",
       "    <tr>\n",
       "      <th>4</th>\n",
       "      <td>0.158142</td>\n",
       "      <td>0.301420</td>\n",
       "      <td>1</td>\n",
       "    </tr>\n",
       "  </tbody>\n",
       "</table>\n",
       "</div>"
      ],
      "text/plain": [
       "          x         y  target\n",
       "0  0.272120  0.534572       1\n",
       "1 -0.088770  0.618814       1\n",
       "2  0.258011  0.614532       1\n",
       "3  0.397269  0.433527       1\n",
       "4  0.158142  0.301420       1"
      ]
     },
     "execution_count": 123,
     "metadata": {},
     "output_type": "execute_result"
    }
   ],
   "source": [
    "# generate the data\n",
    "n=100\n",
    "xy = np.random.randn(n,2)\n",
    "xy[:n//2,0] = xy[:n//2,0]/5+0.5\n",
    "xy[:n//2,1] = xy[:n//2,1]/7+0.3\n",
    "xy[n//2:,0] = xy[n//2:,0]/5+1\n",
    "xy[n//2:,1] = xy[n//2:,1]/9+0.3\n",
    "target = n//2*[1] + n//2*[0]\n",
    "\n",
    "rotation_matrix = np.array([[np.cos(np.pi/4), -np.sin(np.pi/4)],\n",
    "                   [np.sin(np.pi/4), np.cos(np.pi/4)]])\n",
    "xy = np.matmul(xy, rotation_matrix.T)\n",
    "\n",
    "data = DataFrame(xy, columns=['x','y'])\n",
    "data['target'] = target\n",
    "data.head()"
   ]
  },
  {
   "cell_type": "code",
   "execution_count": 124,
   "metadata": {},
   "outputs": [
    {
     "data": {
      "image/png": "[encoded data removed]",
      "text/plain": [
       "<Figure size 432x288 with 2 Axes>"
      ]
     },
     "metadata": {
      "needs_background": "light"
     },
     "output_type": "display_data"
    }
   ],
   "source": [
    "data.plot(kind='scatter', x='x', y='y', c = 'target', colormap = 'plasma_r')\n",
    "plt.show()"
   ]
  },
  {
   "cell_type": "code",
   "execution_count": 125,
   "metadata": {},
   "outputs": [],
   "source": [
    "class PointsDataset(Dataset):\n",
    "    def __init__(self, data, transform = None):\n",
    "        self.points = torch.as_tensor(data[:,:2], dtype=torch.float) # coordinates x and y\n",
    "        self.labels = torch.as_tensor(data[:,2], dtype=torch.float) # lablels\n",
    "        self.len = len(data)\n",
    "        \n",
    "    def __getitem__(self, index):\n",
    "        return self.points[index], self.labels[index]\n",
    "    def __len__(self):\n",
    "        return self.len"
   ]
  },
  {
   "cell_type": "code",
   "execution_count": 126,
   "metadata": {},
   "outputs": [],
   "source": [
    "points = PointsDataset(data.values)"
   ]
  },
  {
   "cell_type": "code",
   "execution_count": 127,
   "metadata": {},
   "outputs": [],
   "source": [
    "points_loader = DataLoader(points, batch_size=20, shuffle=True)"
   ]
  },
  {
   "cell_type": "code",
   "execution_count": 128,
   "metadata": {},
   "outputs": [
    {
     "data": {
      "text/plain": [
       "tensor([[ 3.2729e-01,  7.9161e-01],\n",
       "        [ 6.4692e-01,  1.1715e+00],\n",
       "        [ 2.7288e-01,  6.6241e-01],\n",
       "        [ 8.2046e-01,  1.2291e+00],\n",
       "        [ 5.7588e-01,  7.7530e-01],\n",
       "        [ 3.8738e-01,  9.0057e-01],\n",
       "        [ 5.5257e-01,  7.6137e-01],\n",
       "        [ 2.1694e-01,  5.0016e-01],\n",
       "        [ 4.5178e-01,  1.0039e+00],\n",
       "        [ 4.9277e-01,  9.3306e-01],\n",
       "        [ 2.7212e-01,  5.3457e-01],\n",
       "        [-3.3906e-01,  5.1143e-01],\n",
       "        [ 1.7988e-01,  3.8888e-01],\n",
       "        [ 5.3984e-01,  1.1514e+00],\n",
       "        [ 1.0815e-01,  5.4379e-01],\n",
       "        [ 1.2548e-01,  5.0049e-01],\n",
       "        [ 1.1223e-03,  6.6646e-01],\n",
       "        [ 7.9713e-01,  1.0961e+00],\n",
       "        [ 1.7639e-01,  4.8743e-01],\n",
       "        [-1.7585e-01,  3.8022e-01]])"
      ]
     },
     "execution_count": 128,
     "metadata": {},
     "output_type": "execute_result"
    }
   ],
   "source": [
    "# display the minibatch data \n",
    "iter(points_loader).next()[0]"
   ]
  },
  {
   "cell_type": "code",
   "execution_count": 129,
   "metadata": {},
   "outputs": [],
   "source": [
    "class PointsNN(nn.Module):\n",
    "    \"\"\"\n",
    "    logistic regression via one layer neural network\n",
    "    gives out probability of positive class\n",
    "    \"\"\"\n",
    "    def __init__(self):\n",
    "        super(PointsNN, self).__init__()\n",
    "        self.l1 = nn.Linear(2,1)\n",
    "    def forward(self, x):\n",
    "        x = self.l1(x)\n",
    "        score = F.relu(x)\n",
    "        out = torch.sigmoid(x)\n",
    "        return out.squeeze() "
   ]
  },
  {
   "cell_type": "code",
   "execution_count": 130,
   "metadata": {},
   "outputs": [],
   "source": [
    "points_nn = PointsNN()"
   ]
  },
  {
   "cell_type": "code",
   "execution_count": 131,
   "metadata": {},
   "outputs": [
    {
     "data": {
      "text/plain": [
       "tensor([0.6217, 0.7066, 0.6172, 0.7322, 0.6252, 0.6676, 0.7014, 0.6436, 0.6699,\n",
       "        0.6131, 0.7026, 0.7069, 0.6983, 0.7481, 0.7544, 0.7226, 0.6184, 0.6514,\n",
       "        0.6795, 0.7046], grad_fn=<SqueezeBackward0>)"
      ]
     },
     "execution_count": 131,
     "metadata": {},
     "output_type": "execute_result"
    }
   ],
   "source": [
    "points_nn(iter(points_loader).next()[0])"
   ]
  },
  {
   "cell_type": "code",
   "execution_count": 132,
   "metadata": {},
   "outputs": [],
   "source": [
    "def get_weights(net):\n",
    "    \"\"\"\n",
    "    get y = m*x + b coefficients from the network\n",
    "    \"\"\"\n",
    "    w1, w2 = net.l1.weight.data.numpy()[0]\n",
    "    b = net.l1.bias.item()\n",
    "    return -w1/w2, -b/w2"
   ]
  },
  {
   "cell_type": "code",
   "execution_count": 133,
   "metadata": {},
   "outputs": [
    {
     "data": {
      "image/png": "[encoded data removed]",
      "text/plain": [
       "<Figure size 432x288 with 1 Axes>"
      ]
     },
     "metadata": {
      "needs_background": "light"
     },
     "output_type": "display_data"
    }
   ],
   "source": [
    "m, b = get_weights(points_nn)\n",
    "display(m,b)"
   ]
  },
  {
   "cell_type": "markdown",
   "metadata": {},
   "source": [
    "## Single step"
   ]
  },
  {
   "cell_type": "code",
   "execution_count": 134,
   "metadata": {},
   "outputs": [],
   "source": [
    "lr = 0.1\n",
    "criterion = nn.BCELoss()"
   ]
  },
  {
   "cell_type": "code",
   "execution_count": 135,
   "metadata": {},
   "outputs": [
    {
     "data": {
      "text/plain": [
       "(tensor([[ 5.7424e-01,  1.1533e+00],\n",
       "         [ 6.4692e-01,  1.1715e+00],\n",
       "         [ 6.0733e-02,  6.5713e-01],\n",
       "         [ 3.5103e-01,  8.1212e-01],\n",
       "         [ 5.4871e-01,  9.8710e-01],\n",
       "         [ 5.1102e-01,  9.0194e-01],\n",
       "         [ 3.8738e-01,  9.0057e-01],\n",
       "         [-1.9862e-01,  4.7476e-01],\n",
       "         [ 2.9223e-01,  6.8702e-01],\n",
       "         [ 1.1223e-03,  6.6646e-01],\n",
       "         [ 5.0862e-01,  1.1198e+00],\n",
       "         [-3.6143e-03,  6.2847e-01],\n",
       "         [ 2.0731e-01,  7.1387e-01],\n",
       "         [ 1.4516e-01,  5.4848e-01],\n",
       "         [ 3.9727e-01,  4.3353e-01],\n",
       "         [ 4.2233e-01,  8.3134e-01],\n",
       "         [ 2.5801e-01,  6.1453e-01],\n",
       "         [ 3.1684e-01,  6.9505e-01],\n",
       "         [ 3.1072e-01,  5.4687e-01],\n",
       "         [ 7.1617e-01,  1.0466e+00]]),\n",
       " tensor([0., 0., 1., 0., 0., 0., 0., 1., 1., 1., 0., 1., 0., 1., 1., 0., 1., 1.,\n",
       "         1., 0.]))"
      ]
     },
     "execution_count": 135,
     "metadata": {},
     "output_type": "execute_result"
    }
   ],
   "source": [
    "points_batch, labels_batch = iter(points_loader).next()\n",
    "points_batch, labels_batch"
   ]
  },
  {
   "cell_type": "code",
   "execution_count": 136,
   "metadata": {},
   "outputs": [
    {
     "data": {
      "text/plain": [
       "tensor([0.7397, 0.7460, 0.6514, 0.6897, 0.7215, 0.7102, 0.7017, 0.6102, 0.6718,\n",
       "        0.6481, 0.7322, 0.6433, 0.6686, 0.6452, 0.6508, 0.6967, 0.6612, 0.6745,\n",
       "        0.6574, 0.7382], grad_fn=<SqueezeBackward0>)"
      ]
     },
     "execution_count": 136,
     "metadata": {},
     "output_type": "execute_result"
    }
   ],
   "source": [
    "out = points_nn(points_batch)\n",
    "out"
   ]
  },
  {
   "cell_type": "code",
   "execution_count": 137,
   "metadata": {},
   "outputs": [
    {
     "data": {
      "text/plain": [
       "tensor(0.8429, grad_fn=<BinaryCrossEntropyBackward>)"
      ]
     },
     "execution_count": 137,
     "metadata": {},
     "output_type": "execute_result"
    }
   ],
   "source": [
    "loss = criterion(out, labels_batch)\n",
    "loss"
   ]
  },
  {
   "cell_type": "code",
   "execution_count": 138,
   "metadata": {},
   "outputs": [],
   "source": [
    "loss.backward()"
   ]
  },
  {
   "cell_type": "code",
   "execution_count": 139,
   "metadata": {},
   "outputs": [
    {
     "data": {
      "text/plain": [
       "(tensor([[0.1494, 0.2427]]), tensor([0.1829]))"
      ]
     },
     "execution_count": 139,
     "metadata": {},
     "output_type": "execute_result"
    }
   ],
   "source": [
    "points_nn.l1.weight.grad, points_nn.l1.bias.grad"
   ]
  },
  {
   "cell_type": "code",
   "execution_count": 140,
   "metadata": {},
   "outputs": [],
   "source": [
    "with torch.no_grad():\n",
    "    # update weights and biases\n",
    "    points_nn.l1.weight.data -= lr*points_nn.l1.weight.grad\n",
    "    # update the bias\n",
    "    points_nn.l1.bias.data -= lr*points_nn.l1.bias.grad\n",
    "    \n",
    "    points_nn.l1.weight.grad.zero_()\n",
    "    points_nn.l1.bias.grad.zero_()"
   ]
  },
  {
   "cell_type": "code",
   "execution_count": 141,
   "metadata": {},
   "outputs": [
    {
     "data": {
      "image/png": "[encoded data removed]",
      "text/plain": [
       "<Figure size 432x288 with 1 Axes>"
      ]
     },
     "metadata": {
      "needs_background": "light"
     },
     "output_type": "display_data"
    }
   ],
   "source": [
    "m, b = get_weights(points_nn)\n",
    "display(m,b)\n",
    "plot_points(data.iloc[:,:2].values, data.iloc[:,2].values)\n",
    "plt.show()"
   ]
  },
  {
   "cell_type": "markdown",
   "metadata": {},
   "source": [
    "## Main training loop"
   ]
  },
  {
   "cell_type": "code",
   "execution_count": 142,
   "metadata": {},
   "outputs": [
    {
     "data": {
      "image/png": "[encoded data removed]",
      "text/plain": [
       "<Figure size 432x288 with 1 Axes>"
      ]
     },
     "metadata": {
      "needs_background": "light"
     },
     "output_type": "display_data"
    }
   ],
   "source": [
    "# reset the weights\n",
    "#points_nn.l1.weight.data = torch.FloatTensor([[1,-1]])\n",
    "#points_nn.l1.bias.data = torch.FloatTensor([0])\n",
    "# display the picture visually\n",
    "m, b = get_weights(points_nn)\n",
    "display(m,b)\n",
    "plot_points(data.iloc[:,:2].values, data.iloc[:,2].values)\n",
    "plt.show()"
   ]
  },
  {
   "cell_type": "code",
   "execution_count": 143,
   "metadata": {},
   "outputs": [
    {
     "data": {
      "text/plain": [
       "(5, 100, 100)"
      ]
     },
     "execution_count": 143,
     "metadata": {},
     "output_type": "execute_result"
    }
   ],
   "source": [
    "# number of batches in a loader, and points in one epoch/dataset\n",
    "len(points_loader), len(points), len(points_loader.dataset)"
   ]
  },
  {
   "cell_type": "code",
   "execution_count": 144,
   "metadata": {},
   "outputs": [],
   "source": [
    "# learning rate\n",
    "lr = 0.1\n",
    "\n",
    "# loss function\n",
    "criterion = nn.BCELoss()\n",
    "\n",
    "# number of epochs\n",
    "NEPOCH = 500\n",
    "\n",
    "# weights and biases to draw decision line - will use it later to draw how it moves with every minibatch applied\n",
    "weights_and_biases = []\n",
    "\n",
    "# counter of minibatches\n",
    "minibatch_counter = 0\n",
    "\n",
    "# give output every X mini-batches\n",
    "log_interval = 10"
   ]
  },
  {
   "cell_type": "code",
   "execution_count": 148,
   "metadata": {},
   "outputs": [
    {
     "name": "stdout",
     "output_type": "stream",
     "text": [
      "Epoch 1 of 500: error=1.165\n",
      "Epoch 3 of 500: error=1.164\n",
      "Epoch 5 of 500: error=1.163\n",
      "Epoch 7 of 500: error=1.161\n",
      "Epoch 9 of 500: error=1.158\n",
      "Epoch 11 of 500: error=1.158\n",
      "Epoch 13 of 500: error=1.156\n",
      "Epoch 15 of 500: error=1.154\n",
      "Epoch 17 of 500: error=1.153\n",
      "Epoch 19 of 500: error=1.152\n",
      "Epoch 21 of 500: error=1.150\n",
      "Epoch 23 of 500: error=1.148\n",
      "Epoch 25 of 500: error=1.147\n",
      "Epoch 27 of 500: error=1.146\n",
      "Epoch 29 of 500: error=1.145\n",
      "Epoch 31 of 500: error=1.144\n",
      "Epoch 33 of 500: error=1.142\n",
      "Epoch 35 of 500: error=1.140\n",
      "Epoch 37 of 500: error=1.139\n",
      "Epoch 39 of 500: error=1.138\n",
      "Epoch 41 of 500: error=1.137\n",
      "Epoch 43 of 500: error=1.135\n",
      "Epoch 45 of 500: error=1.134\n",
      "Epoch 47 of 500: error=1.133\n",
      "Epoch 49 of 500: error=1.132\n",
      "Epoch 51 of 500: error=1.130\n",
      "Epoch 53 of 500: error=1.129\n",
      "Epoch 55 of 500: error=1.128\n",
      "Epoch 57 of 500: error=1.127\n",
      "Epoch 59 of 500: error=1.126\n",
      "Epoch 61 of 500: error=1.124\n",
      "Epoch 63 of 500: error=1.123\n",
      "Epoch 65 of 500: error=1.124\n",
      "Epoch 67 of 500: error=1.120\n",
      "Epoch 69 of 500: error=1.120\n",
      "Epoch 71 of 500: error=1.118\n",
      "Epoch 73 of 500: error=1.118\n",
      "Epoch 75 of 500: error=1.116\n",
      "Epoch 77 of 500: error=1.114\n",
      "Epoch 79 of 500: error=1.114\n",
      "Epoch 81 of 500: error=1.112\n",
      "Epoch 83 of 500: error=1.111\n",
      "Epoch 85 of 500: error=1.110\n",
      "Epoch 87 of 500: error=1.111\n",
      "Epoch 89 of 500: error=1.108\n",
      "Epoch 91 of 500: error=1.108\n",
      "Epoch 93 of 500: error=1.106\n",
      "Epoch 95 of 500: error=1.104\n",
      "Epoch 97 of 500: error=1.104\n",
      "Epoch 99 of 500: error=1.102\n",
      "Epoch 101 of 500: error=1.101\n",
      "Epoch 103 of 500: error=1.100\n",
      "Epoch 105 of 500: error=1.100\n",
      "Epoch 107 of 500: error=1.097\n",
      "Epoch 109 of 500: error=1.097\n",
      "Epoch 111 of 500: error=1.097\n",
      "Epoch 113 of 500: error=1.094\n",
      "Epoch 115 of 500: error=1.093\n",
      "Epoch 117 of 500: error=1.092\n",
      "Epoch 119 of 500: error=1.092\n",
      "Epoch 121 of 500: error=1.092\n",
      "Epoch 123 of 500: error=1.089\n",
      "Epoch 125 of 500: error=1.089\n",
      "Epoch 127 of 500: error=1.087\n",
      "Epoch 129 of 500: error=1.086\n",
      "Epoch 131 of 500: error=1.086\n",
      "Epoch 133 of 500: error=1.084\n",
      "Epoch 135 of 500: error=1.083\n",
      "Epoch 137 of 500: error=1.082\n",
      "Epoch 139 of 500: error=1.081\n",
      "Epoch 141 of 500: error=1.082\n",
      "Epoch 143 of 500: error=1.079\n",
      "Epoch 145 of 500: error=1.079\n",
      "Epoch 147 of 500: error=1.077\n",
      "Epoch 149 of 500: error=1.077\n",
      "Epoch 151 of 500: error=1.076\n",
      "Epoch 153 of 500: error=1.075\n",
      "Epoch 155 of 500: error=1.073\n",
      "Epoch 157 of 500: error=1.072\n",
      "Epoch 159 of 500: error=1.071\n",
      "Epoch 161 of 500: error=1.072\n",
      "Epoch 163 of 500: error=1.069\n",
      "Epoch 165 of 500: error=1.069\n",
      "Epoch 167 of 500: error=1.068\n",
      "Epoch 169 of 500: error=1.068\n",
      "Epoch 171 of 500: error=1.066\n",
      "Epoch 173 of 500: error=1.065\n",
      "Epoch 175 of 500: error=1.065\n",
      "Epoch 177 of 500: error=1.064\n",
      "Epoch 179 of 500: error=1.062\n",
      "Epoch 181 of 500: error=1.061\n",
      "Epoch 183 of 500: error=1.061\n",
      "Epoch 185 of 500: error=1.060\n",
      "Epoch 187 of 500: error=1.060\n",
      "Epoch 189 of 500: error=1.058\n",
      "Epoch 191 of 500: error=1.057\n",
      "Epoch 193 of 500: error=1.056\n",
      "Epoch 195 of 500: error=1.055\n",
      "Epoch 197 of 500: error=1.054\n",
      "Epoch 199 of 500: error=1.054\n",
      "Epoch 201 of 500: error=1.053\n",
      "Epoch 203 of 500: error=1.054\n",
      "Epoch 205 of 500: error=1.052\n",
      "Epoch 207 of 500: error=1.050\n",
      "Epoch 209 of 500: error=1.049\n",
      "Epoch 211 of 500: error=1.048\n",
      "Epoch 213 of 500: error=1.048\n",
      "Epoch 215 of 500: error=1.047\n",
      "Epoch 217 of 500: error=1.046\n",
      "Epoch 219 of 500: error=1.045\n",
      "Epoch 221 of 500: error=1.045\n",
      "Epoch 223 of 500: error=1.045\n",
      "Epoch 225 of 500: error=1.043\n",
      "Epoch 227 of 500: error=1.042\n",
      "Epoch 229 of 500: error=1.041\n",
      "Epoch 231 of 500: error=1.042\n",
      "Epoch 233 of 500: error=1.039\n",
      "Epoch 235 of 500: error=1.039\n",
      "Epoch 237 of 500: error=1.039\n",
      "Epoch 239 of 500: error=1.037\n",
      "Epoch 241 of 500: error=1.037\n",
      "Epoch 243 of 500: error=1.037\n",
      "Epoch 245 of 500: error=1.035\n",
      "Epoch 247 of 500: error=1.034\n",
      "Epoch 249 of 500: error=1.033\n",
      "Epoch 251 of 500: error=1.032\n",
      "Epoch 253 of 500: error=1.033\n",
      "Epoch 255 of 500: error=1.032\n",
      "Epoch 257 of 500: error=1.031\n",
      "Epoch 259 of 500: error=1.031\n",
      "Epoch 261 of 500: error=1.029\n",
      "Epoch 263 of 500: error=1.028\n",
      "Epoch 265 of 500: error=1.027\n",
      "Epoch 267 of 500: error=1.027\n",
      "Epoch 269 of 500: error=1.026\n",
      "Epoch 271 of 500: error=1.026\n",
      "Epoch 273 of 500: error=1.025\n",
      "Epoch 275 of 500: error=1.024\n",
      "Epoch 277 of 500: error=1.023\n",
      "Epoch 279 of 500: error=1.023\n",
      "Epoch 281 of 500: error=1.023\n",
      "Epoch 283 of 500: error=1.022\n",
      "Epoch 285 of 500: error=1.021\n",
      "Epoch 287 of 500: error=1.020\n",
      "Epoch 289 of 500: error=1.019\n",
      "Epoch 291 of 500: error=1.018\n",
      "Epoch 293 of 500: error=1.017\n",
      "Epoch 295 of 500: error=1.017\n",
      "Epoch 297 of 500: error=1.017\n",
      "Epoch 299 of 500: error=1.016\n",
      "Epoch 301 of 500: error=1.015\n",
      "Epoch 303 of 500: error=1.014\n",
      "Epoch 305 of 500: error=1.014\n",
      "Epoch 307 of 500: error=1.013\n",
      "Epoch 309 of 500: error=1.012\n",
      "Epoch 311 of 500: error=1.011\n",
      "Epoch 313 of 500: error=1.010\n",
      "Epoch 315 of 500: error=1.010\n",
      "Epoch 317 of 500: error=1.009\n",
      "Epoch 319 of 500: error=1.008\n",
      "Epoch 321 of 500: error=1.009\n",
      "Epoch 323 of 500: error=1.008\n",
      "Epoch 325 of 500: error=1.007\n",
      "Epoch 327 of 500: error=1.006\n",
      "Epoch 329 of 500: error=1.006\n",
      "Epoch 331 of 500: error=1.005\n",
      "Epoch 333 of 500: error=1.005\n",
      "Epoch 335 of 500: error=1.003\n",
      "Epoch 337 of 500: error=1.004\n",
      "Epoch 339 of 500: error=1.003\n",
      "Epoch 341 of 500: error=1.002\n",
      "Epoch 343 of 500: error=1.001\n",
      "Epoch 345 of 500: error=1.001\n",
      "Epoch 347 of 500: error=1.000\n",
      "Epoch 349 of 500: error=0.999\n",
      "Epoch 351 of 500: error=0.999\n",
      "Epoch 353 of 500: error=0.999\n",
      "Epoch 355 of 500: error=0.998\n",
      "Epoch 357 of 500: error=0.997\n",
      "Epoch 359 of 500: error=0.996\n",
      "Epoch 361 of 500: error=0.995\n",
      "Epoch 363 of 500: error=0.996\n",
      "Epoch 365 of 500: error=0.995\n",
      "Epoch 367 of 500: error=0.993\n",
      "Epoch 369 of 500: error=0.994\n",
      "Epoch 371 of 500: error=0.994\n",
      "Epoch 373 of 500: error=0.993\n",
      "Epoch 375 of 500: error=0.991\n",
      "Epoch 377 of 500: error=0.992\n",
      "Epoch 379 of 500: error=0.990\n",
      "Epoch 381 of 500: error=0.989\n",
      "Epoch 383 of 500: error=0.990\n",
      "Epoch 385 of 500: error=0.988\n",
      "Epoch 387 of 500: error=0.988\n",
      "Epoch 389 of 500: error=0.987\n",
      "Epoch 391 of 500: error=0.987\n",
      "Epoch 393 of 500: error=0.987\n",
      "Epoch 395 of 500: error=0.985\n",
      "Epoch 397 of 500: error=0.985\n",
      "Epoch 399 of 500: error=0.985\n",
      "Epoch 401 of 500: error=0.984\n",
      "Epoch 403 of 500: error=0.983\n",
      "Epoch 405 of 500: error=0.982\n",
      "Epoch 407 of 500: error=0.982\n",
      "Epoch 409 of 500: error=0.982\n",
      "Epoch 411 of 500: error=0.981\n",
      "Epoch 413 of 500: error=0.980\n",
      "Epoch 415 of 500: error=0.981\n",
      "Epoch 417 of 500: error=0.979\n",
      "Epoch 419 of 500: error=0.979\n",
      "Epoch 421 of 500: error=0.978\n",
      "Epoch 423 of 500: error=0.978\n",
      "Epoch 425 of 500: error=0.977\n",
      "Epoch 427 of 500: error=0.977\n",
      "Epoch 429 of 500: error=0.977\n",
      "Epoch 431 of 500: error=0.977\n",
      "Epoch 433 of 500: error=0.974\n",
      "Epoch 435 of 500: error=0.974\n",
      "Epoch 437 of 500: error=0.974\n",
      "Epoch 439 of 500: error=0.973\n",
      "Epoch 441 of 500: error=0.973\n",
      "Epoch 443 of 500: error=0.973\n",
      "Epoch 445 of 500: error=0.973\n",
      "Epoch 447 of 500: error=0.972\n",
      "Epoch 449 of 500: error=0.972\n",
      "Epoch 451 of 500: error=0.972\n",
      "Epoch 453 of 500: error=0.970\n",
      "Epoch 455 of 500: error=0.970\n",
      "Epoch 457 of 500: error=0.969\n",
      "Epoch 459 of 500: error=0.969\n",
      "Epoch 461 of 500: error=0.968\n",
      "Epoch 463 of 500: error=0.967\n",
      "Epoch 465 of 500: error=0.967\n",
      "Epoch 467 of 500: error=0.967\n",
      "Epoch 469 of 500: error=0.967\n",
      "Epoch 471 of 500: error=0.965\n",
      "Epoch 473 of 500: error=0.965\n",
      "Epoch 475 of 500: error=0.964\n",
      "Epoch 477 of 500: error=0.964\n",
      "Epoch 479 of 500: error=0.963\n",
      "Epoch 481 of 500: error=0.963\n",
      "Epoch 483 of 500: error=0.962\n",
      "Epoch 485 of 500: error=0.962\n",
      "Epoch 487 of 500: error=0.961\n",
      "Epoch 489 of 500: error=0.962\n",
      "Epoch 491 of 500: error=0.960\n",
      "Epoch 493 of 500: error=0.960\n",
      "Epoch 495 of 500: error=0.960\n",
      "Epoch 497 of 500: error=0.959\n",
      "Epoch 499 of 500: error=0.959\n"
     ]
    }
   ],
   "source": [
    "for epoch in range(NEPOCH):   \n",
    "    # error on epoch\n",
    "    error = 0\n",
    "    for points_batch, labels_batch in points_loader:\n",
    "        #set_trace()\n",
    "        # zero grad the parameters\n",
    "        points_nn.l1.weight.grad.zero_()\n",
    "        points_nn.l1.bias.grad.zero_()\n",
    "        \n",
    "        # calculate the output of the network\n",
    "        out = points_nn(points_batch)\n",
    "        \n",
    "        # calculate the loss\n",
    "        loss = criterion(out, labels_batch)\n",
    "        \n",
    "        # accumelate the error for the epoch\n",
    "        error += loss.item()\n",
    "        \n",
    "        # backprop grads from the loss to the weights\n",
    "        loss.backward()\n",
    "        \n",
    "        # update the weights\n",
    "        with torch.no_grad():\n",
    "            points_nn.l1.weight.data -= lr*points_nn.l1.weight.grad\n",
    "            points_nn.l1.bias.data -= lr*points_nn.l1.bias.grad\n",
    "        \n",
    "        minibatch_counter += 1\n",
    "        \n",
    "        if minibatch_counter%log_interval == 0:\n",
    "            print(f'Epoch {epoch} of {len(points_loader)*len(points_loader.dataset)}: error={error:.3f}') \n",
    "            weights_and_biases.append(get_weights(points_nn))"
   ]
  },
  {
   "cell_type": "code",
   "execution_count": 149,
   "metadata": {},
   "outputs": [
    {
     "data": {
      "text/plain": [
       "500"
      ]
     },
     "execution_count": 149,
     "metadata": {},
     "output_type": "execute_result"
    }
   ],
   "source": [
    "len(weights_and_biases)"
   ]
  },
  {
   "cell_type": "markdown",
   "metadata": {},
   "source": [
    "### Dislpay how border line is moving with every log_ingeral's iteration over minibatches"
   ]
  },
  {
   "cell_type": "code",
   "execution_count": 150,
   "metadata": {},
   "outputs": [
    {
     "data": {
      "image/png": "[encoded data removed]",
      "text/plain": [
       "<Figure size 432x288 with 1 Axes>"
      ]
     },
     "metadata": {
      "needs_background": "light"
     },
     "output_type": "display_data"
    }
   ],
   "source": [
    "for i , (m,b) in enumerate(weights_and_biases):\n",
    "    if i%log_interval == 0:\n",
    "        display(m,b)\n",
    "plot_points(data.iloc[:,:2].values, data.iloc[:,2].values)\n",
    "plt.show()"
   ]
  },
  {
   "cell_type": "code",
   "execution_count": 112,
   "metadata": {},
   "outputs": [
    {
     "data": {
      "text/plain": [
       "(tensor([[-6.9980, -7.1117]]), tensor([7.5623]))"
      ]
     },
     "execution_count": 112,
     "metadata": {},
     "output_type": "execute_result"
    }
   ],
   "source": [
    "points_nn.l1.weight.data, points_nn.l1.bias.data"
   ]
  },
  {
   "cell_type": "code",
   "execution_count": null,
   "metadata": {},
   "outputs": [],
   "source": []
  }
 ],
 "metadata": {
  "kernelspec": {
   "display_name": "Python 3",
   "language": "python",
   "name": "python3"
  },
  "language_info": {
   "codemirror_mode": {
    "name": "ipython",
    "version": 3
   },
   "file_extension": ".py",
   "mimetype": "text/x-python",
   "name": "python",
   "nbconvert_exporter": "python",
   "pygments_lexer": "ipython3",
   "version": "3.8.0"
  }
 },
 "nbformat": 4,
 "nbformat_minor": 4
}
