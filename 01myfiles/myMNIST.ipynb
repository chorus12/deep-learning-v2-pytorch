{
 "cells": [
  {
   "cell_type": "markdown",
   "metadata": {},
   "source": [
    "## My implementation of MINST "
   ]
  },
  {
   "cell_type": "code",
   "execution_count": 51,
   "metadata": {},
   "outputs": [],
   "source": [
    "%matplotlib inline\n",
    "import torch.nn as nn            # containing various building blocks for your neural networks\n",
    "import torch.optim as optim      # implementing various optimization algorithms\n",
    "import torch.nn.functional as F  # a lower level (compared to torch.nn) interface\n",
    "import torch\n",
    "\n",
    "# torchvision: popular datasets, model architectures, and common image transformations for computer vision.\n",
    "import torchvision\n",
    "# transforms: transformations useful for image processing\n",
    "import torchvision.transforms as transforms\n",
    "\n",
    "from torch.utils.data import Dataset, DataLoader\n",
    "\n",
    "import glob\n",
    "import os.path as osp\n",
    "import numpy as np\n",
    "from PIL import Image\n",
    "import pdb\n",
    "import sys"
   ]
  },
  {
   "cell_type": "markdown",
   "metadata": {},
   "source": [
    "### Collecting the data"
   ]
  },
  {
   "cell_type": "code",
   "execution_count": 3,
   "metadata": {},
   "outputs": [
    {
     "name": "stdout",
     "output_type": "stream",
     "text": [
      "--2019-10-09 20:44:29--  https://github.com/myleott/mnist_png/blob/master/mnist_png.tar.gz?raw=true\n",
      "Loaded CA certificate '/etc/ssl/certs/ca-certificates.crt'\n",
      "Resolving github.com (github.com)... 140.82.118.4\n",
      "Connecting to github.com (github.com)|140.82.118.4|:443... connected.\n",
      "HTTP request sent, awaiting response... 302 Found\n",
      "Location: https://github.com/myleott/mnist_png/raw/master/mnist_png.tar.gz [following]\n",
      "--2019-10-09 20:44:30--  https://github.com/myleott/mnist_png/raw/master/mnist_png.tar.gz\n",
      "Reusing existing connection to github.com:443.\n",
      "HTTP request sent, awaiting response... 302 Found\n",
      "Location: https://raw.githubusercontent.com/myleott/mnist_png/master/mnist_png.tar.gz [following]\n",
      "--2019-10-09 20:44:30--  https://raw.githubusercontent.com/myleott/mnist_png/master/mnist_png.tar.gz\n",
      "Resolving raw.githubusercontent.com (raw.githubusercontent.com)... 151.101.244.133\n",
      "Connecting to raw.githubusercontent.com (raw.githubusercontent.com)|151.101.244.133|:443... connected.\n",
      "HTTP request sent, awaiting response... 200 OK\n",
      "Length: 15683414 (15M) [application/octet-stream]\n",
      "Saving to: ‘mnist_png.tar.gz?raw=true’\n",
      "\n",
      "mnist_png.tar.gz?ra 100%[===================>]  14.96M  7.54MB/s    in 2.0s    \n",
      "\n",
      "2019-10-09 20:44:33 (7.54 MB/s) - ‘mnist_png.tar.gz?raw=true’ saved [15683414/15683414]\n",
      "\n"
     ]
    }
   ],
   "source": [
    "!wget https://github.com/myleott/mnist_png/blob/master/mnist_png.tar.gz?raw=true"
   ]
  },
  {
   "cell_type": "code",
   "execution_count": 2,
   "metadata": {},
   "outputs": [
    {
     "name": "stdout",
     "output_type": "stream",
     "text": [
      " Basic-image-reading.ipynb   mnist_png\t        myMNIST.ipynb\n",
      "'Basic pytorch.ipynb'\t     mnist_png.tar.gz\n"
     ]
    }
   ],
   "source": [
    "!ls"
   ]
  },
  {
   "cell_type": "code",
   "execution_count": 3,
   "metadata": {},
   "outputs": [
    {
     "name": "stdout",
     "output_type": "stream",
     "text": [
      "mv: cannot stat 'mnist_png.tar.gz?raw=true': No such file or directory\n"
     ]
    }
   ],
   "source": [
    "!mv mnist_png.tar.gz\\?raw\\=true mnist_png.tar.gz"
   ]
  },
  {
   "cell_type": "code",
   "execution_count": 4,
   "metadata": {},
   "outputs": [],
   "source": [
    "!tar -xzf mnist_png.tar.gz"
   ]
  },
  {
   "cell_type": "code",
   "execution_count": 5,
   "metadata": {},
   "outputs": [
    {
     "name": "stdout",
     "output_type": "stream",
     "text": [
      " Basic-image-reading.ipynb   mnist_png\t        myMNIST.ipynb\n",
      "'Basic pytorch.ipynb'\t     mnist_png.tar.gz\n"
     ]
    }
   ],
   "source": [
    "!ls"
   ]
  },
  {
   "cell_type": "code",
   "execution_count": 6,
   "metadata": {},
   "outputs": [
    {
     "name": "stdout",
     "output_type": "stream",
     "text": [
      "0  1  2  3  4  5  6  7\t8  9\n"
     ]
    }
   ],
   "source": [
    "!ls mnist_png/training/"
   ]
  },
  {
   "cell_type": "code",
   "execution_count": 7,
   "metadata": {},
   "outputs": [
    {
     "name": "stdout",
     "output_type": "stream",
     "text": [
      "0  1  2  3  4  5  6  7\t8  9\n"
     ]
    }
   ],
   "source": [
    "!ls mnist_png/testing/"
   ]
  },
  {
   "cell_type": "markdown",
   "metadata": {},
   "source": [
    "### Create class that manupulates the data"
   ]
  },
  {
   "cell_type": "code",
   "execution_count": 39,
   "metadata": {},
   "outputs": [],
   "source": [
    "class myMNIST(Dataset):\n",
    "    \"\"\"\n",
    "    My version of customized MNIST dataset\n",
    "    contains the following methods\n",
    "    __getitem__\n",
    "    __len__\n",
    "    _preload\n",
    "    \"\"\"\n",
    "    def __init__(self, rootpath, transform=None, preload=False):\n",
    "        \"\"\"\n",
    "        Constructor for the class.\n",
    "        ---\n",
    "        Arguments:\n",
    "        rootpath - path for the data to load, must contain subfolders with names from 0 to 9\n",
    "        You can download a dataset like the following:\n",
    "        wget https://github.com/myleott/mnist_png/blob/master/mnist_png.tar.gz?raw=true\n",
    "        mv mnist_png.tar.gz\\?raw\\=true mnist_png.tar.gz\n",
    "        tar -xzf mnist_png.tar.gz\n",
    "        \n",
    "        transform - transform to apply to the data\n",
    "        preload - preload data to memory\n",
    "        \"\"\"\n",
    "        self.images = None # list to hold the images if preloaded\n",
    "        self.labels = None # list to hold labels if preloaded\n",
    "        self.root = rootpath\n",
    "        self.transform = transform\n",
    "        self.filenames = [] # list to hold pairs (filename, digit_label)\n",
    "        self.len = None\n",
    "        \n",
    "        #read filenames\n",
    "        for digit in range(10): # for all the digits read corresponding files from the folder and create a pair (filename, digit)\n",
    "            filenames = glob.glob(osp.join(self.root, str(digit), '*.png')) # read filenames\n",
    "            filenames_and_labels = list(map(lambda filename: (filename,digit), filenames)) # add a label to each filename\n",
    "            self.filenames += filenames_and_labels # append a digit data to an object \n",
    "        \n",
    "        # preload the data\n",
    "        if preload :\n",
    "            self._preload()\n",
    "        \n",
    "        # set the len property\n",
    "        self.len = len(self.filenames)\n",
    "        \n",
    "    def _preload(self):\n",
    "        \"\"\"\n",
    "        Preload dataset into the memory.\n",
    "        \"\"\"\n",
    "        self.images = []\n",
    "        self.labels = []\n",
    "        for file_name, label in self.filenames:\n",
    "            tmp_image = Image.open(file_name)\n",
    "            self.images.append(tmp_image.copy())\n",
    "            self.labels.append(label)\n",
    "            tmp_image.close()\n",
    "    \n",
    "    def __getitem__(self, index):\n",
    "        \"\"\"\n",
    "        return an item with the specified index\n",
    "        \"\"\"\n",
    "        try: \n",
    "            if self.images is not None: # images are preloaded\n",
    "                image, label = self.images[index], self.labels[index]\n",
    "            else:\n",
    "                image_fn, label = self.filenames[index]\n",
    "                image = Image.open(image_fn)\n",
    "\n",
    "            # do the transform\n",
    "            image = image if self.transform is None else self.transform(image)\n",
    "        except IndexError:\n",
    "            print(\"index out of range\")\n",
    "            image, label = None, None\n",
    "        finally:\n",
    "            return(image,label)\n",
    "    \n",
    "    def __len__(self):\n",
    "        return(self.len)\n",
    "    "
   ]
  },
  {
   "cell_type": "code",
   "execution_count": 40,
   "metadata": {},
   "outputs": [
    {
     "name": "stdout",
     "output_type": "stream",
     "text": [
      "CPU times: user 4.36 s, sys: 363 ms, total: 4.73 s\n",
      "Wall time: 4.74 s\n"
     ]
    }
   ],
   "source": [
    "%%time\n",
    "MNISTData =  myMNIST(osp.join('mnist_png', 'training'),\n",
    "                     transform=None,\n",
    "                     preload=True)"
   ]
  },
  {
   "cell_type": "code",
   "execution_count": 41,
   "metadata": {},
   "outputs": [
    {
     "data": {
      "text/plain": [
       "[('mnist_png/training/0/38315.png', 0),\n",
       " ('mnist_png/training/0/46294.png', 0),\n",
       " ('mnist_png/training/0/29497.png', 0),\n",
       " ('mnist_png/training/0/10859.png', 0),\n",
       " ('mnist_png/training/0/43418.png', 0),\n",
       " ('mnist_png/training/0/19664.png', 0),\n",
       " ('mnist_png/training/0/787.png', 0),\n",
       " ('mnist_png/training/0/54004.png', 0),\n",
       " ('mnist_png/training/0/57161.png', 0),\n",
       " ('mnist_png/training/0/10276.png', 0)]"
      ]
     },
     "execution_count": 41,
     "metadata": {},
     "output_type": "execute_result"
    }
   ],
   "source": [
    "MNISTData.filenames[:10]"
   ]
  },
  {
   "cell_type": "code",
   "execution_count": 42,
   "metadata": {},
   "outputs": [],
   "source": [
    "testMNIST = myMNIST('mnist_png/training/',\n",
    "                    transform=transforms.ToTensor(), \n",
    "                    preload=False)\n",
    "#testMNIST = myMNIST('mnist_png/training/', preload=False)"
   ]
  },
  {
   "cell_type": "code",
   "execution_count": 43,
   "metadata": {},
   "outputs": [],
   "source": [
    "im, lbl = testMNIST[33333]"
   ]
  },
  {
   "cell_type": "code",
   "execution_count": 44,
   "metadata": {},
   "outputs": [
    {
     "data": {
      "text/plain": [
       "torch.Size([1, 28, 28])"
      ]
     },
     "execution_count": 44,
     "metadata": {},
     "output_type": "execute_result"
    }
   ],
   "source": [
    "im.size()"
   ]
  },
  {
   "cell_type": "code",
   "execution_count": 54,
   "metadata": {},
   "outputs": [
    {
     "data": {
      "image/png": "[encoded data removed]",
      "text/plain": [
       "<PIL.Image.Image image mode=L size=28x28 at 0x7FB74D495410>"
      ]
     },
     "execution_count": 54,
     "metadata": {},
     "output_type": "execute_result"
    }
   ],
   "source": [
    "transforms.ToPILImage()(im)"
   ]
  },
  {
   "cell_type": "code",
   "execution_count": 57,
   "metadata": {},
   "outputs": [
    {
     "data": {
      "text/plain": [
       "<matplotlib.image.AxesImage at 0x7fb74da96d10>"
      ]
     },
     "execution_count": 57,
     "metadata": {},
     "output_type": "execute_result"
    },
    {
     "data": {
      "image/png": "[encoded data removed]",
      "text/plain": [
       "<Figure size 432x288 with 1 Axes>"
      ]
     },
     "metadata": {
      "needs_background": "light"
     },
     "output_type": "display_data"
    }
   ],
   "source": [
    "plt.imshow(transforms.ToPILImage()(im), cmap='gray')"
   ]
  },
  {
   "cell_type": "code",
   "execution_count": 9,
   "metadata": {},
   "outputs": [
    {
     "data": {
      "text/plain": [
       "tensor([[0.0000, 0.0000, 0.0000, 0.0000, 0.0000, 0.4588, 0.9922, 0.9922, 0.7216],\n",
       "        [0.0000, 0.0000, 0.0000, 0.0000, 0.0353, 0.9098, 0.9922, 0.6510, 0.0000],\n",
       "        [0.0000, 0.0000, 0.0000, 0.0000, 0.4235, 0.9922, 0.9922, 0.1647, 0.0000],\n",
       "        [0.0000, 0.0000, 0.0000, 0.0000, 0.0471, 0.9922, 0.9922, 0.1294, 0.0000],\n",
       "        [0.0000, 0.0000, 0.0000, 0.0000, 0.0471, 0.9922, 0.9922, 0.1294, 0.0000],\n",
       "        [0.0000, 0.0000, 0.0000, 0.0000, 0.0471, 0.9922, 0.9922, 0.1294, 0.0000],\n",
       "        [0.0000, 0.0000, 0.0000, 0.0000, 0.0196, 0.7765, 1.0000, 0.5608, 0.0000],\n",
       "        [0.0000, 0.0000, 0.0000, 0.0000, 0.0000, 0.6078, 0.9922, 0.8627, 0.0000],\n",
       "        [0.0000, 0.0000, 0.0863, 0.0863, 0.0000, 0.6078, 0.9922, 0.9922, 0.0000]])"
      ]
     },
     "execution_count": 9,
     "metadata": {},
     "output_type": "execute_result"
    }
   ],
   "source": [
    "im[0,8:17,8:17]"
   ]
  },
  {
   "cell_type": "code",
   "execution_count": 10,
   "metadata": {},
   "outputs": [
    {
     "data": {
      "text/plain": [
       "60000"
      ]
     },
     "execution_count": 10,
     "metadata": {},
     "output_type": "execute_result"
    }
   ],
   "source": [
    "len(testMNIST)"
   ]
  },
  {
   "cell_type": "code",
   "execution_count": 11,
   "metadata": {},
   "outputs": [],
   "source": [
    "del(MNISTData)\n",
    "del(testMNIST)"
   ]
  },
  {
   "cell_type": "markdown",
   "metadata": {},
   "source": [
    "### Create class that processed MNIST Dataset in batches"
   ]
  },
  {
   "cell_type": "code",
   "execution_count": 12,
   "metadata": {},
   "outputs": [
    {
     "data": {
      "text/plain": [
       "4"
      ]
     },
     "execution_count": 12,
     "metadata": {},
     "output_type": "execute_result"
    }
   ],
   "source": [
    "NUM_WORKERS = 1 if sys.platform == 'windows' else 4\n",
    "NUM_WORKERS"
   ]
  },
  {
   "cell_type": "markdown",
   "metadata": {},
   "source": [
    "#### Create two datasets for train and test"
   ]
  },
  {
   "cell_type": "code",
   "execution_count": 64,
   "metadata": {},
   "outputs": [
    {
     "name": "stdout",
     "output_type": "stream",
     "text": [
      "testing  training\n"
     ]
    }
   ],
   "source": [
    "!ls mnist_png/"
   ]
  },
  {
   "cell_type": "code",
   "execution_count": 14,
   "metadata": {},
   "outputs": [],
   "source": [
    "trainMNIST = myMNIST(rootpath=osp.join('mnist_png','training'), \n",
    "                     transform=transforms.ToTensor(), \n",
    "                     preload=True)\n",
    "testMNIST = myMNIST(rootpath=osp.join('mnist_png','testing'), \n",
    "                     transform=transforms.ToTensor(), \n",
    "                     preload=True)"
   ]
  },
  {
   "cell_type": "markdown",
   "metadata": {},
   "source": [
    "#### Create two corresponding data loaders"
   ]
  },
  {
   "cell_type": "code",
   "execution_count": 77,
   "metadata": {},
   "outputs": [],
   "source": [
    "trainLoader = DataLoader(dataset = trainMNIST, batch_size = 256, shuffle=True, num_workers=NUM_WORKERS)\n",
    "testLoader = DataLoader(dataset = testMNIST, batch_size = 1000, shuffle=False, num_workers=NUM_WORKERS)"
   ]
  },
  {
   "cell_type": "code",
   "execution_count": 27,
   "metadata": {},
   "outputs": [
    {
     "name": "stdout",
     "output_type": "stream",
     "text": [
      "60000\n"
     ]
    }
   ],
   "source": [
    "print(len(trainMNIST))"
   ]
  },
  {
   "cell_type": "code",
   "execution_count": 28,
   "metadata": {},
   "outputs": [
    {
     "name": "stdout",
     "output_type": "stream",
     "text": [
      "10000\n"
     ]
    }
   ],
   "source": [
    "print(len(testMNIST))"
   ]
  },
  {
   "cell_type": "code",
   "execution_count": 25,
   "metadata": {},
   "outputs": [
    {
     "data": {
      "text/plain": [
       "'cuda'"
      ]
     },
     "execution_count": 25,
     "metadata": {},
     "output_type": "execute_result"
    }
   ],
   "source": [
    "DEVICE = 'cuda' if torch.cuda.is_available() else 'cpu'\n",
    "DEVICE"
   ]
  },
  {
   "cell_type": "markdown",
   "metadata": {},
   "source": [
    "### Display some images"
   ]
  },
  {
   "cell_type": "code",
   "execution_count": 58,
   "metadata": {},
   "outputs": [],
   "source": [
    "%matplotlib inline\n",
    "import matplotlib.pyplot as plt"
   ]
  },
  {
   "cell_type": "code",
   "execution_count": 93,
   "metadata": {},
   "outputs": [
    {
     "name": "stdout",
     "output_type": "stream",
     "text": [
      "    8     0     0     3     7     2     8     9     4     5     4     0     3     2     9     0\n"
     ]
    },
    {
     "data": {
      "image/png": "[encoded data removed]",
      "text/plain": [
       "<Figure size 432x288 with 1 Axes>"
      ]
     },
     "metadata": {
      "needs_background": "light"
     },
     "output_type": "display_data"
    }
   ],
   "source": [
    "# functions to show an image\n",
    "def imshow(img):\n",
    "    npimg = img.numpy()\n",
    "    plt.imshow(np.transpose(npimg, (1, 2, 0)))\n",
    "\n",
    "# get some random training images\n",
    "dataiter = iter(trainLoader)\n",
    "images, labels = dataiter.next()\n",
    "\n",
    "# show images\n",
    "image_grid = torchvision.utils.make_grid(images[:64])\n",
    "imshow(image_grid)\n",
    "# print labels\n",
    "print(' '.join('%5s' % labels[j].item() for j in range(16)))"
   ]
  },
  {
   "cell_type": "markdown",
   "metadata": {},
   "source": [
    "### Define a convolutional Network"
   ]
  },
  {
   "cell_type": "code",
   "execution_count": null,
   "metadata": {},
   "outputs": [],
   "source": [
    "class myNet(nn.Module):\n",
    "    def __init__(self):\n",
    "        super(Net, self).__init__()\n",
    "        \n",
    "        # Conv2d(in_channels, out_channels, kernel_size, stride=1, padding=0,\n",
    "        #        dilation=1, groups=1, bias=True, padding_mode='zeros')\n",
    "        self.conv1 = nn.Conv2d(1, 10, kernel_size=5)\n",
    "        self.conv2 = nn.Conv2d(10, 20, kernel_size=5)\n",
    "        self.conv2_drop = nn.Dropout2d()\n",
    "        \n",
    "        # Linear(in_features, out_features, bias=True)\n",
    "        self.fc1 = nn.Linear(320, 50)\n",
    "        self.fc2 = nn.Linear(50, 10)\n",
    "        \n",
    "        # MaxPool2d(kernel_size, stride=None, padding=0, dilation=1, return_indices=False, ceil_mode=False)\n",
    "        self.max_pool = nn.MaxPool2d(2)\n",
    "        # ReLU(inplace=False)\n",
    "        self.relu = nn.ReLU()\n",
    "\n",
    "    def forward(self, x):\n",
    "        # Note: the following two ways for max pooling / relu are equivalent.\n",
    "        # 1) with torch.nn.functional:\n",
    "        x = F.relu(F.max_pool2d(self.conv1(x), 2))\n",
    "        # 2) with torch.nn:\n",
    "        x = self.relu(self.max_pool(self.conv2_drop(self.conv2(x))))\n",
    "        x = x.view(-1, 320)\n",
    "        x = F.relu(self.fc1(x))\n",
    "        x = F.dropout(x, training=self.training)\n",
    "        x = self.fc2(x)\n",
    "        return F.log_softmax(x, dim=1)\n",
    "\n",
    "model = Net().to(device)\n",
    "optimizer = optim.SGD(model.parameters(), lr=0.001, momentum=0.9)"
   ]
  },
  {
   "cell_type": "code",
   "execution_count": 130,
   "metadata": {},
   "outputs": [],
   "source": [
    "x = torch.ones(1,1,28,28)"
   ]
  },
  {
   "cell_type": "code",
   "execution_count": 120,
   "metadata": {},
   "outputs": [],
   "source": [
    "conv1 = nn.Conv2d( 1,10, kernel_size=5)\n",
    "conv2 = nn.Conv2d(10,20, kernel_size=5)\n",
    "conv2_drop = nn.Dropout2d()\n",
    "fc1 = nn.Linear(320, 50)\n",
    "fc2 = nn.Linear(50, 10)"
   ]
  },
  {
   "cell_type": "code",
   "execution_count": 133,
   "metadata": {},
   "outputs": [
    {
     "data": {
      "text/plain": [
       "torch.Size([1, 10, 12, 12])"
      ]
     },
     "execution_count": 133,
     "metadata": {},
     "output_type": "execute_result"
    }
   ],
   "source": [
    "out1 = F.relu(F.max_pool2d(conv1(x),2))\n",
    "out1.size()"
   ]
  },
  {
   "cell_type": "code",
   "execution_count": 134,
   "metadata": {},
   "outputs": [],
   "source": [
    "out2 = F.relu(F.max_pool2d(conv2_drop(conv2(out1)), 2))"
   ]
  },
  {
   "cell_type": "code",
   "execution_count": 135,
   "metadata": {},
   "outputs": [
    {
     "data": {
      "text/plain": [
       "torch.Size([1, 20, 4, 4])"
      ]
     },
     "execution_count": 135,
     "metadata": {},
     "output_type": "execute_result"
    }
   ],
   "source": [
    "out2.size()"
   ]
  },
  {
   "cell_type": "code",
   "execution_count": null,
   "metadata": {},
   "outputs": [],
   "source": []
  },
  {
   "cell_type": "code",
   "execution_count": 157,
   "metadata": {},
   "outputs": [
    {
     "data": {
      "text/plain": [
       "tensor([[[[1., 1.],\n",
       "          [1., 1.]],\n",
       "\n",
       "         [[1., 1.],\n",
       "          [1., 1.]],\n",
       "\n",
       "         [[1., 1.],\n",
       "          [1., 1.]]],\n",
       "\n",
       "\n",
       "        [[[1., 1.],\n",
       "          [1., 1.]],\n",
       "\n",
       "         [[1., 1.],\n",
       "          [1., 1.]],\n",
       "\n",
       "         [[1., 1.],\n",
       "          [1., 1.]]]])"
      ]
     },
     "execution_count": 157,
     "metadata": {},
     "output_type": "execute_result"
    }
   ],
   "source": [
    "drop = nn.Dropout2d(p=0)\n",
    "drop_input = torch.ones(2,3,2,2)\n",
    "drop_input"
   ]
  },
  {
   "cell_type": "code",
   "execution_count": 158,
   "metadata": {},
   "outputs": [],
   "source": [
    "drop_out = drop(drop_input)"
   ]
  },
  {
   "cell_type": "code",
   "execution_count": 159,
   "metadata": {},
   "outputs": [
    {
     "data": {
      "text/plain": [
       "tensor([[[[1., 1.],\n",
       "          [1., 1.]],\n",
       "\n",
       "         [[1., 1.],\n",
       "          [1., 1.]],\n",
       "\n",
       "         [[1., 1.],\n",
       "          [1., 1.]]],\n",
       "\n",
       "\n",
       "        [[[1., 1.],\n",
       "          [1., 1.]],\n",
       "\n",
       "         [[1., 1.],\n",
       "          [1., 1.]],\n",
       "\n",
       "         [[1., 1.],\n",
       "          [1., 1.]]]])"
      ]
     },
     "execution_count": 159,
     "metadata": {},
     "output_type": "execute_result"
    }
   ],
   "source": [
    "drop_out"
   ]
  },
  {
   "cell_type": "code",
   "execution_count": null,
   "metadata": {},
   "outputs": [],
   "source": []
  },
  {
   "cell_type": "code",
   "execution_count": 101,
   "metadata": {},
   "outputs": [],
   "source": [
    "m = nn.Linear(2,5)\n",
    "input  = torch.randn(10,2)"
   ]
  },
  {
   "cell_type": "code",
   "execution_count": null,
   "metadata": {},
   "outputs": [],
   "source": []
  },
  {
   "cell_type": "code",
   "execution_count": null,
   "metadata": {},
   "outputs": [],
   "source": []
  },
  {
   "cell_type": "code",
   "execution_count": null,
   "metadata": {},
   "outputs": [],
   "source": []
  },
  {
   "cell_type": "code",
   "execution_count": 102,
   "metadata": {},
   "outputs": [
    {
     "data": {
      "text/plain": [
       "tensor([[-1.6184, -0.1538],\n",
       "        [-0.7279, -1.2948],\n",
       "        [-2.2174, -0.0344],\n",
       "        [ 1.0340, -0.2797],\n",
       "        [ 1.0660,  0.8330],\n",
       "        [-0.1349, -0.3043],\n",
       "        [ 2.7545, -0.1358],\n",
       "        [-0.6227,  0.9750],\n",
       "        [-0.8000,  0.7449],\n",
       "        [ 0.9468, -0.6565]])"
      ]
     },
     "execution_count": 102,
     "metadata": {},
     "output_type": "execute_result"
    }
   ],
   "source": [
    "input"
   ]
  },
  {
   "cell_type": "code",
   "execution_count": 103,
   "metadata": {},
   "outputs": [],
   "source": [
    "output = m(input)"
   ]
  },
  {
   "cell_type": "code",
   "execution_count": 104,
   "metadata": {},
   "outputs": [
    {
     "data": {
      "text/plain": [
       "tensor([[-0.9664, -0.7619,  0.4916,  0.0428,  1.3896],\n",
       "        [-0.4291, -0.5122,  0.9616,  0.3005,  1.2062],\n",
       "        [-1.2077, -1.0114,  0.4844,  0.0505,  1.7162],\n",
       "        [ 0.0273,  0.3930,  0.3309, -0.1039, -0.1829],\n",
       "        [-0.1672,  0.5469, -0.2024, -0.4171, -0.5513],\n",
       "        [-0.3958, -0.1260,  0.4399, -0.0169,  0.5352],\n",
       "        [ 0.6301,  1.1706,  0.1191, -0.2621, -1.2736],\n",
       "        [-0.8114, -0.1807, -0.1297, -0.3409,  0.4305],\n",
       "        [-0.8336, -0.2879, -0.0052, -0.2645,  0.6104],\n",
       "        [ 0.0653,  0.3072,  0.5178,  0.0073, -0.0117]],\n",
       "       grad_fn=<AddmmBackward>)"
      ]
     },
     "execution_count": 104,
     "metadata": {},
     "output_type": "execute_result"
    }
   ],
   "source": [
    "output"
   ]
  },
  {
   "cell_type": "code",
   "execution_count": 108,
   "metadata": {},
   "outputs": [
    {
     "data": {
      "text/plain": [
       "OrderedDict([('weight', tensor([[ 0.3658, -0.1854],\n",
       "                      [ 0.4414,  0.1256],\n",
       "                      [-0.0832, -0.4769],\n",
       "                      [-0.0686, -0.2794],\n",
       "                      [-0.6077, -0.3136]])),\n",
       "             ('bias', tensor([-0.4028, -0.0283,  0.2835, -0.1112,  0.3578]))])"
      ]
     },
     "execution_count": 108,
     "metadata": {},
     "output_type": "execute_result"
    }
   ],
   "source": [
    "m.state_dict()"
   ]
  },
  {
   "cell_type": "code",
   "execution_count": 112,
   "metadata": {},
   "outputs": [
    {
     "name": "stdout",
     "output_type": "stream",
     "text": [
      "tensor([[ 0.3658,  0.4414, -0.0832, -0.0686, -0.6077],\n",
      "        [-0.1854,  0.1256, -0.4769, -0.2794, -0.3136]])\n",
      "tensor([-0.4028, -0.0283,  0.2835, -0.1112,  0.3578])\n"
     ]
    }
   ],
   "source": [
    "for param in m.parameters():\n",
    "    print( param.data.T)"
   ]
  },
  {
   "cell_type": "code",
   "execution_count": null,
   "metadata": {},
   "outputs": [],
   "source": []
  },
  {
   "cell_type": "code",
   "execution_count": null,
   "metadata": {},
   "outputs": [],
   "source": []
  },
  {
   "cell_type": "code",
   "execution_count": null,
   "metadata": {},
   "outputs": [],
   "source": []
  },
  {
   "cell_type": "code",
   "execution_count": 160,
   "metadata": {},
   "outputs": [
    {
     "data": {
      "text/html": [
       "<style>.container { width:90% !important; }</style>"
      ],
      "text/plain": [
       "<IPython.core.display.HTML object>"
      ]
     },
     "metadata": {},
     "output_type": "display_data"
    }
   ],
   "source": []
  },
  {
   "cell_type": "code",
   "execution_count": null,
   "metadata": {},
   "outputs": [],
   "source": []
  }
 ],
 "metadata": {
  "kernelspec": {
   "display_name": "Python 3",
   "language": "python",
   "name": "python3"
  },
  "language_info": {
   "codemirror_mode": {
    "name": "ipython",
    "version": 3
   },
   "file_extension": ".py",
   "mimetype": "text/x-python",
   "name": "python",
   "nbconvert_exporter": "python",
   "pygments_lexer": "ipython3",
   "version": "3.8.0"
  }
 },
 "nbformat": 4,
 "nbformat_minor": 4
}
