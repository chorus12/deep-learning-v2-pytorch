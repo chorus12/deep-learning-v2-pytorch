{
 "cells": [
  {
   "cell_type": "code",
   "execution_count": 321,
   "metadata": {},
   "outputs": [
    {
     "name": "stdout",
     "output_type": "stream",
     "text": [
      "[jupytext] Reading Character_Level_RNN_Exercise.ipynb\n",
      "[jupytext] Writing Character_Level_RNN_Exercise.py (destination file replaced)\n"
     ]
    }
   ],
   "source": [
    "!jupytext --to py Character_Level_RNN_Exercise.ipynb"
   ]
  },
  {
   "cell_type": "markdown",
   "metadata": {},
   "source": [
    "# Character-Level LSTM in PyTorch\n",
    "\n",
    "In this notebook, I'll construct a character-level LSTM with PyTorch. The network will train character by character on some text, then generate new text character by character. As an example, I will train on Anna Karenina. **This model will be able to generate new text based on the text from the book!**\n",
    "\n",
    "This network is based off of Andrej Karpathy's [post on RNNs](http://karpathy.github.io/2015/05/21/rnn-effectiveness/) and [implementation in Torch](https://github.com/karpathy/char-rnn). Below is the general architecture of the character-wise RNN.\n",
    "\n",
    "<img src=\"assets/charseq.jpeg\" width=\"500\">"
   ]
  },
  {
   "cell_type": "markdown",
   "metadata": {},
   "source": [
    "First let's load in our required resources for data loading and model creation."
   ]
  },
  {
   "cell_type": "code",
   "execution_count": 1,
   "metadata": {},
   "outputs": [],
   "source": [
    "import numpy as np\n",
    "import torch\n",
    "from torch import nn\n",
    "import torch.nn.functional as F"
   ]
  },
  {
   "cell_type": "markdown",
   "metadata": {},
   "source": [
    "## Load in Data\n",
    "\n",
    "Then, we'll load the Anna Karenina text file and convert it into integers for our network to use. "
   ]
  },
  {
   "cell_type": "code",
   "execution_count": 2,
   "metadata": {},
   "outputs": [],
   "source": [
    "# open text file and read in data as `text`\n",
    "with open('data/anna.txt', 'r') as f:\n",
    "    text = f.read()"
   ]
  },
  {
   "cell_type": "markdown",
   "metadata": {},
   "source": [
    "Let's check out the first 100 characters, make sure everything is peachy. According to the [American Book Review](http://americanbookreview.org/100bestlines.asp), this is the 6th best first line of a book ever."
   ]
  },
  {
   "cell_type": "code",
   "execution_count": 3,
   "metadata": {},
   "outputs": [
    {
     "name": "stdout",
     "output_type": "stream",
     "text": [
      "Chapter 1\n",
      "\n",
      "\n",
      "Happy families are all alike; every unhappy family is unhappy in its own\n",
      "way.\n",
      "\n",
      "Everything\n"
     ]
    }
   ],
   "source": [
    "print(text[:101])"
   ]
  },
  {
   "cell_type": "markdown",
   "metadata": {},
   "source": [
    "### Tokenization\n",
    "\n",
    "In the cells, below, I'm creating a couple **dictionaries** to convert the characters to and from integers. Encoding the characters as integers makes it easier to use as input in the network."
   ]
  },
  {
   "cell_type": "code",
   "execution_count": 4,
   "metadata": {},
   "outputs": [],
   "source": [
    "# encode the text and map each character to an integer and vice versa\n",
    "\n",
    "# we create two dictionaries:\n",
    "# 1. int2char, which maps integers to characters\n",
    "# 2. char2int, which maps characters to unique integers\n",
    "chars = tuple(set(text))\n",
    "int2char = dict(enumerate(chars))\n",
    "char2int = {ch: ii for ii, ch in int2char.items()}\n",
    "\n",
    "# encode the text\n",
    "encoded = np.array([char2int[ch] for ch in text])"
   ]
  },
  {
   "cell_type": "markdown",
   "metadata": {},
   "source": [
    "And we can see those same characters from above, encoded as integers."
   ]
  },
  {
   "cell_type": "code",
   "execution_count": 5,
   "metadata": {},
   "outputs": [
    {
     "name": "stdout",
     "output_type": "stream",
     "text": [
      "[38 71 16 62 20 18 70 19 75 58 58 58 66 16 62 62 28 19 29 16 74 72 46 72\n",
      " 18 54 19 16 70 18 19 16 46 46 19 16 46 72 11 18 41 19 18 39 18 70 28 19\n",
      "  1 63 71 16 62 62 28 19 29 16 74 72 46 28 19 72 54 19  1 63 71 16 62 62\n",
      " 28 19 72 63 19 72 20 54 19 81 24 63 58 24 16 28 59 58 58 73 39 18 70 28\n",
      " 20 71 72 63 60]\n"
     ]
    }
   ],
   "source": [
    "print(encoded[:101])"
   ]
  },
  {
   "cell_type": "markdown",
   "metadata": {},
   "source": [
    "## Pre-processing the data\n",
    "\n",
    "As you can see in our char-RNN image above, our LSTM expects an input that is **one-hot encoded** meaning that each character is converted into an integer (via our created dictionary) and *then* converted into a column vector where only it's corresponding integer index will have the value of 1 and the rest of the vector will be filled with 0's. Since we're one-hot encoding the data, let's make a function to do that!\n"
   ]
  },
  {
   "cell_type": "code",
   "execution_count": 6,
   "metadata": {},
   "outputs": [],
   "source": [
    "def one_hot_encode(arr, n_labels):\n",
    "    \n",
    "    # Initialize the the encoded array\n",
    "    one_hot = np.zeros((arr.size, n_labels), dtype=np.float32)\n",
    "    \n",
    "    # Fill the appropriate elements with ones\n",
    "    one_hot[np.arange(one_hot.shape[0]), arr.flatten()] = 1.\n",
    "    \n",
    "    # Finally reshape it to get back to the original array\n",
    "    one_hot = one_hot.reshape((*arr.shape, n_labels))\n",
    "    \n",
    "    return one_hot"
   ]
  },
  {
   "cell_type": "code",
   "execution_count": 7,
   "metadata": {},
   "outputs": [
    {
     "name": "stdout",
     "output_type": "stream",
     "text": [
      "[[[0. 0. 0. 1. 0. 0. 0. 0.]\n",
      "  [0. 0. 0. 0. 0. 1. 0. 0.]\n",
      "  [0. 1. 0. 0. 0. 0. 0. 0.]\n",
      "  [0. 0. 0. 0. 0. 0. 0. 1.]]]\n"
     ]
    }
   ],
   "source": [
    "# check that the function works as expected\n",
    "test_seq = np.array([[3, 5, 1, 7]])\n",
    "one_hot = one_hot_encode(test_seq, 8)\n",
    "\n",
    "print(one_hot)"
   ]
  },
  {
   "cell_type": "markdown",
   "metadata": {},
   "source": [
    "## Making training mini-batches\n",
    "\n",
    "\n",
    "To train on this data, we also want to create mini-batches for training. Remember that we want our batches to be multiple sequences of some desired number of sequence steps. Considering a simple example, our batches would look like this:\n",
    "\n",
    "<img src=\"assets/sequence_batching@1x.png\" width=500px>\n",
    "\n",
    "\n",
    "<br>\n",
    "\n",
    "In this example, we'll take the encoded characters (passed in as the `arr` parameter) and split them into multiple sequences, given by `batch_size`. Each of our sequences will be `seq_length` long.\n",
    "\n",
    "### Creating Batches\n",
    "\n",
    "**1. The first thing we need to do is discard some of the text so we only have completely full mini-batches.**\n",
    "\n",
    "Each batch contains $N \\times M$ characters, where $N$ is the batch size (the number of sequences in a batch) and $M$ is the seq_length or number of time steps in a sequence. Then, to get the total number of batches, $K$, that we can make from the array `arr`, you divide the length of `arr` by the number of characters per batch. Once you know the number of batches, you can get the total number of characters to keep from `arr`, $N * M * K$.\n",
    "\n",
    "**2. After that, we need to split `arr` into $N$ batches.** \n",
    "\n",
    "You can do this using `arr.reshape(size)` where `size` is a tuple containing the dimensions sizes of the reshaped array. We know we want $N$ sequences in a batch, so let's make that the size of the first dimension. For the second dimension, you can use `-1` as a placeholder in the size, it'll fill up the array with the appropriate data for you. After this, you should have an array that is $N \\times (M * K)$.\n",
    "\n",
    "**3. Now that we have this array, we can iterate through it to get our mini-batches.**\n",
    "\n",
    "The idea is each batch is a $N \\times M$ window on the $N \\times (M * K)$ array. For each subsequent batch, the window moves over by `seq_length`. We also want to create both the input and target arrays. Remember that the targets are just the inputs shifted over by one character. The way I like to do this window is use `range` to take steps of size `n_steps` from $0$ to `arr.shape[1]`, the total number of tokens in each sequence. That way, the integers you get from `range` always point to the start of a batch, and each window is `seq_length` wide.\n",
    "\n",
    "> **TODO:** Write the code for creating batches in the function below. The exercises in this notebook _will not be easy_. I've provided a notebook with solutions alongside this notebook. If you get stuck, checkout the solutions. The most important thing is that you don't copy and paste the code into here, **type out the solution code yourself.**"
   ]
  },
  {
   "cell_type": "code",
   "execution_count": 8,
   "metadata": {},
   "outputs": [],
   "source": [
    "def get_batches(arr, batch_size, seq_length):\n",
    "    '''Create a generator that returns batches of size\n",
    "       batch_size x seq_length from arr.\n",
    "       \n",
    "       Arguments\n",
    "       ---------\n",
    "       arr: Array you want to make batches from\n",
    "       batch_size: Batch size, the number of sequences per batch\n",
    "       seq_length: Number of encoded chars in a sequence\n",
    "    '''\n",
    "    \n",
    "    ## TODO: Get the number of batches we can make\n",
    "    # how many seq_length by batch_size fit into our array\n",
    "    n_batches = len(arr)//((batch_size)*(seq_length))\n",
    "    \n",
    "    ## TODO: Keep only enough characters to make full batches\n",
    "    # number of chars = n_batch*batch_size*seq_length\n",
    "    arr = arr[:n_batches*batch_size*seq_length]\n",
    "    \n",
    "    ## TODO: Reshape into batch_size rows\n",
    "    arr = arr.reshape((batch_size,-1))\n",
    "    \n",
    "    ## TODO: Iterate over the batches using a window of size seq_length\n",
    "    for n in range(0, arr.shape[1], seq_length):\n",
    "        # The features\n",
    "        x = arr[:,n:n+seq_length]\n",
    "        y = np.zeros_like(x)\n",
    "        # The targets, shifted by one\n",
    "        try:\n",
    "            y[:, :-1], y[:, -1] = x[:, 1:], arr[:, n+seq_length]\n",
    "        except IndexError:\n",
    "            y[:, :-1], y[:, -1] = x[:, 1:], arr[:, 0]\n",
    "        yield x, y"
   ]
  },
  {
   "cell_type": "code",
   "execution_count": 130,
   "metadata": {},
   "outputs": [],
   "source": [
    "def get_batches_overlapped(arr, batch_size, seq_len):\n",
    "    '''Create a generator that returns batches of size\n",
    "       batch_size x seq_length from arr.\n",
    "       \n",
    "       Arguments\n",
    "       ---------\n",
    "       arr: Array you want to make batches from\n",
    "       batch_size: Batch size, the number of sequences per batch\n",
    "       seq_length: Number of encoded chars in a sequence\n",
    "    '''\n",
    "    \n",
    "    N = len(arr)\n",
    "    # if we can not reshape arr with axis0 to batch_size - we add elements from the beginning\n",
    "    if N%batch_size != 0:\n",
    "        N_to_add = batch_size - N%batch_size\n",
    "        arr = np.append(arr, arr[:N_to_add])\n",
    "    \n",
    "    ## TODO: Reshape into batch_size rows\n",
    "    arr = arr.reshape((batch_size,-1))\n",
    "    \n",
    "    ## TODO: Iterate over the batches using a window of size seq_length\n",
    "    for n in range(0, arr.shape[1]-2, seq_len-1):\n",
    "        if n < arr.shape[1] - 1:\n",
    "            if n+seq_len >= arr.shape[1]:\n",
    "                x = arr[:,-seq_len-1:-1]\n",
    "                y = arr[:,-seq_len:]\n",
    "            else:\n",
    "                x = arr[:,n:n+seq_len]            \n",
    "                y = arr[:,n+1:n+seq_len+1]\n",
    "        yield x,y"
   ]
  },
  {
   "cell_type": "code",
   "execution_count": 104,
   "metadata": {},
   "outputs": [
    {
     "name": "stdout",
     "output_type": "stream",
     "text": [
      "[[ 0  1  2  3  4  5  6  7  8  9 10 11 12 13]\n",
      " [14 15 16 17 18 19 20 21 22 23 24 25 26 27]]\n",
      "[0 1 2] \n",
      " [1 2 3]\n",
      "[14 15 16] \n",
      " [15 16 17]\n",
      "\n",
      "[2 3 4] \n",
      " [3 4 5]\n",
      "[16 17 18] \n",
      " [17 18 19]\n",
      "\n",
      "[4 5 6] \n",
      " [5 6 7]\n",
      "[18 19 20] \n",
      " [19 20 21]\n",
      "\n",
      "[6 7 8] \n",
      " [7 8 9]\n",
      "[20 21 22] \n",
      " [21 22 23]\n",
      "\n",
      "[ 8  9 10] \n",
      " [ 9 10 11]\n",
      "[22 23 24] \n",
      " [23 24 25]\n",
      "\n",
      "[10 11 12] \n",
      " [11 12 13]\n",
      "[24 25 26] \n",
      " [25 26 27]\n",
      "\n"
     ]
    }
   ],
   "source": [
    "arr = np.array(range(0,28))\n",
    "batch_size = 2\n",
    "seq_len = 3\n",
    "for item in get_batches_overlapped(arr, batch_size, seq_len):\n",
    "    for rowx, rowy in zip(item[0], item[1]):\n",
    "        print(rowx, '\\n', rowy)\n",
    "    print()"
   ]
  },
  {
   "cell_type": "markdown",
   "metadata": {},
   "source": [
    "### Test Your Implementation\n",
    "\n",
    "Now I'll make some data sets and we can check out what's going on as we batch data. Here, as an example, I'm going to use a batch size of 8 and 50 sequence steps."
   ]
  },
  {
   "cell_type": "code",
   "execution_count": 105,
   "metadata": {},
   "outputs": [
    {
     "data": {
      "text/plain": [
       "array([38, 71, 16, ..., 54, 59, 58])"
      ]
     },
     "execution_count": 105,
     "metadata": {},
     "output_type": "execute_result"
    }
   ],
   "source": [
    "encoded"
   ]
  },
  {
   "cell_type": "code",
   "execution_count": 106,
   "metadata": {},
   "outputs": [
    {
     "name": "stdout",
     "output_type": "stream",
     "text": [
      "[[38 71 16 ... 54 81 63]\n",
      " [19 20 71 ... 19 81 70]\n",
      " [19 16 19 ... 76 71 72]\n",
      " ...\n",
      " [46 28 54 ... 20 71 16]\n",
      " [20 19 12 ... 18 28 82]\n",
      " [19 76 16 ... 59 58 38]]\n"
     ]
    }
   ],
   "source": [
    "batches = get_batches_overlapped(encoded, 8, 50)\n",
    "x, y = next(batches)"
   ]
  },
  {
   "cell_type": "code",
   "execution_count": 107,
   "metadata": {},
   "outputs": [
    {
     "name": "stdout",
     "output_type": "stream",
     "text": [
      "x\n",
      " [[38 71 16 62 20 18 70 19 75 58]\n",
      " [19 20 71 16 20 19 16 20 20 70]\n",
      " [19 16 19 29 81 18  6 19 71 18]\n",
      " [18 29 19 20 71 81  1 60 71 19]\n",
      " [70 25 54 20 16 72 63 18  5  6]\n",
      " [46 28 54 72 54  6 19 24 16 54]\n",
      " [20 19 12 81 46 46 28 19 24 81]\n",
      " [19 76 16 63 63 81 20 19 60 70]]\n",
      "\n",
      "y\n",
      " [[71 16 62 20 18 70 19 75 58 58]\n",
      " [20 71 16 20 19 16 20 20 70 16]\n",
      " [16 19 29 81 18  6 19 71 18 19]\n",
      " [29 19 20 71 81  1 60 71 19 71]\n",
      " [25 54 20 16 72 63 18  5  6 19]\n",
      " [28 54 72 54  6 19 24 16 54 19]\n",
      " [19 12 81 46 46 28 19 24 81  1]\n",
      " [76 16 63 63 81 20 19 60 70 16]]\n"
     ]
    }
   ],
   "source": [
    "# printing out the first 10 items in a sequence\n",
    "print('x\\n', x[:10, :10])\n",
    "print('\\ny\\n', y[:10, :10])"
   ]
  },
  {
   "cell_type": "markdown",
   "metadata": {},
   "source": [
    "If you implemented `get_batches` correctly, the above output should look something like \n",
    "```\n",
    "x\n",
    " [[25  8 60 11 45 27 28 73  1  2]\n",
    " [17  7 20 73 45  8 60 45 73 60]\n",
    " [27 20 80 73  7 28 73 60 73 65]\n",
    " [17 73 45  8 27 73 66  8 46 27]\n",
    " [73 17 60 12 73  8 27 28 73 45]\n",
    " [66 64 17 17 46  7 20 73 60 20]\n",
    " [73 76 20 20 60 73  8 60 80 73]\n",
    " [47 35 43  7 20 17 24 50 37 73]]\n",
    "\n",
    "y\n",
    " [[ 8 60 11 45 27 28 73  1  2  2]\n",
    " [ 7 20 73 45  8 60 45 73 60 45]\n",
    " [20 80 73  7 28 73 60 73 65  7]\n",
    " [73 45  8 27 73 66  8 46 27 65]\n",
    " [17 60 12 73  8 27 28 73 45 27]\n",
    " [64 17 17 46  7 20 73 60 20 80]\n",
    " [76 20 20 60 73  8 60 80 73 17]\n",
    " [35 43  7 20 17 24 50 37 73 36]]\n",
    " ```\n",
    " although the exact numbers may be different. Check to make sure the data is shifted over one step for `y`."
   ]
  },
  {
   "cell_type": "markdown",
   "metadata": {},
   "source": [
    "---\n",
    "## Defining the network with PyTorch\n",
    "\n",
    "Below is where you'll define the network.\n",
    "\n",
    "<img src=\"assets/charRNN.png\" width=500px>\n",
    "\n",
    "Next, you'll use PyTorch to define the architecture of the network. We start by defining the layers and operations we want. Then, define a method for the forward pass. You've also been given a method for predicting characters."
   ]
  },
  {
   "cell_type": "markdown",
   "metadata": {},
   "source": [
    "### Model Structure\n",
    "\n",
    "In `__init__` the suggested structure is as follows:\n",
    "* Create and store the necessary dictionaries (this has been done for you)\n",
    "* Define an LSTM layer that takes as params: an input size (the number of characters), a hidden layer size `n_hidden`, a number of layers `n_layers`, a dropout probability `drop_prob`, and a batch_first boolean (True, since we are batching)\n",
    "* Define a dropout layer with `drop_prob`\n",
    "* Define a fully-connected layer with params: input size `n_hidden` and output size (the number of characters)\n",
    "* Finally, initialize the weights (again, this has been given)\n",
    "\n",
    "Note that some parameters have been named and given in the `__init__` function, and we use them and store them by doing something like `self.drop_prob = drop_prob`."
   ]
  },
  {
   "cell_type": "markdown",
   "metadata": {},
   "source": [
    "---\n",
    "### LSTM Inputs/Outputs\n",
    "\n",
    "You can create a basic [LSTM layer](https://pytorch.org/docs/stable/nn.html#lstm) as follows\n",
    "\n",
    "```python\n",
    "self.lstm = nn.LSTM(input_size, n_hidden, n_layers, \n",
    "                            dropout=drop_prob, batch_first=True)\n",
    "```\n",
    "\n",
    "where `input_size` is the number of characters this cell expects to see as sequential input, and `n_hidden` is the number of units in the hidden layers in the cell. And we can add dropout by adding a dropout parameter with a specified probability; this will automatically add dropout to the inputs or outputs. Finally, in the `forward` function, we can stack up the LSTM cells into layers using `.view`. With this, you pass in a list of cells and it will send the output of one cell into the next cell.\n",
    "\n",
    "We also need to create an initial hidden state of all zeros. This is done like so\n",
    "\n",
    "```python\n",
    "self.init_hidden()\n",
    "```"
   ]
  },
  {
   "cell_type": "code",
   "execution_count": 108,
   "metadata": {},
   "outputs": [
    {
     "name": "stdout",
     "output_type": "stream",
     "text": [
      "Training on GPU!\n"
     ]
    }
   ],
   "source": [
    "# check if GPU is available\n",
    "train_on_gpu = torch.cuda.is_available()\n",
    "if(train_on_gpu):\n",
    "    print('Training on GPU!')\n",
    "else: \n",
    "    print('No GPU available, training on CPU; consider making n_epochs very small.')"
   ]
  },
  {
   "cell_type": "code",
   "execution_count": 110,
   "metadata": {},
   "outputs": [],
   "source": [
    "class CharRNN(nn.Module):\n",
    "    \n",
    "    def __init__(self, tokens, n_hidden=256, n_layers=2,\n",
    "                               drop_prob=0.5, lr=0.001):\n",
    "        super(CharRNN, self).__init__()\n",
    "        self.drop_prob = drop_prob\n",
    "        self.n_layers = n_layers\n",
    "        self.n_hidden = n_hidden\n",
    "        self.lr = lr\n",
    "        \n",
    "        # creating character dictionaries\n",
    "        self.chars = tokens\n",
    "        self.n_chars = len(tokens)\n",
    "        self.int2char = dict(enumerate(self.chars))\n",
    "        self.char2int = {ch: ii for ii, ch in self.int2char.items()}\n",
    "        \n",
    "        ## TODO: define the layers of the model\n",
    "        # input_size – The number of expected features in the input x\n",
    "        # hidden_size – The number of features in the hidden state h\n",
    "        # num_layers – Number of recurrent layers. E.g., setting num_layers=2 would mean stacking \n",
    "        # two LSTMs together to form a stacked LSTM, with the second LSTM taking in outputs of the first LSTM and computing the final results. Default: 1\n",
    "        # bias – If False, then the layer does not use bias weights b_ih and b_hh. Default: True\n",
    "        # batch_first – If True, then the input and output tensors are provided as (batch, seq, feature). Default: False\n",
    "        # dropout – If non-zero, introduces a Dropout layer on the outputs of each LSTM layer except the last layer, with dropout probability equal to dropout. Default: 0\n",
    "        # bidirectional – If True, becomes a bidirectional LSTM. Default: False\n",
    "        self.rnn = torch.nn.LSTM(input_size = self.n_chars, \n",
    "                                 hidden_size=self.n_hidden, \n",
    "                                 num_layers=self.n_layers, \n",
    "                                 batch_first=True, \n",
    "                                 dropout=self.drop_prob )\n",
    "        \n",
    "        # output of LSTM has a dim of hidden size and we then transform that into the number of chars we have and apply softmax\n",
    "        self.fc = torch.nn.Linear(self.n_hidden, self.n_chars)\n",
    "        \n",
    "        self.dropout = torch.nn.Dropout(p=drop_prob)\n",
    "    \n",
    "    def num_parameters(self):\n",
    "        '''\n",
    "        get the number of parameters in a network\n",
    "        '''\n",
    "        \n",
    "        # return sum((list(map(lambda x: torch.as_tensor(x.flatten().size()).sum().item(), self.parameters()))))\n",
    "        s=\"\"\n",
    "        for k, v in self.named_parameters():\n",
    "            s+=f'{k:20} {v.shape}\\n'\n",
    "        s+=f'Total number of parameters = {sum(list(map(lambda x: x.numel(), net.parameters())))}'\n",
    "        return s\n",
    "    \n",
    "    def forward(self, x, hidden):\n",
    "        ''' Forward pass through the network. \n",
    "            These inputs are x, and the hidden/cell state `hidden`. \n",
    "            hidden is a tuple of (h_n, c_n)\n",
    "        '''\n",
    "                \n",
    "        ## TODO: Get the outputs and the new hidden state from LSTM\n",
    "        # return the final output and the hidden(h_n, c_n) state\n",
    "        out, hidden = self.rnn(x, hidden)\n",
    "        # out dim = (batch, seq_len, num_directions * hidden_size)\n",
    "        \n",
    "        #print(out.shape, hidden[0].shape)\n",
    "        # torch.Size([2, 50, 256]) (batch, seq_len, num_directions * hidden_size)\n",
    "        # torch.Size([2, 2, 256]) (n_layers, batch_size, hidden_size)\n",
    "        # this print shows that out and hidden are the same if you take the last cell from LSTM stack\n",
    "        # print(out[:,-1:,:10],'\\n', hidden[0][-1:,:,:10])\n",
    "        \n",
    "        out = self.dropout(out) # apply a dropout\n",
    "        \n",
    "        #out = out.contiguous().view(-1, self.n_hidden)\n",
    "        # dim = (seq_len*batch, n_chars)\n",
    "        \n",
    "        out = self.fc(out)\n",
    "        # dim = (seq_len, batch, n_chars)\n",
    "        \n",
    "        return out.view(-1, self.n_chars), hidden\n",
    "\n",
    "    def init_hidden(self, batch_size):\n",
    "        ''' Initializes hidden state '''\n",
    "        # Create two new tensors with sizes n_layers x batch_size x n_hidden,\n",
    "        # initialized to zero, for hidden state and cell state of LSTM\n",
    "        weight = next(self.parameters()).data\n",
    "        hidden = (weight.new_zeros(self.n_layers, batch_size, self.n_hidden), weight.new_zeros(self.n_layers, batch_size, self.n_hidden))\n",
    "        \n",
    "        return hidden\n",
    "    \n",
    "    \n",
    "#     def init_hidden(self, batch_size):\n",
    "#         ''' Initializes hidden state '''\n",
    "#         # Create two new tensors with sizes n_layers x batch_size x n_hidden,\n",
    "#         # initialized to zero, for hidden state and cell state of LSTM\n",
    "#         weight = next(self.parameters()).data\n",
    "        \n",
    "#         # (num_layers * num_directions, batch, hidden_size)\n",
    "#         if (train_on_gpu):\n",
    "#             hidden = (weight.new(self.n_layers, batch_size, self.n_hidden).zero_().cuda(),\n",
    "#                   weight.new(self.n_layers, batch_size, self.n_hidden).zero_().cuda())\n",
    "#         else:\n",
    "#             hidden = (weight.new(self.n_layers, batch_size, self.n_hidden).zero_(),\n",
    "#                       weight.new(self.n_layers, batch_size, self.n_hidden).zero_())\n",
    "        \n",
    "#         return hidden\n",
    "        "
   ]
  },
  {
   "cell_type": "code",
   "execution_count": 111,
   "metadata": {},
   "outputs": [
    {
     "name": "stdout",
     "output_type": "stream",
     "text": [
      "(2, 50)\n"
     ]
    },
    {
     "data": {
      "text/plain": [
       "(array([[38, 71, 16, 62, 20, 18, 70, 19, 75, 58, 58, 58, 66, 16, 62, 62,\n",
       "         28, 19, 29, 16, 74, 72, 46, 72, 18, 54, 19, 16, 70, 18, 19, 16,\n",
       "         46, 46, 19, 16, 46, 72, 11, 18, 41, 19, 18, 39, 18, 70, 28, 19,\n",
       "          1, 63],\n",
       "        [19, 54, 16, 24, 19, 71, 18, 70, 19, 20, 18, 16, 70, 25, 54, 20,\n",
       "         16, 72, 63, 18,  5,  6, 19, 62, 72, 20, 72, 29,  1, 46,  6, 19,\n",
       "         54, 24, 18, 18, 20, 19, 29, 16, 76, 18,  6, 58, 74, 72, 54, 18,\n",
       "         70, 16]]),\n",
       " array([[71, 16, 62, 20, 18, 70, 19, 75, 58, 58, 58, 66, 16, 62, 62, 28,\n",
       "         19, 29, 16, 74, 72, 46, 72, 18, 54, 19, 16, 70, 18, 19, 16, 46,\n",
       "         46, 19, 16, 46, 72, 11, 18, 41, 19, 18, 39, 18, 70, 28, 19,  1,\n",
       "         63, 71],\n",
       "        [54, 16, 24, 19, 71, 18, 70, 19, 20, 18, 16, 70, 25, 54, 20, 16,\n",
       "         72, 63, 18,  5,  6, 19, 62, 72, 20, 72, 29,  1, 46,  6, 19, 54,\n",
       "         24, 18, 18, 20, 19, 29, 16, 76, 18,  6, 58, 74, 72, 54, 18, 70,\n",
       "         16, 21]]))"
      ]
     },
     "execution_count": 111,
     "metadata": {},
     "output_type": "execute_result"
    }
   ],
   "source": [
    "# get the 1st batch\n",
    "batches = get_batches(encoded, 2, 50)\n",
    "x, y = next(batches)\n",
    "print(x.shape)\n",
    "x, y"
   ]
  },
  {
   "cell_type": "code",
   "execution_count": 112,
   "metadata": {},
   "outputs": [
    {
     "name": "stdout",
     "output_type": "stream",
     "text": [
      "Vocab size  83\n",
      "(2, 50, 83)\n"
     ]
    }
   ],
   "source": [
    "# one hot encode the data\n",
    "x = one_hot_encode(x, len(chars))\n",
    "print('Vocab size ', len(chars))\n",
    "print(x.shape)"
   ]
  },
  {
   "cell_type": "code",
   "execution_count": 113,
   "metadata": {},
   "outputs": [
    {
     "data": {
      "text/plain": [
       "array([0., 0., 0., 0., 0., 0., 0., 0., 0., 0., 0., 0., 0., 0., 0., 0., 0.,\n",
       "       0., 0., 0., 0., 0., 0., 0., 0., 0., 0., 0., 0., 0., 0., 0., 0., 0.,\n",
       "       0., 0., 0., 0., 0., 0., 0., 0., 0., 0., 0., 0., 0., 0., 0., 0., 0.,\n",
       "       0., 0., 0., 0., 0., 0., 0., 0., 0., 0., 0., 0., 0., 0., 0., 0., 0.,\n",
       "       0., 0., 0., 1., 0., 0., 0., 0., 0., 0., 0., 0., 0., 0., 0.],\n",
       "      dtype=float32)"
      ]
     },
     "execution_count": 113,
     "metadata": {},
     "output_type": "execute_result"
    }
   ],
   "source": [
    "# the 1st element is 8 and we see the one on 9th position\n",
    "x[0,1]"
   ]
  },
  {
   "cell_type": "code",
   "execution_count": 114,
   "metadata": {},
   "outputs": [
    {
     "name": "stdout",
     "output_type": "stream",
     "text": [
      "cuda\n"
     ]
    },
    {
     "data": {
      "text/plain": [
       "CharRNN(\n",
       "  (rnn): LSTM(83, 256, num_layers=2, batch_first=True, dropout=0.5)\n",
       "  (fc): Linear(in_features=256, out_features=83, bias=True)\n",
       "  (dropout): Dropout(p=0.5, inplace=False)\n",
       ")"
      ]
     },
     "execution_count": 114,
     "metadata": {},
     "output_type": "execute_result"
    }
   ],
   "source": [
    "# create network and send it to device\n",
    "device = torch.device('cuda') if torch.cuda.is_available() else torch.device('cpu')\n",
    "#device = 'cpu'\n",
    "print(device)\n",
    "net = CharRNN(chars).to(device)\n",
    "net"
   ]
  },
  {
   "cell_type": "code",
   "execution_count": 115,
   "metadata": {},
   "outputs": [
    {
     "data": {
      "text/plain": [
       "tensor([0., 0., 0., 0., 0., 0., 0., 0., 0., 0., 0., 0., 0., 0., 0., 0., 0., 0.,\n",
       "        0., 0., 0., 0., 0., 0., 0., 0., 0., 0., 0., 0., 0., 0., 0., 0., 0., 0.,\n",
       "        0., 0., 0., 0., 0., 0., 0., 0., 0., 0., 0., 0., 0., 0., 0., 0., 0., 0.,\n",
       "        0., 0., 0., 0., 0., 0., 0., 0., 0., 0., 0., 0., 0., 0., 0., 0., 0., 1.,\n",
       "        0., 0., 0., 0., 0., 0., 0., 0., 0., 0., 0.], device='cuda:0')"
      ]
     },
     "execution_count": 115,
     "metadata": {},
     "output_type": "execute_result"
    }
   ],
   "source": [
    "# make an input tensor\n",
    "tr_x = torch.FloatTensor(x).to(device)\n",
    "tr_x[0,1]"
   ]
  },
  {
   "cell_type": "code",
   "execution_count": 116,
   "metadata": {},
   "outputs": [
    {
     "data": {
      "text/plain": [
       "(tensor([[[0., 0., 0.,  ..., 0., 0., 0.],\n",
       "          [0., 0., 0.,  ..., 0., 0., 0.]],\n",
       " \n",
       "         [[0., 0., 0.,  ..., 0., 0., 0.],\n",
       "          [0., 0., 0.,  ..., 0., 0., 0.]]], device='cuda:0'),\n",
       " tensor([[[0., 0., 0.,  ..., 0., 0., 0.],\n",
       "          [0., 0., 0.,  ..., 0., 0., 0.]],\n",
       " \n",
       "         [[0., 0., 0.,  ..., 0., 0., 0.],\n",
       "          [0., 0., 0.,  ..., 0., 0., 0.]]], device='cuda:0'))"
      ]
     },
     "execution_count": 116,
     "metadata": {},
     "output_type": "execute_result"
    }
   ],
   "source": [
    "# initialize the hidden state\n",
    "hidden = net.init_hidden(2)\n",
    "hidden"
   ]
  },
  {
   "cell_type": "code",
   "execution_count": 117,
   "metadata": {},
   "outputs": [
    {
     "data": {
      "text/plain": [
       "False"
      ]
     },
     "execution_count": 117,
     "metadata": {},
     "output_type": "execute_result"
    }
   ],
   "source": [
    "hidden[0].requires_grad"
   ]
  },
  {
   "cell_type": "code",
   "execution_count": 118,
   "metadata": {},
   "outputs": [],
   "source": [
    "out, h = net(tr_x,hidden)"
   ]
  },
  {
   "cell_type": "code",
   "execution_count": 119,
   "metadata": {},
   "outputs": [
    {
     "data": {
      "text/plain": [
       "(torch.Size([100, 83]), torch.Size([2, 2, 256]), torch.Size([2, 2, 256]))"
      ]
     },
     "execution_count": 119,
     "metadata": {},
     "output_type": "execute_result"
    }
   ],
   "source": [
    "out.shape, h[0].shape, h[1].shape"
   ]
  },
  {
   "cell_type": "code",
   "execution_count": 120,
   "metadata": {},
   "outputs": [
    {
     "data": {
      "text/plain": [
       "tensor(-0.6064, device='cuda:0', grad_fn=<SumBackward0>)"
      ]
     },
     "execution_count": 120,
     "metadata": {},
     "output_type": "execute_result"
    }
   ],
   "source": [
    "out[:1].sum()"
   ]
  },
  {
   "cell_type": "code",
   "execution_count": 122,
   "metadata": {},
   "outputs": [
    {
     "name": "stdout",
     "output_type": "stream",
     "text": [
      "rnn.weight_ih_l0     torch.Size([1024, 83])\n",
      "rnn.weight_hh_l0     torch.Size([1024, 256])\n",
      "rnn.bias_ih_l0       torch.Size([1024])\n",
      "rnn.bias_hh_l0       torch.Size([1024])\n",
      "rnn.weight_ih_l1     torch.Size([1024, 256])\n",
      "rnn.weight_hh_l1     torch.Size([1024, 256])\n",
      "rnn.bias_ih_l1       torch.Size([1024])\n",
      "rnn.bias_hh_l1       torch.Size([1024])\n",
      "fc.weight            torch.Size([83, 256])\n",
      "fc.bias              torch.Size([83])\n",
      "Total number of parameters = 896851\n"
     ]
    }
   ],
   "source": [
    "print(net.num_parameters())"
   ]
  },
  {
   "cell_type": "markdown",
   "metadata": {},
   "source": [
    "## Time to train\n",
    "\n",
    "The train function gives us the ability to set the number of epochs, the learning rate, and other parameters.\n",
    "\n",
    "Below we're using an Adam optimizer and cross entropy loss since we are looking at character class scores as output. We calculate the loss and perform backpropagation, as usual!\n",
    "\n",
    "A couple of details about training: \n",
    "* Within the batch loop, we detach the hidden state from its history; this time setting it equal to a new *tuple* variable because an LSTM has a hidden state that is a tuple of the hidden and cell states.\n",
    "* We use [`clip_grad_norm_`](https://pytorch.org/docs/stable/_modules/torch/nn/utils/clip_grad.html) to help prevent exploding gradients."
   ]
  },
  {
   "cell_type": "code",
   "execution_count": 286,
   "metadata": {},
   "outputs": [],
   "source": [
    "a = torch.ones(4)"
   ]
  },
  {
   "cell_type": "code",
   "execution_count": 288,
   "metadata": {},
   "outputs": [
    {
     "data": {
      "text/plain": [
       "False"
      ]
     },
     "execution_count": 288,
     "metadata": {},
     "output_type": "execute_result"
    }
   ],
   "source": [
    "a.requires_grad"
   ]
  },
  {
   "cell_type": "code",
   "execution_count": 289,
   "metadata": {},
   "outputs": [],
   "source": [
    "b = a + 4"
   ]
  },
  {
   "cell_type": "code",
   "execution_count": 290,
   "metadata": {},
   "outputs": [
    {
     "data": {
      "text/plain": [
       "False"
      ]
     },
     "execution_count": 290,
     "metadata": {},
     "output_type": "execute_result"
    }
   ],
   "source": [
    "b.requires_grad"
   ]
  },
  {
   "cell_type": "code",
   "execution_count": 149,
   "metadata": {},
   "outputs": [],
   "source": [
    "from tqdm.notebook import tqdm, trange\n",
    "\n",
    "def train(net, data, epochs=10, batch_size=10, seq_length=50, lr=0.001, clip=5, val_frac=0.1, print_every=10, val_loss_min=np.inf):\n",
    "    ''' Training a network \n",
    "    \n",
    "        Arguments\n",
    "        ---------\n",
    "        \n",
    "        net: CharRNN network\n",
    "        data: text data to train the network\n",
    "        epochs: Number of epochs to train\n",
    "        batch_size: Number of mini-sequences per mini-batch, aka batch size\n",
    "        seq_length: Number of character steps per mini-batch\n",
    "        lr: learning rate\n",
    "        clip: gradient clipping\n",
    "        val_frac: Fraction of data to hold out for validation\n",
    "        print_every: Number of steps for printing training and validation loss\n",
    "    \n",
    "    '''\n",
    "    net.train()\n",
    "    \n",
    "    opt = torch.optim.Adam(net.parameters(), lr=lr)\n",
    "    #opt = torch.optim.SGD(net.parameters(), lr=lr, momentum=0.9, nesterov=True)\n",
    "    #opt = torch.optim.RMSprop(net.parameters(), lr=lr, momentum=0.9)\n",
    "    scheduler = torch.optim.lr_scheduler.CosineAnnealingLR(optimizer=opt, T_max = 5*len(data)//(batch_size*seq_length), eta_min=1e-7)\n",
    "    criterion = nn.CrossEntropyLoss()\n",
    "    \n",
    "    # create training and validation data\n",
    "#     val_idx = int(len(data)*(1-val_frac))\n",
    "#     data, val_data = data[:val_idx], data[val_idx:]\n",
    "    val_idx = int(len(data)*(val_frac))\n",
    "    val_data, data  = data[:val_idx], data[val_idx:]\n",
    "    \n",
    "    if(train_on_gpu):\n",
    "        net.cuda()\n",
    "    \n",
    "    counter = 0\n",
    "    n_chars = len(net.chars)\n",
    "    \n",
    "    for e in trange(epochs):\n",
    "        # initialize hidden state\n",
    "        h = net.init_hidden(batch_size)\n",
    "        \n",
    "        for x, y in get_batches(data, batch_size, seq_length):\n",
    "            counter += 1\n",
    "            \n",
    "            # One-hot encode our data and make them Torch tensors\n",
    "            x = one_hot_encode(x, n_chars)\n",
    "            inputs, targets = torch.from_numpy(x), torch.from_numpy(y)\n",
    "            \n",
    "            if(train_on_gpu):\n",
    "                inputs, targets = inputs.cuda(), targets.cuda()\n",
    "\n",
    "            # Creating new variables for the hidden state, otherwise\n",
    "            # we'd backprop through the entire training history\n",
    "            h = tuple([each.data for each in h])\n",
    "            \n",
    "            # basically the same stuff\n",
    "            # h = tuple([each.detach() for each in h])\n",
    "\n",
    "            # zero accumulated gradients\n",
    "            net.zero_grad()\n",
    "            \n",
    "            # get the output from the model\n",
    "            output, h = net(inputs, h)\n",
    "            \n",
    "            # calculate the loss and perform backprop\n",
    "            loss = criterion(output, targets.view(batch_size*seq_length).long())\n",
    "            loss.backward()\n",
    "            # `clip_grad_norm` helps prevent the exploding gradient problem in RNNs / LSTMs.\n",
    "            nn.utils.clip_grad_norm_(net.parameters(), clip)\n",
    "            opt.step()\n",
    "            scheduler.step()\n",
    "            \n",
    "            # loss stats\n",
    "            if counter % print_every == 0:\n",
    "                # Get validation loss\n",
    "                val_h = net.init_hidden(batch_size)\n",
    "                val_losses = []\n",
    "                net.eval()\n",
    "                with torch.no_grad(): \n",
    "                    for x, y in get_batches_overlapped(val_data, batch_size, seq_length):\n",
    "                        # One-hot encode our data and make them Torch tensors\n",
    "                        x = one_hot_encode(x, n_chars)\n",
    "                        x, y = torch.from_numpy(x), torch.from_numpy(y)\n",
    "                        inputs, targets = x, y\n",
    "                        if(train_on_gpu):\n",
    "                            inputs, targets = inputs.cuda(), targets.cuda()\n",
    "\n",
    "                        # Creating new variables for the hidden state, otherwise\n",
    "                        # we'd backprop through the entire training history\n",
    "                        # val_h = tuple([each.data for each in val_h])       \n",
    "\n",
    "                        output, val_h = net(inputs, val_h)\n",
    "                        val_loss = criterion(output, targets.view(batch_size*seq_length))\n",
    "\n",
    "                        val_losses.append(val_loss.item())\n",
    "                        \n",
    "                    if np.mean(val_losses) < val_loss_min:\n",
    "                        print('Validation loss decreases, saving model parameters')\n",
    "                        torch.save(net.state_dict(),'anna_model.pt')\n",
    "                        val_loss_min = np.mean(val_losses)\n",
    "                \n",
    "                net.train() # reset to train mode after iterationg through validation data\n",
    "                \n",
    "                print(\"Epoch: {}/{}...\".format(e+1, epochs),\n",
    "                      \"Step: {}...\".format(counter),\n",
    "                      \"Loss: {:.4f}...\".format(loss.item()),\n",
    "                      \"Val Loss: {:.4f}\".format(np.mean(val_losses)))\n",
    "    return val_loss_min"
   ]
  },
  {
   "cell_type": "markdown",
   "metadata": {},
   "source": [
    "## Instantiating the model\n",
    "\n",
    "Now we can actually train the network. First we'll create the network itself, with some given hyperparameters. Then, define the mini-batches sizes, and start training!"
   ]
  },
  {
   "cell_type": "code",
   "execution_count": 133,
   "metadata": {},
   "outputs": [
    {
     "name": "stdout",
     "output_type": "stream",
     "text": [
      "CharRNN(\n",
      "  (rnn): LSTM(83, 256, num_layers=3, batch_first=True, dropout=0.5)\n",
      "  (fc): Linear(in_features=256, out_features=83, bias=True)\n",
      "  (dropout): Dropout(p=0.5, inplace=False)\n",
      ") \n",
      "\n",
      "Number of parameters in network : rnn.weight_ih_l0     torch.Size([1024, 83])\n",
      "rnn.weight_hh_l0     torch.Size([1024, 256])\n",
      "rnn.bias_ih_l0       torch.Size([1024])\n",
      "rnn.bias_hh_l0       torch.Size([1024])\n",
      "rnn.weight_ih_l1     torch.Size([1024, 256])\n",
      "rnn.weight_hh_l1     torch.Size([1024, 256])\n",
      "rnn.bias_ih_l1       torch.Size([1024])\n",
      "rnn.bias_hh_l1       torch.Size([1024])\n",
      "rnn.weight_ih_l2     torch.Size([1024, 256])\n",
      "rnn.weight_hh_l2     torch.Size([1024, 256])\n",
      "rnn.bias_ih_l2       torch.Size([1024])\n",
      "rnn.bias_hh_l2       torch.Size([1024])\n",
      "fc.weight            torch.Size([83, 256])\n",
      "fc.bias              torch.Size([83])\n",
      "Total number of parameters = 1423187 \n",
      "\n",
      "Number of chars in text : 1,985,223\n"
     ]
    }
   ],
   "source": [
    "## TODO: set your model hyperparameters\n",
    "# define and print the net\n",
    "n_hidden = 256\n",
    "n_layers = 3\n",
    "\n",
    "net = CharRNN(chars, n_hidden, n_layers, drop_prob=0.5)\n",
    "print(net, f'\\n\\nNumber of parameters in network : {net.num_parameters()}', f'\\n\\nNumber of chars in text : {len(text):,}')\n"
   ]
  },
  {
   "cell_type": "markdown",
   "metadata": {},
   "source": [
    "### Set your training hyperparameters!"
   ]
  },
  {
   "cell_type": "code",
   "execution_count": 144,
   "metadata": {},
   "outputs": [
    {
     "data": {
      "text/plain": [
       "<All keys matched successfully>"
      ]
     },
     "execution_count": 144,
     "metadata": {},
     "output_type": "execute_result"
    }
   ],
   "source": [
    "net.load_state_dict(torch.load('anna_model.pt'))"
   ]
  },
  {
   "cell_type": "code",
   "execution_count": 152,
   "metadata": {},
   "outputs": [],
   "source": [
    "#val_loss = 1.3498\n",
    "val_loss = 1.1958\n",
    "val_loss = 1.2043"
   ]
  },
  {
   "cell_type": "code",
   "execution_count": 161,
   "metadata": {
    "scrolled": true
   },
   "outputs": [
    {
     "data": {
      "application/vnd.jupyter.widget-view+json": {
       "model_id": "5b80b9eaf24b4337896d8d30d2d22f06",
       "version_major": 2,
       "version_minor": 0
      },
      "text/plain": [
       "HBox(children=(FloatProgress(value=0.0, max=50.0), HTML(value='')))"
      ]
     },
     "metadata": {},
     "output_type": "display_data"
    },
    {
     "name": "stdout",
     "output_type": "stream",
     "text": [
      "Validation loss decreases, saving model parameters\n",
      "Epoch: 1/50... Step: 1000... Loss: 1.1669... Val Loss: 1.1512\n",
      "Validation loss decreases, saving model parameters\n",
      "Epoch: 2/50... Step: 2000... Loss: 1.1261... Val Loss: 1.1493\n",
      "Validation loss decreases, saving model parameters\n",
      "Epoch: 3/50... Step: 3000... Loss: 1.0658... Val Loss: 1.1486\n",
      "Epoch: 4/50... Step: 4000... Loss: 1.1972... Val Loss: 1.1492\n",
      "Epoch: 4/50... Step: 5000... Loss: 1.0790... Val Loss: 1.1487\n",
      "Epoch: 5/50... Step: 6000... Loss: 1.1821... Val Loss: 1.1486\n",
      "Validation loss decreases, saving model parameters\n",
      "Epoch: 6/50... Step: 7000... Loss: 1.1656... Val Loss: 1.1483\n",
      "Validation loss decreases, saving model parameters\n",
      "Epoch: 7/50... Step: 8000... Loss: 1.0936... Val Loss: 1.1482\n",
      "Epoch: 8/50... Step: 9000... Loss: 1.0894... Val Loss: 1.1486\n",
      "Epoch: 8/50... Step: 10000... Loss: 1.0858... Val Loss: 1.1494\n",
      "Epoch: 9/50... Step: 11000... Loss: 1.0851... Val Loss: 1.1498\n",
      "Epoch: 10/50... Step: 12000... Loss: 1.1411... Val Loss: 1.1499\n",
      "Epoch: 11/50... Step: 13000... Loss: 1.1567... Val Loss: 1.1512\n",
      "Epoch: 11/50... Step: 14000... Loss: 1.1134... Val Loss: 1.1501\n",
      "Epoch: 12/50... Step: 15000... Loss: 1.0916... Val Loss: 1.1517\n",
      "Epoch: 13/50... Step: 16000... Loss: 1.1533... Val Loss: 1.1504\n",
      "Epoch: 14/50... Step: 17000... Loss: 1.1121... Val Loss: 1.1497\n",
      "Epoch: 15/50... Step: 18000... Loss: 1.0467... Val Loss: 1.1497\n",
      "Epoch: 15/50... Step: 19000... Loss: 1.1380... Val Loss: 1.1494\n",
      "Epoch: 16/50... Step: 20000... Loss: 1.2365... Val Loss: 1.1483\n",
      "Epoch: 17/50... Step: 21000... Loss: 1.1578... Val Loss: 1.1483\n",
      "Epoch: 18/50... Step: 22000... Loss: 1.0521... Val Loss: 1.1483\n",
      "Validation loss decreases, saving model parameters\n",
      "Epoch: 19/50... Step: 23000... Loss: 1.1002... Val Loss: 1.1478\n",
      "Epoch: 19/50... Step: 24000... Loss: 1.0248... Val Loss: 1.1490\n",
      "Epoch: 20/50... Step: 25000... Loss: 1.1830... Val Loss: 1.1488\n",
      "Epoch: 21/50... Step: 26000... Loss: 1.0545... Val Loss: 1.1511\n",
      "Validation loss decreases, saving model parameters\n",
      "Epoch: 22/50... Step: 27000... Loss: 1.1670... Val Loss: 1.1474\n",
      "Epoch: 22/50... Step: 28000... Loss: 1.2233... Val Loss: 1.1496\n",
      "Epoch: 23/50... Step: 29000... Loss: 1.1426... Val Loss: 1.1498\n",
      "Epoch: 24/50... Step: 30000... Loss: 1.1513... Val Loss: 1.1504\n",
      "Epoch: 25/50... Step: 31000... Loss: 1.1441... Val Loss: 1.1486\n",
      "Epoch: 26/50... Step: 32000... Loss: 1.1586... Val Loss: 1.1500\n",
      "Epoch: 26/50... Step: 33000... Loss: 1.0423... Val Loss: 1.1490\n",
      "Epoch: 27/50... Step: 34000... Loss: 1.1205... Val Loss: 1.1483\n",
      "Epoch: 28/50... Step: 35000... Loss: 1.1010... Val Loss: 1.1483\n",
      "Epoch: 29/50... Step: 36000... Loss: 1.1003... Val Loss: 1.1481\n",
      "Validation loss decreases, saving model parameters\n",
      "Epoch: 29/50... Step: 37000... Loss: 1.2987... Val Loss: 1.1471\n",
      "Epoch: 30/50... Step: 38000... Loss: 1.1859... Val Loss: 1.1494\n",
      "Epoch: 31/50... Step: 39000... Loss: 1.1742... Val Loss: 1.1497\n",
      "Epoch: 32/50... Step: 40000... Loss: 1.1157... Val Loss: 1.1475\n",
      "Epoch: 33/50... Step: 41000... Loss: 1.2048... Val Loss: 1.1501\n",
      "Epoch: 33/50... Step: 42000... Loss: 1.1311... Val Loss: 1.1494\n",
      "Epoch: 34/50... Step: 43000... Loss: 1.0697... Val Loss: 1.1484\n",
      "Epoch: 35/50... Step: 44000... Loss: 1.0749... Val Loss: 1.1480\n",
      "Epoch: 36/50... Step: 45000... Loss: 1.2136... Val Loss: 1.1478\n",
      "Epoch: 37/50... Step: 46000... Loss: 1.1250... Val Loss: 1.1497\n",
      "Epoch: 37/50... Step: 47000... Loss: 1.1295... Val Loss: 1.1478\n",
      "Validation loss decreases, saving model parameters\n",
      "Epoch: 38/50... Step: 48000... Loss: 1.1324... Val Loss: 1.1471\n",
      "Epoch: 39/50... Step: 49000... Loss: 1.2000... Val Loss: 1.1472\n",
      "Validation loss decreases, saving model parameters\n",
      "Epoch: 40/50... Step: 50000... Loss: 1.1075... Val Loss: 1.1471\n",
      "Validation loss decreases, saving model parameters\n",
      "Epoch: 40/50... Step: 51000... Loss: 1.2675... Val Loss: 1.1470\n",
      "Epoch: 41/50... Step: 52000... Loss: 1.1200... Val Loss: 1.1475\n",
      "Epoch: 42/50... Step: 53000... Loss: 1.1085... Val Loss: 1.1479\n",
      "Epoch: 43/50... Step: 54000... Loss: 1.0942... Val Loss: 1.1485\n",
      "Epoch: 44/50... Step: 55000... Loss: 1.1477... Val Loss: 1.1482\n",
      "Epoch: 44/50... Step: 56000... Loss: 1.1841... Val Loss: 1.1502\n",
      "Epoch: 45/50... Step: 57000... Loss: 1.1769... Val Loss: 1.1505\n",
      "Epoch: 46/50... Step: 58000... Loss: 1.1126... Val Loss: 1.1480\n",
      "Epoch: 47/50... Step: 59000... Loss: 1.0290... Val Loss: 1.1496\n",
      "Epoch: 48/50... Step: 60000... Loss: 1.2149... Val Loss: 1.1492\n",
      "Epoch: 48/50... Step: 61000... Loss: 1.0812... Val Loss: 1.1486\n",
      "Epoch: 49/50... Step: 62000... Loss: 1.1724... Val Loss: 1.1475\n",
      "Epoch: 50/50... Step: 63000... Loss: 1.0420... Val Loss: 1.1472\n",
      "\n",
      "1.1469556101552256\n"
     ]
    }
   ],
   "source": [
    "batch_size = 10\n",
    "seq_length = 140\n",
    "n_epochs =  50 # start small if you are just testing initial behavior\n",
    "\n",
    "# train the model\n",
    "val_loss = train(net, encoded, epochs=n_epochs, batch_size=batch_size, seq_length=seq_length, lr=0.001, print_every=1000, val_loss_min=val_loss, val_frac=0.1)\n",
    "print(val_loss)"
   ]
  },
  {
   "cell_type": "markdown",
   "metadata": {},
   "source": [
    "## Getting the best model\n",
    "\n",
    "To set your hyperparameters to get the best performance, you'll want to watch the training and validation losses. If your training loss is much lower than the validation loss, you're overfitting. Increase regularization (more dropout) or use a smaller network. If the training and validation losses are close, you're underfitting so you can increase the size of the network."
   ]
  },
  {
   "cell_type": "markdown",
   "metadata": {},
   "source": [
    "## Hyperparameters\n",
    "\n",
    "Here are the hyperparameters for the network.\n",
    "\n",
    "In defining the model:\n",
    "* `n_hidden` - The number of units in the hidden layers.\n",
    "* `n_layers` - Number of hidden LSTM layers to use.\n",
    "\n",
    "We assume that dropout probability and learning rate will be kept at the default, in this example.\n",
    "\n",
    "And in training:\n",
    "* `batch_size` - Number of sequences running through the network in one pass.\n",
    "* `seq_length` - Number of characters in the sequence the network is trained on. Larger is better typically, the network will learn more long range dependencies. But it takes longer to train. 100 is typically a good number here.\n",
    "* `lr` - Learning rate for training\n",
    "\n",
    "Here's some good advice from Andrej Karpathy on training the network. I'm going to copy it in here for your benefit, but also link to [where it originally came from](https://github.com/karpathy/char-rnn#tips-and-tricks).\n",
    "\n",
    "> ## Tips and Tricks\n",
    "\n",
    ">### Monitoring Validation Loss vs. Training Loss\n",
    ">If you're somewhat new to Machine Learning or Neural Networks it can take a bit of expertise to get good models. The most important quantity to keep track of is the difference between your training loss (printed during training) and the validation loss (printed once in a while when the RNN is run on the validation data (by default every 1000 iterations)). In particular:\n",
    "\n",
    "> - If your training loss is much lower than validation loss then this means the network might be **overfitting**. Solutions to this are to decrease your network size, or to increase dropout. For example you could try dropout of 0.5 and so on.\n",
    "> - If your training/validation loss are about equal then your model is **underfitting**. Increase the size of your model (either number of layers or the raw number of neurons per layer)\n",
    "\n",
    "> ### Approximate number of parameters\n",
    "\n",
    "> The two most important parameters that control the model are `n_hidden` and `n_layers`. I would advise that you always use `n_layers` of either 2/3. The `n_hidden` can be adjusted based on how much data you have. The two important quantities to keep track of here are:\n",
    "\n",
    "> - The number of parameters in your model. This is printed when you start training.\n",
    "> - The size of your dataset. 1MB file is approximately 1 million characters.\n",
    "\n",
    ">These two should be about the same order of magnitude. It's a little tricky to tell. Here are some examples:\n",
    "\n",
    "> - I have a 100MB dataset and I'm using the default parameter settings (which currently print 150K parameters). My data size is significantly larger (100 mil >> 0.15 mil), so I expect to heavily underfit. I am thinking I can comfortably afford to make `n_hidden` larger.\n",
    "> - I have a 10MB dataset and running a 10 million parameter model. I'm slightly nervous and I'm carefully monitoring my validation loss. If it's larger than my training loss then I may want to try to increase dropout a bit and see if that helps the validation loss.\n",
    "\n",
    "> ### Best models strategy\n",
    "\n",
    ">The winning strategy to obtaining very good models (if you have the compute time) is to always err on making the network larger (as large as you're willing to wait for it to compute) and then try different dropout values (between 0,1). Whatever model has the best validation performance (the loss, written in the checkpoint filename, low is good) is the one you should use in the end.\n",
    "\n",
    ">It is very common in deep learning to run many different models with many different hyperparameter settings, and in the end take whatever checkpoint gave the best validation performance.\n",
    "\n",
    ">By the way, the size of your training and validation splits are also parameters. Make sure you have a decent amount of data in your validation set or otherwise the validation performance will be noisy and not very informative."
   ]
  },
  {
   "cell_type": "markdown",
   "metadata": {},
   "source": [
    "## Checkpoint\n",
    "\n",
    "After training, we'll save the model so we can load it again later if we need too. Here I'm saving the parameters needed to create the same architecture, the hidden layer hyperparameters and the text characters."
   ]
  },
  {
   "cell_type": "code",
   "execution_count": null,
   "metadata": {},
   "outputs": [],
   "source": [
    "# change the name, for saving multiple files\n",
    "model_name = 'rnn_x_epoch.net'\n",
    "\n",
    "checkpoint = {'n_hidden': net.n_hidden,\n",
    "              'n_layers': net.n_layers,\n",
    "              'state_dict': net.state_dict(),\n",
    "              'tokens': net.chars}\n",
    "\n",
    "with open(model_name, 'wb') as f:\n",
    "    torch.save(checkpoint, f)"
   ]
  },
  {
   "cell_type": "markdown",
   "metadata": {},
   "source": [
    "---\n",
    "## Making Predictions\n",
    "\n",
    "Now that the model is trained, we'll want to sample from it and make predictions about next characters! To sample, we pass in a character and have the network predict the next character. Then we take that character, pass it back in, and get another predicted character. Just keep doing this and you'll generate a bunch of text!\n",
    "\n",
    "### A note on the `predict`  function\n",
    "\n",
    "The output of our RNN is from a fully-connected layer and it outputs a **distribution of next-character scores**.\n",
    "\n",
    "> To actually get the next character, we apply a softmax function, which gives us a *probability* distribution that we can then sample to predict the next character.\n",
    "\n",
    "### Top K sampling\n",
    "\n",
    "Our predictions come from a categorical probability distribution over all the possible characters. We can make the sample text and make it more reasonable to handle (with less variables) by only considering some $K$ most probable characters. This will prevent the network from giving us completely absurd characters while allowing it to introduce some noise and randomness into the sampled text. Read more about [topk, here](https://pytorch.org/docs/stable/torch.html#torch.topk).\n"
   ]
  },
  {
   "cell_type": "markdown",
   "metadata": {},
   "source": [
    "### Show how it is done step by step"
   ]
  },
  {
   "cell_type": "code",
   "execution_count": 300,
   "metadata": {},
   "outputs": [
    {
     "data": {
      "text/plain": [
       "array([[49]])"
      ]
     },
     "execution_count": 300,
     "metadata": {},
     "output_type": "execute_result"
    }
   ],
   "source": [
    "x = np.array([[net.char2int['B']]])\n",
    "x"
   ]
  },
  {
   "cell_type": "code",
   "execution_count": 301,
   "metadata": {},
   "outputs": [
    {
     "data": {
      "text/plain": [
       "array([[[0., 0., 0., 0., 0., 0., 0., 0., 0., 0., 0., 0., 0., 0., 0., 0.,\n",
       "         0., 0., 0., 0., 0., 0., 0., 0., 0., 0., 0., 0., 0., 0., 0., 0.,\n",
       "         0., 0., 0., 0., 0., 0., 0., 0., 0., 0., 0., 0., 0., 0., 0., 0.,\n",
       "         0., 1., 0., 0., 0., 0., 0., 0., 0., 0., 0., 0., 0., 0., 0., 0.,\n",
       "         0., 0., 0., 0., 0., 0., 0., 0., 0., 0., 0., 0., 0., 0., 0., 0.,\n",
       "         0., 0., 0.]]], dtype=float32)"
      ]
     },
     "execution_count": 301,
     "metadata": {},
     "output_type": "execute_result"
    }
   ],
   "source": [
    "x = one_hot_encode(x, net.n_chars)\n",
    "x"
   ]
  },
  {
   "cell_type": "code",
   "execution_count": 302,
   "metadata": {},
   "outputs": [
    {
     "data": {
      "text/plain": [
       "(2, torch.Size([3, 1, 256]), torch.Size([3, 1, 256]))"
      ]
     },
     "execution_count": 302,
     "metadata": {},
     "output_type": "execute_result"
    }
   ],
   "source": [
    "# returns a tuple of hidden state and cell state\n",
    "h = net.init_hidden(1)\n",
    "len(h), h[0].shape, h[1].shape"
   ]
  },
  {
   "cell_type": "code",
   "execution_count": 303,
   "metadata": {},
   "outputs": [
    {
     "data": {
      "text/plain": [
       "True"
      ]
     },
     "execution_count": 303,
     "metadata": {},
     "output_type": "execute_result"
    }
   ],
   "source": [
    "inp = torch.from_numpy(x).to(device)\n",
    "inp.is_cuda"
   ]
  },
  {
   "cell_type": "code",
   "execution_count": 304,
   "metadata": {},
   "outputs": [
    {
     "data": {
      "text/plain": [
       "True"
      ]
     },
     "execution_count": 304,
     "metadata": {},
     "output_type": "execute_result"
    }
   ],
   "source": [
    "# hidden state is already on the device where the model is\n",
    "h[0].is_cuda"
   ]
  },
  {
   "cell_type": "code",
   "execution_count": 305,
   "metadata": {},
   "outputs": [],
   "source": [
    "net.eval()\n",
    "with torch.no_grad():\n",
    "    next_char, h = net(inp,h)"
   ]
  },
  {
   "cell_type": "code",
   "execution_count": 306,
   "metadata": {},
   "outputs": [
    {
     "data": {
      "text/plain": [
       "tensor([[-15.6552,   1.6867, -16.9445, -18.4826, -14.7020,  -7.1391,  -4.4100,\n",
       "          -4.0603, -23.2440, -17.9872,  -7.0180,  -5.2073, -15.6283,  -7.5055,\n",
       "         -13.5137, -12.7914,   1.4681, -21.9995,   3.5406,  -3.3882,  -2.9762,\n",
       "          -6.9097,  -9.5095, -18.7235,  -6.0226,  -5.5185,  -7.1476, -10.7954,\n",
       "           1.0387,  -5.5862, -18.2603, -22.4726, -12.0393, -15.2690,  -9.1073,\n",
       "         -23.9039, -10.9731, -25.5066, -14.8298,  -3.4448, -11.4609,  -7.7709,\n",
       "         -19.7498,  -9.3204, -22.0535, -13.9940,   1.6466, -24.8262, -20.0096,\n",
       "         -14.0743, -12.8643, -23.8616, -23.9243, -25.6489,  -4.0783,  -8.6226,\n",
       "         -13.1048, -12.1526,  -5.5716,  -4.5847,  -4.6285, -22.0787,  -6.1151,\n",
       "          -3.0325,  -8.0792,  -8.9869, -15.7782, -14.4186, -10.1173,  -9.4374,\n",
       "           0.9913,  -3.5431,   0.3915,  -9.6254,  -6.0494, -17.4341,  -6.1099,\n",
       "         -13.7062, -16.6098,  -9.0038, -12.5257,   3.1387,  -8.4195]],\n",
       "       device='cuda:0')"
      ]
     },
     "execution_count": 306,
     "metadata": {},
     "output_type": "execute_result"
    }
   ],
   "source": [
    "next_char"
   ]
  },
  {
   "cell_type": "code",
   "execution_count": 307,
   "metadata": {},
   "outputs": [],
   "source": [
    "next_char = F.softmax(next_char.squeeze_().to('cpu'), dim=0)"
   ]
  },
  {
   "cell_type": "code",
   "execution_count": 310,
   "metadata": {},
   "outputs": [
    {
     "data": {
      "text/plain": [
       "(tensor([0.4323, 0.2892, 0.0677, 0.0650, 0.0544]),\n",
       " tensor([18, 81,  1, 46, 16]))"
      ]
     },
     "execution_count": 310,
     "metadata": {},
     "output_type": "execute_result"
    }
   ],
   "source": [
    "p, char = next_char.topk(5)\n",
    "p, char"
   ]
  },
  {
   "cell_type": "code",
   "execution_count": 320,
   "metadata": {},
   "outputs": [
    {
     "data": {
      "text/plain": [
       "'o'"
      ]
     },
     "execution_count": 320,
     "metadata": {},
     "output_type": "execute_result"
    }
   ],
   "source": [
    "next_char = np.random.choice(char.numpy(), p=(p/p.sum()).numpy())\n",
    "net.int2char[next_char]"
   ]
  },
  {
   "cell_type": "code",
   "execution_count": 174,
   "metadata": {},
   "outputs": [],
   "source": [
    "def predict(net, char, h=None, top_k=None):\n",
    "        ''' Given a character, predict the next character.\n",
    "            Returns the predicted character and the hidden state.\n",
    "        '''\n",
    "        \n",
    "        # tensor inputs\n",
    "        x = np.array([[net.char2int[char]]])\n",
    "        x = one_hot_encode(x, len(net.chars))\n",
    "        inputs = torch.from_numpy(x)\n",
    "        \n",
    "        if(train_on_gpu):\n",
    "            inputs = inputs.cuda()\n",
    "        \n",
    "        with torch.no_grad():\n",
    "            out, h = net(inputs, h)\n",
    "\n",
    "            # get the character probabilities\n",
    "            p = F.softmax(out, dim=1)\n",
    "            if(train_on_gpu):\n",
    "                p = p.cpu() # move to cpu\n",
    "        \n",
    "        # get top characters\n",
    "        if top_k is None:\n",
    "            top_ch = np.arange(len(net.chars))\n",
    "        else:\n",
    "            p, top_ch = p.topk(top_k)\n",
    "            #print(p, top_ch)\n",
    "            top_ch = top_ch.numpy().squeeze()\n",
    "        \n",
    "        # select the likely next character with some element of randomness\n",
    "        p = p.numpy().squeeze()\n",
    "        char = np.random.choice(top_ch, p=p/p.sum())\n",
    "        \n",
    "        # return the encoded value of the predicted char and the hidden state\n",
    "        return net.int2char[char], h"
   ]
  },
  {
   "cell_type": "markdown",
   "metadata": {},
   "source": [
    "### Priming and generating text \n",
    "\n",
    "Typically you'll want to prime the network so you can build up a hidden state. Otherwise the network will start out generating characters at random. In general the first bunch of characters will be a little rough since it hasn't built up a long history of characters to predict from."
   ]
  },
  {
   "cell_type": "code",
   "execution_count": 172,
   "metadata": {},
   "outputs": [],
   "source": [
    "def sample(net, size, prime='The', top_k=None):\n",
    "        \n",
    "    if(train_on_gpu):\n",
    "        net.cuda()\n",
    "    else:\n",
    "        net.cpu()\n",
    "    \n",
    "    net.eval() # eval mode\n",
    "    \n",
    "    # First off, run through the prime characters\n",
    "    chars = [ch for ch in prime]\n",
    "    h = net.init_hidden(1)\n",
    "    for ch in prime:\n",
    "        char, h = predict(net, ch, h, top_k=top_k)\n",
    "\n",
    "    chars.append(char)\n",
    "    \n",
    "    # Now pass in the previous character and get a new one\n",
    "    for ii in range(size):\n",
    "        char, h = predict(net, chars[-1], h, top_k=top_k)\n",
    "        chars.append(char)\n",
    "\n",
    "    return ''.join(chars)"
   ]
  },
  {
   "cell_type": "code",
   "execution_count": 182,
   "metadata": {},
   "outputs": [
    {
     "name": "stdout",
     "output_type": "stream",
     "text": [
      "The hostess.\"\n",
      "\n",
      "\"What a patient would tell them with the possible work.\"\n",
      "\n",
      "\"If I move, honestly you mean out of my father,\" she said, without her the tribling\n",
      "room, catching her letter, as though suddenly\n",
      "so\n"
     ]
    }
   ],
   "source": [
    "print(sample(net, 200, prime='The ', top_k=10))"
   ]
  },
  {
   "cell_type": "markdown",
   "metadata": {},
   "source": [
    "## Loading a checkpoint"
   ]
  },
  {
   "cell_type": "code",
   "execution_count": null,
   "metadata": {
    "collapsed": true,
    "jupyter": {
     "outputs_hidden": true
    }
   },
   "outputs": [],
   "source": [
    "# Here we have loaded in a model that trained over 20 epochs `rnn_20_epoch.net`\n",
    "with open('rnn_x_epoch.net', 'rb') as f:\n",
    "    checkpoint = torch.load(f)\n",
    "    \n",
    "loaded = CharRNN(checkpoint['tokens'], n_hidden=checkpoint['n_hidden'], n_layers=checkpoint['n_layers'])\n",
    "loaded.load_state_dict(checkpoint['state_dict'])"
   ]
  },
  {
   "cell_type": "code",
   "execution_count": 186,
   "metadata": {},
   "outputs": [
    {
     "data": {
      "text/plain": [
       "<All keys matched successfully>"
      ]
     },
     "execution_count": 186,
     "metadata": {},
     "output_type": "execute_result"
    }
   ],
   "source": [
    "loaded = CharRNN(chars, n_hidden, n_layers, drop_prob=0.5)\n",
    "loaded.load_state_dict(torch.load('anna_model.pt'))"
   ]
  },
  {
   "cell_type": "code",
   "execution_count": 187,
   "metadata": {},
   "outputs": [
    {
     "name": "stdout",
     "output_type": "stream",
     "text": [
      "And Levin said. That was some time that he had a children, the day, to say, and still at that instant so well. There has not a person, that\n",
      "had said the peasants which had to see a means of the country. She had seen the memory of his suffering, but that\n",
      "she would gaze away, that his\n",
      "morning was told he was to be talked,\n",
      "and set there in\n",
      "the difficulty of the could not stop at once, had not to say that the counting hands arranged an accounts. At the most children who strange this was.\n",
      "\n",
      "She had to see him the colonel. He could not comprehend, he was all his white thing. She stopped to to be satisfied that she was getting up.\n",
      "\n",
      "\"And that's a fancy to me! If it's\n",
      "not a contrary.\"\n",
      "\n",
      "\"Yes, the\n",
      "princess, I don't know whether it is is such position in the\n",
      "service of the point, and that inside it's the first man in the window and\n",
      "herself interesting, but with such a man of the point of horror is a second\n",
      "and my son to the part, that I have seen him to be a contempt of this solucking at the position and his chain and set\n",
      "anyone in supper, when you are forced for him, but I can't help the men and husband was already from that source, when the marshal of the child has no story of the whole merchant that is something sort in the strange, and the men who can tell me that I said that, and so that you were not in spite of the works of husbandry.\n",
      "There is no\n",
      "surprise of him. I was not a sound of a shoulder.\"\n",
      "\n",
      "\"You're not all,\" said the maid.\n",
      "\n",
      "\"That's why, you know what is so strangely, I'm not the stream, that's a stay for the conversation. What are you disturbed? At a moment.\"\n",
      "\n",
      "The drawing room he stood\n",
      "over the sense, and with a smile at the coachman, his feet into a little, that she was as a prayer of the soft and sides of a men, and have seen through his bed, had\n",
      "to say a second and holder, he was saw that this had been told they saw\n",
      "to seem to hear that he could not call at the same time. The present condition, as it were, and an hour and how to send in his faith. But so that\n",
      "he would--was all \n"
     ]
    }
   ],
   "source": [
    "# Sample using a loaded model\n",
    "print(sample(loaded, 2000, top_k=5, prime=\"And Levin said\"))"
   ]
  },
  {
   "cell_type": "code",
   "execution_count": null,
   "metadata": {
    "collapsed": true,
    "jupyter": {
     "outputs_hidden": true
    }
   },
   "outputs": [],
   "source": []
  }
 ],
 "metadata": {
  "kernelspec": {
   "display_name": "Python 3",
   "language": "python",
   "name": "python3"
  },
  "language_info": {
   "codemirror_mode": {
    "name": "ipython",
    "version": 3
   },
   "file_extension": ".py",
   "mimetype": "text/x-python",
   "name": "python",
   "nbconvert_exporter": "python",
   "pygments_lexer": "ipython3",
   "version": "3.6.9"
  }
 },
 "nbformat": 4,
 "nbformat_minor": 4
}
