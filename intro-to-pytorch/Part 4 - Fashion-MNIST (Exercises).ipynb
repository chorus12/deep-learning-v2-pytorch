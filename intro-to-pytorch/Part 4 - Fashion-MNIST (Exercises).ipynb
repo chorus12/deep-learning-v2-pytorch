{
 "cells": [
  {
   "cell_type": "markdown",
   "metadata": {},
   "source": [
    "# Classifying Fashion-MNIST\n",
    "\n",
    "Now it's your turn to build and train a neural network. You'll be using the [Fashion-MNIST dataset](https://github.com/zalandoresearch/fashion-mnist), a drop-in replacement for the MNIST dataset. MNIST is actually quite trivial with neural networks where you can easily achieve better than 97% accuracy. Fashion-MNIST is a set of 28x28 greyscale images of clothes. It's more complex than MNIST, so it's a better representation of the actual performance of your network, and a better representation of datasets you'll use in the real world.\n",
    "\n",
    "<img src='assets/fashion-mnist-sprite.png' width=500px>\n",
    "\n",
    "In this notebook, you'll build your own neural network. For the most part, you could just copy and paste the code from Part 3, but you wouldn't be learning. It's important for you to write the code yourself and get it to work. Feel free to consult the previous notebooks though as you work through this.\n",
    "\n",
    "First off, let's load the dataset through torchvision."
   ]
  },
  {
   "cell_type": "code",
   "execution_count": 1,
   "metadata": {},
   "outputs": [
    {
     "name": "stdout",
     "output_type": "stream",
     "text": [
      "Downloading http://fashion-mnist.s3-website.eu-central-1.amazonaws.com/train-images-idx3-ubyte.gz\n",
      "Downloading http://fashion-mnist.s3-website.eu-central-1.amazonaws.com/train-images-idx3-ubyte.gz to /home/testuser/.pytorch/F_MNIST_data/FashionMNIST/raw/train-images-idx3-ubyte.gz\n"
     ]
    },
    {
     "data": {
      "application/vnd.jupyter.widget-view+json": {
       "model_id": "d261b6a61bf34a4db21c2add9c6f72e9",
       "version_major": 2,
       "version_minor": 0
      },
      "text/plain": [
       "HBox(children=(FloatProgress(value=0.0, max=26421880.0), HTML(value='')))"
      ]
     },
     "metadata": {},
     "output_type": "display_data"
    },
    {
     "name": "stdout",
     "output_type": "stream",
     "text": [
      "\n",
      "Extracting /home/testuser/.pytorch/F_MNIST_data/FashionMNIST/raw/train-images-idx3-ubyte.gz to /home/testuser/.pytorch/F_MNIST_data/FashionMNIST/raw\n",
      "\n",
      "Downloading http://fashion-mnist.s3-website.eu-central-1.amazonaws.com/train-labels-idx1-ubyte.gz\n",
      "Downloading http://fashion-mnist.s3-website.eu-central-1.amazonaws.com/train-labels-idx1-ubyte.gz to /home/testuser/.pytorch/F_MNIST_data/FashionMNIST/raw/train-labels-idx1-ubyte.gz\n"
     ]
    },
    {
     "data": {
      "application/vnd.jupyter.widget-view+json": {
       "model_id": "09810e6a480e4d828e4eca8767dcef48",
       "version_major": 2,
       "version_minor": 0
      },
      "text/plain": [
       "HBox(children=(FloatProgress(value=0.0, max=29515.0), HTML(value='')))"
      ]
     },
     "metadata": {},
     "output_type": "display_data"
    },
    {
     "name": "stdout",
     "output_type": "stream",
     "text": [
      "\n",
      "Extracting /home/testuser/.pytorch/F_MNIST_data/FashionMNIST/raw/train-labels-idx1-ubyte.gz to /home/testuser/.pytorch/F_MNIST_data/FashionMNIST/raw\n",
      "\n",
      "Downloading http://fashion-mnist.s3-website.eu-central-1.amazonaws.com/t10k-images-idx3-ubyte.gz\n",
      "Downloading http://fashion-mnist.s3-website.eu-central-1.amazonaws.com/t10k-images-idx3-ubyte.gz to /home/testuser/.pytorch/F_MNIST_data/FashionMNIST/raw/t10k-images-idx3-ubyte.gz\n"
     ]
    },
    {
     "data": {
      "application/vnd.jupyter.widget-view+json": {
       "model_id": "657c41edd0dc40919e107035b1ff5e41",
       "version_major": 2,
       "version_minor": 0
      },
      "text/plain": [
       "HBox(children=(FloatProgress(value=0.0, max=4422102.0), HTML(value='')))"
      ]
     },
     "metadata": {},
     "output_type": "display_data"
    },
    {
     "name": "stdout",
     "output_type": "stream",
     "text": [
      "\n",
      "Extracting /home/testuser/.pytorch/F_MNIST_data/FashionMNIST/raw/t10k-images-idx3-ubyte.gz to /home/testuser/.pytorch/F_MNIST_data/FashionMNIST/raw\n",
      "\n",
      "Downloading http://fashion-mnist.s3-website.eu-central-1.amazonaws.com/t10k-labels-idx1-ubyte.gz\n",
      "Downloading http://fashion-mnist.s3-website.eu-central-1.amazonaws.com/t10k-labels-idx1-ubyte.gz to /home/testuser/.pytorch/F_MNIST_data/FashionMNIST/raw/t10k-labels-idx1-ubyte.gz\n"
     ]
    },
    {
     "data": {
      "application/vnd.jupyter.widget-view+json": {
       "model_id": "6a77a51f7bd84423a6f2f209a01f02ab",
       "version_major": 2,
       "version_minor": 0
      },
      "text/plain": [
       "HBox(children=(FloatProgress(value=0.0, max=5148.0), HTML(value='')))"
      ]
     },
     "metadata": {},
     "output_type": "display_data"
    },
    {
     "name": "stdout",
     "output_type": "stream",
     "text": [
      "\n",
      "Extracting /home/testuser/.pytorch/F_MNIST_data/FashionMNIST/raw/t10k-labels-idx1-ubyte.gz to /home/testuser/.pytorch/F_MNIST_data/FashionMNIST/raw\n",
      "\n",
      "Processing...\n",
      "Done!\n"
     ]
    },
    {
     "name": "stderr",
     "output_type": "stream",
     "text": [
      "/usr/local/lib/python3.6/dist-packages/torchvision/datasets/mnist.py:502: UserWarning: The given NumPy array is not writeable, and PyTorch does not support non-writeable tensors. This means you can write to the underlying (supposedly non-writeable) NumPy array using the tensor. You may want to copy the array to protect its data or make it writeable before converting it to a tensor. This type of warning will be suppressed for the rest of this program. (Triggered internally at  /pytorch/torch/csrc/utils/tensor_numpy.cpp:143.)\n",
      "  return torch.from_numpy(parsed.astype(m[2], copy=False)).view(*s)\n"
     ]
    }
   ],
   "source": [
    "%matplotlib inline\n",
    "import matplotlib.pyplot as plt\n",
    "import torch\n",
    "from torchvision import datasets\n",
    "import torchvision.transforms as T\n",
    "import helper\n",
    "import torch.nn as nn\n",
    "import torch.nn.functional as F\n",
    "from tqdm.notebook import tqdm\n",
    "\n",
    "transform = T.Compose([ T.ToTensor(), \n",
    "                        T.Normalize((0.5,),(0.5,)) ])\n",
    "\n",
    "trainset = datasets.FashionMNIST('~/.pytorch/F_MNIST_data/', train=True, download=True, transform=transform)\n",
    "trainloader = torch.utils.data.DataLoader(trainset, batch_size=64, shuffle=True)\n",
    "\n",
    "testset = datasets.FashionMNIST('~/.pytorch/F_MNIST_data/', train=False, download=True, transform=transform)\n",
    "testloader = torch.utils.data.DataLoader(testset, batch_size=len(testset), shuffle=False)"
   ]
  },
  {
   "cell_type": "markdown",
   "metadata": {},
   "source": [
    "0 T-shirt/top  \n",
    "1 Trouser  \n",
    "2 Pullover  \n",
    "3 Dress  \n",
    "4 Coat  \n",
    "5 Sandal  \n",
    "6 Shirt  \n",
    "7 Sneaker  \n",
    "8 Bag  \n",
    "9 Ankle boot  "
   ]
  },
  {
   "cell_type": "code",
   "execution_count": 2,
   "metadata": {},
   "outputs": [],
   "source": [
    "image, label = next(iter(trainloader))"
   ]
  },
  {
   "cell_type": "code",
   "execution_count": 3,
   "metadata": {},
   "outputs": [
    {
     "data": {
      "image/png": "[encoded data removed]",
      "text/plain": [
       "<Figure size 432x288 with 1 Axes>"
      ]
     },
     "metadata": {
      "needs_background": "light"
     },
     "output_type": "display_data"
    }
   ],
   "source": [
    "plt.imshow(image[0,:].permute(1,2,0).squeeze().numpy(), cmap='Greys_r');"
   ]
  },
  {
   "cell_type": "code",
   "execution_count": 4,
   "metadata": {},
   "outputs": [
    {
     "data": {
      "image/png": "[encoded data removed]",
      "text/plain": [
       "<Figure size 432x288 with 1 Axes>"
      ]
     },
     "metadata": {
      "needs_background": "light"
     },
     "output_type": "display_data"
    }
   ],
   "source": [
    "helper.imshow(image[0,:]);"
   ]
  },
  {
   "cell_type": "markdown",
   "metadata": {},
   "source": [
    "Here we can see one of the images."
   ]
  },
  {
   "cell_type": "markdown",
   "metadata": {},
   "source": [
    "## Building the network\n",
    "\n",
    "Here you should define your network. As with MNIST, each image is 28x28 which is a total of 784 pixels, and there are 10 classes. You should include at least one hidden layer. We suggest you use ReLU activations for the layers and to return the logits or log-softmax from the forward pass. It's up to you how many layers you add and the size of those layers."
   ]
  },
  {
   "cell_type": "code",
   "execution_count": 5,
   "metadata": {},
   "outputs": [],
   "source": [
    "# TODO: Define your network architecture here\n",
    "\n",
    "class fmnist(nn.Module):\n",
    "    def __init__(self, layers, n_input=784, n_classes = 10, dropout_prob=0):\n",
    "        \n",
    "        def fmnist_block(f_in, f_out, dropout_prob=0):\n",
    "            return nn.Sequential(*[nn.Dropout(p=dropout_prob), nn.Linear(f_in, f_out), nn.ReLU()])\n",
    "        \n",
    "        super().__init__()\n",
    "        self.dropout_prob = dropout_prob\n",
    "        #add first and last dimensions\n",
    "        layers.insert(0, n_input)\n",
    "        layers.append(n_classes)\n",
    "        \n",
    "        net = [fmnist_block(layers[i-1], layers[i], dropout_prob=self.dropout_prob) for i in range(1, len(layers))]\n",
    "        self.net = nn.Sequential(*net)\n",
    "                         \n",
    "    def forward(self, x):\n",
    "        return F.log_softmax(self.net(x.view(x.shape[0],-1)), dim=1)  "
   ]
  },
  {
   "cell_type": "code",
   "execution_count": 16,
   "metadata": {},
   "outputs": [],
   "source": [
    "# TODO: Define your network architecture here\n",
    "\n",
    "class fmnist_listed(nn.Module):\n",
    "    def __init__(self, layers, n_input=784, n_classes = 10, dropout_prob=0):\n",
    "        \n",
    "        def fmnist_block(f_in, f_out, dropout_prob=0):\n",
    "            return [nn.Dropout(p=dropout_prob), nn.Linear(f_in, f_out), nn.ReLU()]\n",
    "        \n",
    "        super().__init__()\n",
    "        self.dropout_prob = dropout_prob\n",
    "        #add first and last dimensions\n",
    "        layers.insert(0, n_input)\n",
    "        layers.append(n_classes)\n",
    "        self.net = nn.ModuleList()\n",
    "        \n",
    "        for f_in, f_out in zip(layers[:-1], layers[1:]):\n",
    "            self.net.extend(fmnist_block(f_in, f_out, self.dropout_prob))\n",
    "                             \n",
    "    def forward(self, x):\n",
    "        out = x.view(x.shape[0],-1)\n",
    "        for layer in self.net:\n",
    "            out = layer(out)\n",
    "        return F.log_softmax(out, dim=1)  \n",
    "\n",
    "criterion = nn.NLLLoss()"
   ]
  },
  {
   "cell_type": "code",
   "execution_count": 17,
   "metadata": {},
   "outputs": [],
   "source": [
    "#net = fmnist([128,64,32])\n",
    "#net = fmnist([256,128,64], dropout_prob=0.5)\n",
    "net = fmnist_listed([256,128,64], dropout_prob=0.5)"
   ]
  },
  {
   "cell_type": "code",
   "execution_count": 18,
   "metadata": {},
   "outputs": [
    {
     "data": {
      "text/plain": [
       "'cuda:0'"
      ]
     },
     "metadata": {},
     "output_type": "display_data"
    }
   ],
   "source": [
    "device = 'cuda:0' if torch.cuda.is_available() else 'cpu'\n",
    "display(device)\n",
    "#device = 'cpu'\n",
    "net.to(device);"
   ]
  },
  {
   "cell_type": "code",
   "execution_count": 22,
   "metadata": {},
   "outputs": [
    {
     "data": {
      "text/plain": [
       "torch.Size([64, 1, 28, 28])"
      ]
     },
     "execution_count": 22,
     "metadata": {},
     "output_type": "execute_result"
    }
   ],
   "source": [
    "image.shape"
   ]
  },
  {
   "cell_type": "code",
   "execution_count": 19,
   "metadata": {},
   "outputs": [
    {
     "data": {
      "text/plain": [
       "torch.Size([64, 784])"
      ]
     },
     "execution_count": 19,
     "metadata": {},
     "output_type": "execute_result"
    }
   ],
   "source": [
    "image.view(64,-1).shape"
   ]
  },
  {
   "cell_type": "code",
   "execution_count": 20,
   "metadata": {},
   "outputs": [
    {
     "data": {
      "text/plain": [
       "tensor(64., device='cuda:0')"
      ]
     },
     "execution_count": 20,
     "metadata": {},
     "output_type": "execute_result"
    }
   ],
   "source": [
    "# sanity check\n",
    "with torch.no_grad():\n",
    "    out = net(image.to(device))\n",
    "torch.exp(out).sum()"
   ]
  },
  {
   "cell_type": "code",
   "execution_count": 23,
   "metadata": {},
   "outputs": [
    {
     "data": {
      "text/plain": [
       "torch.Size([64, 10])"
      ]
     },
     "execution_count": 23,
     "metadata": {},
     "output_type": "execute_result"
    }
   ],
   "source": [
    "out.shape"
   ]
  },
  {
   "cell_type": "markdown",
   "metadata": {},
   "source": [
    "# Train the network\n",
    "\n",
    "Now you should create your network and train it. First you'll want to define [the criterion](http://pytorch.org/docs/master/nn.html#loss-functions) ( something like `nn.CrossEntropyLoss`) and [the optimizer](http://pytorch.org/docs/master/optim.html) (typically `optim.SGD` or `optim.Adam`).\n",
    "\n",
    "Then write the training code. Remember the training pass is a fairly straightforward process:\n",
    "\n",
    "* Make a forward pass through the network to get the logits \n",
    "* Use the logits to calculate the loss\n",
    "* Perform a backward pass through the network with `loss.backward()` to calculate the gradients\n",
    "* Take a step with the optimizer to update the weights\n",
    "\n",
    "By adjusting the hyperparameters (hidden units, learning rate, etc), you should be able to get the training loss below 0.4."
   ]
  },
  {
   "cell_type": "code",
   "execution_count": 37,
   "metadata": {},
   "outputs": [],
   "source": [
    "# TODO: Create the network, define the criterion and optimizer\n",
    "# done before"
   ]
  },
  {
   "cell_type": "code",
   "execution_count": 24,
   "metadata": {},
   "outputs": [],
   "source": [
    "def init_weights(m):\n",
    "    \"\"\"\n",
    "    initialize weights with Kaming \n",
    "    https://towardsdatascience.com/weight-initialization-in-neural-networks-a-journey-from-the-basics-to-kaiming-954fb9b47c79\n",
    "    \"\"\"\n",
    "    if isinstance(m, nn.ConvTranspose2d) or isinstance(m, nn.Conv2d) or isinstance(m, nn.Linear):\n",
    "        nn.init.kaiming_normal_(m.weight)\n",
    "        #torch.nn.init.kaiming_normal_(m.bias)\n",
    "net.apply(init_weights);"
   ]
  },
  {
   "cell_type": "markdown",
   "metadata": {},
   "source": [
    "## Requires Grad block"
   ]
  },
  {
   "cell_type": "code",
   "execution_count": null,
   "metadata": {},
   "outputs": [],
   "source": [
    "net.net[0][0].weight.requires_grad=False\n",
    "net.net[0][0].bias.requires_grad=False\n",
    "net.net[0][0].weight.requires_grad, net.net[0][0].bias.requires_grad"
   ]
  },
  {
   "cell_type": "code",
   "execution_count": 25,
   "metadata": {},
   "outputs": [],
   "source": [
    "def check_grads(n):\n",
    "    '''\n",
    "    check if all submodules have requires grads\n",
    "    '''\n",
    "    if isinstance(n, nn.Linear):\n",
    "        print(n)\n",
    "        for name, par in n.named_parameters():\n",
    "            print(name, par.requires_grad)\n",
    "        print('---')"
   ]
  },
  {
   "cell_type": "code",
   "execution_count": 26,
   "metadata": {},
   "outputs": [
    {
     "name": "stdout",
     "output_type": "stream",
     "text": [
      "Linear(in_features=784, out_features=256, bias=True)\n",
      "weight True\n",
      "bias True\n",
      "---\n",
      "Linear(in_features=256, out_features=128, bias=True)\n",
      "weight True\n",
      "bias True\n",
      "---\n",
      "Linear(in_features=128, out_features=64, bias=True)\n",
      "weight True\n",
      "bias True\n",
      "---\n",
      "Linear(in_features=64, out_features=10, bias=True)\n",
      "weight True\n",
      "bias True\n",
      "---\n"
     ]
    },
    {
     "data": {
      "text/plain": [
       "fmnist_listed(\n",
       "  (net): ModuleList(\n",
       "    (0): Dropout(p=0.5, inplace=False)\n",
       "    (1): Linear(in_features=784, out_features=256, bias=True)\n",
       "    (2): ReLU()\n",
       "    (3): Dropout(p=0.5, inplace=False)\n",
       "    (4): Linear(in_features=256, out_features=128, bias=True)\n",
       "    (5): ReLU()\n",
       "    (6): Dropout(p=0.5, inplace=False)\n",
       "    (7): Linear(in_features=128, out_features=64, bias=True)\n",
       "    (8): ReLU()\n",
       "    (9): Dropout(p=0.5, inplace=False)\n",
       "    (10): Linear(in_features=64, out_features=10, bias=True)\n",
       "    (11): ReLU()\n",
       "  )\n",
       ")"
      ]
     },
     "execution_count": 26,
     "metadata": {},
     "output_type": "execute_result"
    }
   ],
   "source": [
    "net.apply(check_grads)"
   ]
  },
  {
   "cell_type": "code",
   "execution_count": 80,
   "metadata": {
    "collapsed": true,
    "jupyter": {
     "outputs_hidden": true
    }
   },
   "outputs": [
    {
     "name": "stdout",
     "output_type": "stream",
     "text": [
      "Linear(in_features=784, out_features=256, bias=True)\n",
      "weight True\n",
      "bias True\n",
      "---\n",
      "Linear(in_features=256, out_features=128, bias=True)\n",
      "weight True\n",
      "bias True\n",
      "---\n",
      "Linear(in_features=128, out_features=64, bias=True)\n",
      "weight True\n",
      "bias True\n",
      "---\n",
      "Linear(in_features=64, out_features=10, bias=True)\n",
      "weight True\n",
      "bias True\n",
      "---\n"
     ]
    },
    {
     "data": {
      "text/plain": [
       "fmnist(\n",
       "  (net): Sequential(\n",
       "    (0): Sequential(\n",
       "      (0): Linear(in_features=784, out_features=256, bias=True)\n",
       "      (1): ReLU()\n",
       "    )\n",
       "    (1): Sequential(\n",
       "      (0): Linear(in_features=256, out_features=128, bias=True)\n",
       "      (1): ReLU()\n",
       "    )\n",
       "    (2): Sequential(\n",
       "      (0): Linear(in_features=128, out_features=64, bias=True)\n",
       "      (1): ReLU()\n",
       "    )\n",
       "    (3): Sequential(\n",
       "      (0): Linear(in_features=64, out_features=10, bias=True)\n",
       "      (1): ReLU()\n",
       "    )\n",
       "  )\n",
       ")"
      ]
     },
     "execution_count": 80,
     "metadata": {},
     "output_type": "execute_result"
    }
   ],
   "source": [
    "net.requires_grad_(True)\n",
    "net.apply(check_grads)"
   ]
  },
  {
   "cell_type": "code",
   "execution_count": 81,
   "metadata": {
    "collapsed": true,
    "jupyter": {
     "outputs_hidden": true
    }
   },
   "outputs": [
    {
     "name": "stdout",
     "output_type": "stream",
     "text": [
      "Linear(in_features=784, out_features=256, bias=True)\n",
      "weight False\n",
      "bias False\n",
      "---\n",
      "Linear(in_features=256, out_features=128, bias=True)\n",
      "weight True\n",
      "bias True\n",
      "---\n",
      "Linear(in_features=128, out_features=64, bias=True)\n",
      "weight True\n",
      "bias True\n",
      "---\n",
      "Linear(in_features=64, out_features=10, bias=True)\n",
      "weight True\n",
      "bias True\n",
      "---\n"
     ]
    },
    {
     "data": {
      "text/plain": [
       "fmnist(\n",
       "  (net): Sequential(\n",
       "    (0): Sequential(\n",
       "      (0): Linear(in_features=784, out_features=256, bias=True)\n",
       "      (1): ReLU()\n",
       "    )\n",
       "    (1): Sequential(\n",
       "      (0): Linear(in_features=256, out_features=128, bias=True)\n",
       "      (1): ReLU()\n",
       "    )\n",
       "    (2): Sequential(\n",
       "      (0): Linear(in_features=128, out_features=64, bias=True)\n",
       "      (1): ReLU()\n",
       "    )\n",
       "    (3): Sequential(\n",
       "      (0): Linear(in_features=64, out_features=10, bias=True)\n",
       "      (1): ReLU()\n",
       "    )\n",
       "  )\n",
       ")"
      ]
     },
     "execution_count": 81,
     "metadata": {},
     "output_type": "execute_result"
    }
   ],
   "source": [
    "net.net[0].requires_grad_(False)\n",
    "net.apply(check_grads)"
   ]
  },
  {
   "cell_type": "code",
   "execution_count": 27,
   "metadata": {},
   "outputs": [
    {
     "data": {
      "application/vnd.jupyter.widget-view+json": {
       "model_id": "d5d798bc58a54021a3853e94301bcb33",
       "version_major": 2,
       "version_minor": 0
      },
      "text/plain": [
       "HBox(children=(FloatProgress(value=0.0, max=30.0), HTML(value='')))"
      ]
     },
     "metadata": {},
     "output_type": "display_data"
    },
    {
     "name": "stdout",
     "output_type": "stream",
     "text": [
      "Epoch 0, loss = 1.4048190828897298\n",
      "Epoch 1, loss = 0.8482615954713273\n",
      "Epoch 2, loss = 0.7613793932107974\n",
      "Epoch 3, loss = 0.7173524464307818\n",
      "Epoch 4, loss = 0.6937250371998561\n",
      "Epoch 5, loss = 0.6618035814718906\n",
      "Epoch 6, loss = 0.6429053473192999\n",
      "Epoch 7, loss = 0.6360181961486588\n",
      "Epoch 8, loss = 0.6258048155605157\n",
      "Epoch 9, loss = 0.615583145637502\n",
      "Epoch 10, loss = 0.6119526306639856\n",
      "Epoch 11, loss = 0.5982606523136086\n",
      "Epoch 12, loss = 0.5940270219911644\n",
      "Epoch 13, loss = 0.5873031550124764\n",
      "Epoch 14, loss = 0.5854067704570827\n",
      "Epoch 15, loss = 0.5770609924661071\n",
      "Epoch 16, loss = 0.5764497048946332\n",
      "Epoch 17, loss = 0.5726941622841333\n",
      "Epoch 18, loss = 0.5689635866804164\n",
      "Epoch 19, loss = 0.5681720946325677\n",
      "Epoch 20, loss = 0.567217193083214\n",
      "Epoch 21, loss = 0.5618433960910036\n",
      "Epoch 22, loss = 0.5590123097334844\n",
      "Epoch 23, loss = 0.5634720226817294\n",
      "Epoch 24, loss = 0.560838850068131\n",
      "Epoch 25, loss = 0.5535537617356538\n",
      "Epoch 26, loss = 0.5568045254455192\n",
      "Epoch 27, loss = 0.5515233077474241\n",
      "Epoch 28, loss = 0.5513350822682828\n",
      "Epoch 29, loss = 0.5524823229227748\n",
      "\n",
      "CPU times: user 4min 45s, sys: 1.02 s, total: 4min 46s\n",
      "Wall time: 4min 41s\n"
     ]
    }
   ],
   "source": [
    "%%time\n",
    "# TODO: Train the network here\n",
    "N_EPOCH = 30\n",
    "\n",
    "# return back to requires grad\n",
    "net.requires_grad_(True);\n",
    "\n",
    "# create an optimizer\n",
    "optimizer = torch.optim.Adam(net.parameters())\n",
    "criterion = nn.NLLLoss()\n",
    "net.train()\n",
    "net.to(device)\n",
    "\n",
    "train_loss = []\n",
    "test_loss = []\n",
    "for epoch in tqdm(range(N_EPOCH)):\n",
    "    running_loss = 0\n",
    "    net.train()\n",
    "    for data, labels in trainloader:\n",
    "        optimizer.zero_grad()\n",
    "        out = net(data.to(device))\n",
    "        loss_item = criterion(out, labels.to(device))\n",
    "        loss_item.backward()\n",
    "        optimizer.step()\n",
    "        running_loss +=loss_item.item()\n",
    "    train_loss.append(running_loss/len(trainloader))\n",
    "    print(f'Epoch {epoch}, loss = {train_loss[-1]}')\n",
    "    \n",
    "    \n",
    "    net.eval()\n",
    "    with torch.no_grad():\n",
    "        # don't need a loop cos all in one batch\n",
    "        data, labels = next(iter(testloader))\n",
    "        ps = net(data.to(device))\n",
    "        test_loss.append(criterion(ps, labels.to(device)))\n",
    "        ps = torch.exp(ps)\n",
    "        _, predicted_classes = ps.max(dim=1)\n",
    "        predicted_classes = predicted_classes.to('cpu')\n",
    "        accuracy_score = sum(predicted_classes == labels).item()/len(labels)"
   ]
  },
  {
   "cell_type": "code",
   "execution_count": 92,
   "metadata": {},
   "outputs": [
    {
     "name": "stdout",
     "output_type": "stream",
     "text": [
      "Accuracy score for the network is 0.8508\n"
     ]
    },
    {
     "data": {
      "image/png": "[encoded data removed]",
      "text/plain": [
       "<Figure size 432x288 with 1 Axes>"
      ]
     },
     "metadata": {
      "image/png": {
       "height": 251,
       "width": 386
      },
      "needs_background": "light"
     },
     "output_type": "display_data"
    }
   ],
   "source": [
    "plt.plot(list(range(N_EPOCH)), test_loss, label='test')\n",
    "plt.plot(list(range(N_EPOCH)), train_loss, label='train')\n",
    "plt.legend(loc='best')\n",
    "print(f'Accuracy score for the network is {accuracy_score}')\n",
    "plt.show()"
   ]
  },
  {
   "cell_type": "markdown",
   "metadata": {},
   "source": [
    "### Calculate the accuracy "
   ]
  },
  {
   "cell_type": "code",
   "execution_count": 93,
   "metadata": {},
   "outputs": [
    {
     "name": "stdout",
     "output_type": "stream",
     "text": [
      "accuracy score = 0.85\n"
     ]
    }
   ],
   "source": [
    "with torch.no_grad():\n",
    "    net.to(device)\n",
    "    data, labels = next(iter(testloader))\n",
    "    predictions = torch.exp(net(data.to(device)))\n",
    "\n",
    "top_p, top_class = predictions.topk(1,dim=1)\n",
    "equals = top_class == labels.view(top_class.shape).to(device)\n",
    "accuracy_score = torch.mean(equals.type(torch.FloatTensor)).item()\n",
    "print(f'accuracy score = {accuracy_score:.2f}')"
   ]
  },
  {
   "cell_type": "code",
   "execution_count": 94,
   "metadata": {},
   "outputs": [
    {
     "name": "stdout",
     "output_type": "stream",
     "text": [
      "T-shirt/top : precision = 0.90 recall = 0.72\n",
      "    Trouser : precision = 0.96 recall = 1.00\n",
      "   Pullover : precision = 0.71 recall = 0.80\n",
      "      Dress : precision = 0.87 recall = 0.87\n",
      "       Coat : precision = 0.88 recall = 0.68\n",
      "     Sandal : precision = 0.92 recall = 0.97\n",
      "      Shirt : precision = 0.44 recall = 0.73\n",
      "    Sneaker : precision = 0.91 recall = 0.91\n",
      "        Bag : precision = 0.96 recall = 0.97\n",
      " Ankle boot : precision = 0.97 recall = 0.91\n"
     ]
    }
   ],
   "source": [
    "from sklearn.metrics import accuracy_score, precision_score, recall_score, f1_score\n",
    "for i in range(len(trainset.classes)):\n",
    "    print(f'{trainset.classes[i]:>11} : precision = {precision_score(predicted_classes==i, labels==i):.2f} \\\n",
    "recall = {recall_score(predicted_classes==i, labels==i):.2f}')"
   ]
  },
  {
   "cell_type": "code",
   "execution_count": 95,
   "metadata": {},
   "outputs": [
    {
     "data": {
      "image/png": "[encoded data removed]",
      "text/plain": [
       "<Figure size 432x648 with 2 Axes>"
      ]
     },
     "metadata": {
      "image/png": {
       "height": 216,
       "width": 424
      },
      "needs_background": "light"
     },
     "output_type": "display_data"
    }
   ],
   "source": [
    "%matplotlib inline\n",
    "%config InlineBackend.figure_format = 'retina'\n",
    "\n",
    "import helper\n",
    "\n",
    "# Test out your network!\n",
    "\n",
    "dataiter = iter(testloader)\n",
    "images, labels = dataiter.next()\n",
    "img = images[0]\n",
    "\n",
    "# TODO: Calculate the class probabilities (softmax) for img\n",
    "net.eval()\n",
    "with torch.no_grad():\n",
    "    ps = torch.exp(net(img.to(device)))\n",
    "\n",
    "# Plot the image and probabilities\n",
    "helper.view_classify(img.resize_(1, 28, 28), ps.to('cpu'), version='Fashion')"
   ]
  },
  {
   "cell_type": "code",
   "execution_count": null,
   "metadata": {},
   "outputs": [],
   "source": []
  }
 ],
 "metadata": {
  "kernelspec": {
   "display_name": "Python 3",
   "language": "python",
   "name": "python3"
  },
  "language_info": {
   "codemirror_mode": {
    "name": "ipython",
    "version": 3
   },
   "file_extension": ".py",
   "mimetype": "text/x-python",
   "name": "python",
   "nbconvert_exporter": "python",
   "pygments_lexer": "ipython3",
   "version": "3.6.9"
  }
 },
 "nbformat": 4,
 "nbformat_minor": 4
}
